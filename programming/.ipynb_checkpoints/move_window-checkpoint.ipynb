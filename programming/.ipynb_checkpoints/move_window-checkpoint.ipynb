{
 "cells": [
  {
   "cell_type": "code",
   "execution_count": 1,
   "metadata": {
    "collapsed": true
   },
   "outputs": [],
   "source": [
    "import numpy as np\n",
    "import matplotlib.pyplot as plt"
   ]
  },
  {
   "cell_type": "code",
   "execution_count": 46,
   "metadata": {
    "collapsed": false
   },
   "outputs": [
    {
     "name": "stdout",
     "output_type": "stream",
     "text": [
      "input size window: 3\n",
      "[18 19 24 44 45 21 31  3 42 20  9 16 41 32 16 35 46 20 19 44  4 43 40 49 28\n",
      " 27 12 15 30 36 32 15  7 29 42  6 32  9 21  3 14  0 17 39 40 26 33 45  7 20]\n"
     ]
    }
   ],
   "source": [
    "data = np.random.randint(50, size =(50))\n",
    "size = int(raw_input('input size window: '))\n",
    "print data"
   ]
  },
  {
   "cell_type": "code",
   "execution_count": 47,
   "metadata": {
    "collapsed": true
   },
   "outputs": [],
   "source": [
    "def move_window(arr,size_win):\n",
    "    temp = range(len(arr)-(size_win/2)*2)\n",
    "    return np.array(map(lambda x:np.average(arr[x:size_win+x]),temp))"
   ]
  },
  {
   "cell_type": "code",
   "execution_count": 48,
   "metadata": {
    "collapsed": false
   },
   "outputs": [
    {
     "data": {
      "image/png": "[encoded data removed]",
      "text/plain": [
       "<matplotlib.figure.Figure at 0x7f235df5a750>"
      ]
     },
     "metadata": {},
     "output_type": "display_data"
    },
    {
     "name": "stdout",
     "output_type": "stream",
     "text": [
      "[ 20.33333333  29.          37.66666667  36.66666667  32.33333333\n",
      "  18.33333333  25.33333333  21.66666667  23.66666667  15.          22.\n",
      "  29.66666667  29.66666667  27.66666667  32.33333333  33.66666667\n",
      "  28.33333333  27.66666667  22.33333333  30.33333333  29.          44.          39.\n",
      "  34.66666667  22.33333333  18.          19.          27.          32.66666667\n",
      "  27.66666667  18.          17.          26.          25.66666667\n",
      "  26.66666667  15.66666667  20.66666667  11.          12.66666667\n",
      "   5.66666667  10.33333333  18.66666667  32.          35.          33.\n",
      "  34.66666667  28.33333333  24.        ]\n",
      "[18 19 24 44 45 21 31  3 42 20  9 16 41 32 16 35 46 20 19 44  4 43 40 49 28\n",
      " 27 12 15 30 36 32 15  7 29 42  6 32  9 21  3 14  0 17 39 40 26 33 45  7 20]\n"
     ]
    }
   ],
   "source": [
    "%matplotlib inline\n",
    "arr = move_window(data,size)\n",
    "fig = plt.figure()\n",
    "ax1 = fig.add_subplot(1,2,1)\n",
    "ax2 = fig.add_subplot(1,2,2)\n",
    "ax1.hist(arr)\n",
    "ax2.hist(data)\n",
    "plt.show()\n",
    "print arr\n",
    "print data"
   ]
  },
  {
   "cell_type": "code",
   "execution_count": null,
   "metadata": {
    "collapsed": true
   },
   "outputs": [],
   "source": []
  }
 ],
 "metadata": {
  "kernelspec": {
   "display_name": "Python 2",
   "language": "python",
   "name": "python2"
  },
  "language_info": {
   "codemirror_mode": {
    "name": "ipython",
    "version": 2
   },
   "file_extension": ".py",
   "mimetype": "text/x-python",
   "name": "python",
   "nbconvert_exporter": "python",
   "pygments_lexer": "ipython2",
   "version": "2.7.12"
  }
 },
 "nbformat": 4,
 "nbformat_minor": 1
}
