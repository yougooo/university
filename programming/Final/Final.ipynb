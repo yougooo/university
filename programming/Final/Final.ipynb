{
 "cells": [
  {
   "cell_type": "code",
   "execution_count": 1,
   "metadata": {
    "collapsed": true
   },
   "outputs": [],
   "source": [
    "import math\n",
    "import matplotlib.pyplot as plt\n",
    "import seaborn as sns; sns.set()\n",
    "import numpy as np"
   ]
  },
  {
   "cell_type": "code",
   "execution_count": 5,
   "metadata": {
    "collapsed": false
   },
   "outputs": [
    {
     "name": "stdout",
     "output_type": "stream",
     "text": [
      "Test1:  True\n",
      "Test2:  True\n",
      "Test3:  True\n"
     ]
    }
   ],
   "source": [
    "#\n",
    "#Compute Deriviation\n",
    "#\n",
    "\n",
    "def computeDeriv(poly):\n",
    "    '''\n",
    "    Computes and returns the derivative of a polynomial function as a list of\n",
    "    floats. If the derivative is 0, returns [0.0].\n",
    " \n",
    "    poly: list of numbers, length &gt; 0\n",
    "    returns: list of numbers (floats)\n",
    "    '''\n",
    "    if len(poly) == 1:\n",
    "        return [0.0]\n",
    "    return map(lambda x: float(x)*poly[x], range(len(poly)))[1:]\n",
    "       \n",
    "\n",
    "\n",
    "print \"Test1: \",computeDeriv([-13.39, 0.0, 17.5, 3.0, 1.0]) == [0.0, 35.0, 9.0, 4.0]\n",
    "print \"Test2: \",computeDeriv([6, 1, 3, 0]) == [1.0, 6.0, 0.0]\n",
    "print \"Test3: \",computeDeriv([20]) == [0.0]"
   ]
  },
  {
   "cell_type": "code",
   "execution_count": 10,
   "metadata": {
    "collapsed": false
   },
   "outputs": [
    {
     "name": "stdout",
     "output_type": "stream",
     "text": [
      "Test1:  True\n",
      "Test2:  True\n",
      "Test3:  True\n",
      "Test4:  True\n"
     ]
    }
   ],
   "source": [
    "#\n",
    "#Radiation Exposure\n",
    "#\n",
    "\n",
    "def f(x):\n",
    "    '''\n",
    "    There is a function f that will be defined for you\n",
    "    that you can call from within your function that describes\n",
    "    the radioactive decay curve for the problem.\n",
    "    x: integer, evaluate x in point observed\n",
    "    returned: float, the amount of radiation exposed at x\n",
    "    '''\n",
    "    return 10*math.e**(math.log(0.5)/5.27 * x)\n",
    "\n",
    "def radiationExposure(start, stop, step):\n",
    "    '''\n",
    "    Computes and returns the amount of radiation exposed\n",
    "    to between the start and stop times. Calls the \n",
    "    function f (defined for you in the grading script)\n",
    "    to obtain the value of the function at any point.\n",
    " \n",
    "    start: integer, the time at which exposure begins\n",
    "    stop: integer, the time at which exposure ends\n",
    "    step: float, the width of each rectangle. You can assume that\n",
    "      the step size will always partition the space evenly.\n",
    "\n",
    "    returns: float, the amount of radiation exposed to \n",
    "      between start and stop times.\n",
    "    '''\n",
    "    return sum([f(i)*step for i in np.arange(start, stop, step)])\n",
    "\n",
    "temp = []\n",
    "def radiationExposure_recur(start, stop, step):\n",
    "    temp.append(f(start)*step)\n",
    "    if start <= stop:\n",
    "        return radiationExposure_recur(start+step, stop, step)\n",
    "    return sum(temp)\n",
    "\n",
    "    \n",
    "print \"Test1: \",round(radiationExposure(0, 5, 1),2) == round(39.10318784326239,2)\n",
    "print \"Test2: \",round(radiationExposure(5, 11, 1),2) == round(22.94241041057671,2)\n",
    "print \"Test3: \",round(radiationExposure(0, 11, 1),2) == round(62.0455982538,2)\n",
    "print \"Test4: \",round(radiationExposure_recur(40, 100, 1.5),2) == round(0.434612356115,2)"
   ]
  },
  {
   "cell_type": "code",
   "execution_count": null,
   "metadata": {
    "collapsed": true
   },
   "outputs": [],
   "source": []
  },
  {
   "cell_type": "code",
   "execution_count": 44,
   "metadata": {
    "collapsed": false
   },
   "outputs": [
    {
     "name": "stdout",
     "output_type": "stream",
     "text": [
      "Test1:  True\n",
      "Test2:  True\n",
      "At the [ADJ] thrift [NOUN] I [VERB] a pair of [ADJ] [NOUN] that [VERB] like [NOUN] your [NOUN] might wear\n"
     ]
    }
   ],
   "source": [
    "import re\n",
    "#\n",
    "#Mad-Libs Form\n",
    "\n",
    "\n",
    "\n",
    "def generateForm(story, listOfAdjs, listOfNouns, listOfVerbs):\n",
    "    \"\"\" \n",
    "    story: a string containing sentences\n",
    "    listOfAdjs: a list of valid adjectives\n",
    "    listOfNouns: a list of valid nouns\n",
    "    listOfVerbs: a list of valid verbs\n",
    "\n",
    "    For each word in story that is in one of the lists,\n",
    "    * replace it with the string '[ADJ]' if the word is in listOfAdjs\n",
    "    * replace it with the string '[VERB]' if the word is in listOfVerbs\n",
    "    * replace it with the string '[NOUN]' if the word is in listOfNouns\n",
    "\n",
    "    returns: string, A Mad-Libs form of the story. \n",
    "    \"\"\" \n",
    "    dic = {'[ADJ]':listOfAdjs,'[VERB]':listOfVerbs,'[NOUN]':listOfNouns}\n",
    "    story = re.sub(\"|\".join(dic['[ADJ]']),'[ADJ]', story)\n",
    "    story = re.sub(\"|\".join(dic['[VERB]']),'[VERB]', story)\n",
    "    story = re.sub(\"|\".join(dic['[NOUN]']),'[NOUN]', story)\n",
    "    return story   \n",
    "    \n",
    "story = 'The ravenous zombies started attacking yesterday'\n",
    "listOfAdjs = ['ravenous']\n",
    "listOfNouns = ['zombies', 'humans', 'yesterday']\n",
    "listOfVerbs = ['attacking', 'attacks']\n",
    "\n",
    "print \"Test1: \",(generateForm(story, listOfAdjs, listOfNouns, listOfVerbs)).rstrip() == \"The [ADJ] [NOUN] started [VERB] [NOUN]\"\n",
    "\n",
    "story = 'At the creepy thrift store I found a pair of plaid pants that looked like something your grandpa might wear'\n",
    "listOfAdjs = ['creepy', 'plaid']\n",
    "listOfNouns = ['store', 'pants', 'something', 'grandpa']\n",
    "listOfVerbs = ['found', 'looked']\n",
    "print \"Test2: \",(generateForm(story, listOfAdjs, listOfNouns, listOfVerbs)).rstrip() == \"At the [ADJ] thrift [NOUN] I [VERB] a pair of [ADJ] [NOUN] that [VERB] like [NOUN] your [NOUN] might wear\"\n",
    "\n",
    "print generateForm(story, listOfAdjs, listOfNouns, listOfVerbs)"
   ]
  },
  {
   "cell_type": "code",
   "execution_count": 2,
   "metadata": {
    "collapsed": false
   },
   "outputs": [
    {
     "ename": "AttributeError",
     "evalue": "'module' object has no attribute 'xrange'",
     "output_type": "error",
     "traceback": [
      "\u001b[0;31m---------------------------------------------------------------------------\u001b[0m",
      "\u001b[0;31mAttributeError\u001b[0m                            Traceback (most recent call last)",
      "\u001b[0;32m<ipython-input-2-364682fe8223>\u001b[0m in \u001b[0;36m<module>\u001b[0;34m()\u001b[0m\n\u001b[0;32m----> 1\u001b[0;31m \u001b[0mnp\u001b[0m\u001b[0;34m.\u001b[0m\u001b[0mxrange\u001b[0m\u001b[0;34m(\u001b[0m\u001b[0;34m)\u001b[0m\u001b[0;34m\u001b[0m\u001b[0m\n\u001b[0m",
      "\u001b[0;31mAttributeError\u001b[0m: 'module' object has no attribute 'xrange'"
     ]
    }
   ],
   "source": [
    "np.xrange()"
   ]
  },
  {
   "cell_type": "code",
   "execution_count": 5,
   "metadata": {
    "collapsed": false
   },
   "outputs": [
    {
     "data": {
      "text/plain": [
       "array([1, 2, 3, 4, 5, 6, 7, 8, 9])"
      ]
     },
     "execution_count": 5,
     "metadata": {},
     "output_type": "execute_result"
    }
   ],
   "source": [
    "c(1,10,1)"
   ]
  },
  {
   "cell_type": "code",
   "execution_count": null,
   "metadata": {
    "collapsed": true
   },
   "outputs": [],
   "source": []
  }
 ],
 "metadata": {
  "kernelspec": {
   "display_name": "Python 2",
   "language": "python",
   "name": "python2"
  },
  "language_info": {
   "codemirror_mode": {
    "name": "ipython",
    "version": 2
   },
   "file_extension": ".py",
   "mimetype": "text/x-python",
   "name": "python",
   "nbconvert_exporter": "python",
   "pygments_lexer": "ipython2",
   "version": "2.7.12"
  }
 },
 "nbformat": 4,
 "nbformat_minor": 1
}
