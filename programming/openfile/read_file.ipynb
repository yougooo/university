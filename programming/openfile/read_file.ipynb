{
 "cells": [
  {
   "cell_type": "markdown",
   "metadata": {},
   "source": [
    "Заданий текстовий файл, який має в середині такі поля: n x y z name. n – int, x – int, y – int, z – int, name – str.  Кількість записів не повинно мати значення.\n",
    "Напишіть функцію myRead(), яка приймає один аргумент, fileName, і повертає вміст файлу у вигляді словника. Ключами словника повинні бути імена рядків, тобто кожен рядок файлу записується у словник за власним ключем, яким слугує name рядка (ключ – name з відповідного рядку). Зверніть увагу, що перший рядок файлу містить заголовок, а останній рядок містить службову інформацію. Крім того ви повинні організувати перехоплення помилок при відкритті файлу. Виведіть результат зчитування по ключах."
   ]
  },
  {
   "cell_type": "code",
   "execution_count": 1,
   "metadata": {
    "collapsed": true
   },
   "outputs": [],
   "source": [
    "import re"
   ]
  },
  {
   "cell_type": "code",
   "execution_count": 5,
   "metadata": {
    "collapsed": false
   },
   "outputs": [
    {
     "name": "stdout",
     "output_type": "stream",
     "text": [
      "Enter file name: mydate.txt\n"
     ]
    }
   ],
   "source": [
    "fileName = raw_input(r'Enter file name: ') "
   ]
  },
  {
   "cell_type": "code",
   "execution_count": 11,
   "metadata": {
    "collapsed": true
   },
   "outputs": [],
   "source": [
    "def myRead(fileName):\n",
    "    dic = {}\n",
    "    try:\n",
    "        f = open(fileName,'rU')\n",
    "    except:\n",
    "        print 'file not found'\n",
    "        exit()\n",
    "    else:\n",
    "        f.next() # read first line\n",
    "        while 1:\n",
    "            # it can be more flexible, but now this regex just \n",
    "            # find 4 int number(group 1) after 1 str(group 2)\n",
    "            match = re.search('(\\d+ \\d+ \\d+ \\d+) (\\w+)',f.next())\n",
    "            # and my wey solve multiple key problem it is use list.\n",
    "            if match:\n",
    "                if dic.has_key(match.group(2)):\n",
    "                    dic[match.group(2)].append(tuple(map(lambda x: int(x),match.group(1).split())))\n",
    "                else:\n",
    "                    dic[match.group(2)] = [tuple(map(lambda x: int(x),match.group(1).split()))]\n",
    "            else:\n",
    "                break\n",
    "    return dic"
   ]
  },
  {
   "cell_type": "code",
   "execution_count": 10,
   "metadata": {
    "collapsed": false
   },
   "outputs": [
    {
     "data": {
      "text/plain": [
       "{'devid': [(7, 12, 71, 23)],\n",
       " 'eric': [(3, 34, 234, 11)],\n",
       " 'henrik': [(9, 34, 234, 11)],\n",
       " 'igor': [(5, 56, 124, 53)],\n",
       " 'john': [(1, 23, 345, 34), (2, 24, 345, 32), (8, 24, 345, 32)],\n",
       " 'monika': [(6, 21, 412, 35)],\n",
       " 'robert': [(11, 56, 124, 53)],\n",
       " 'samanta': [(12, 21, 412, 35)],\n",
       " 'sara': [(10, 56, 123, 56)],\n",
       " 'suzi': [(4, 56, 123, 56)]}"
      ]
     },
     "execution_count": 10,
     "metadata": {},
     "output_type": "execute_result"
    }
   ],
   "source": [
    "myRead(fileName)"
   ]
  },
  {
   "cell_type": "code",
   "execution_count": null,
   "metadata": {
    "collapsed": true
   },
   "outputs": [],
   "source": []
  }
 ],
 "metadata": {
  "kernelspec": {
   "display_name": "Python 2",
   "language": "python",
   "name": "python2"
  },
  "language_info": {
   "codemirror_mode": {
    "name": "ipython",
    "version": 2
   },
   "file_extension": ".py",
   "mimetype": "text/x-python",
   "name": "python",
   "nbconvert_exporter": "python",
   "pygments_lexer": "ipython2",
   "version": "2.7.12"
  }
 },
 "nbformat": 4,
 "nbformat_minor": 1
}
