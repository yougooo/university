{
 "cells": [
  {
   "cell_type": "code",
   "execution_count": 3,
   "metadata": {
    "collapsed": false
   },
   "outputs": [],
   "source": [
    "import numpy as np\n",
    "import matplotlib.pyplot as plt\n"
   ]
  },
  {
   "cell_type": "code",
   "execution_count": 4,
   "metadata": {
    "collapsed": false
   },
   "outputs": [
    {
     "name": "stdout",
     "output_type": "stream",
     "text": [
      "input size window: 7\n"
     ]
    }
   ],
   "source": [
    "# only non-pair number for variable size\n",
    "data = np.random.randint(50, size =(50))\n",
    "size = int(raw_input('input size window: '))"
   ]
  },
  {
   "cell_type": "code",
   "execution_count": 5,
   "metadata": {
    "collapsed": false
   },
   "outputs": [
    {
     "ename": "SyntaxError",
     "evalue": "invalid syntax (<ipython-input-5-d3f106c67d44>, line 14)",
     "output_type": "error",
     "traceback": [
      "\u001b[0;36m  File \u001b[0;32m\"<ipython-input-5-d3f106c67d44>\"\u001b[0;36m, line \u001b[0;32m14\u001b[0m\n\u001b[0;31m    return map(lambda x: np.median(arr[[[x:size+x]]]),iterator)\u001b[0m\n\u001b[0m                                          ^\u001b[0m\n\u001b[0;31mSyntaxError\u001b[0m\u001b[0;31m:\u001b[0m invalid syntax\n"
     ]
    }
   ],
   "source": [
    "def round_loop(arr,size):\n",
    "    counter = 0\n",
    "    temp = size-1\n",
    "    counter_arr = range(len(arr)-1)\n",
    "    num_arr = np.array(range(len(arr)-1), dtype=np.int32)\n",
    "   # num_arr = range(len(arr)-1) \n",
    "    iterator = range(len(arr)-temp)\n",
    "    arr = np.array(arr)\n",
    "    num_arr map(lambda x: np.median(arr[x:size+x]),iterator)\n",
    "    \n",
    "def move_window_mean(arr,size_win):\n",
    "    temp = range(len(arr)-(size_win/2)*2)\n",
    "    temp = np.array(map(lambda x:np.mean(arr[x:size_win+x]),temp))\n",
    "    return temp\n",
    "\n",
    "def move_window_median(arr,size_win):\n",
    "    temp = range(len(arr)-(size_win/2)*2)\n",
    "    return np.array(map(lambda x:np.median(arr[x:size_win+x]),temp))"
   ]
  },
  {
   "cell_type": "code",
   "execution_count": 6,
   "metadata": {
    "collapsed": false
   },
   "outputs": [
    {
     "ename": "NameError",
     "evalue": "name 'move_window_mean' is not defined",
     "output_type": "error",
     "traceback": [
      "\u001b[0;31m---------------------------------------------------------------------------\u001b[0m",
      "\u001b[0;31mNameError\u001b[0m                                 Traceback (most recent call last)",
      "\u001b[0;32m<ipython-input-6-b372e3ba0252>\u001b[0m in \u001b[0;36m<module>\u001b[0;34m()\u001b[0m\n\u001b[1;32m      2\u001b[0m \u001b[0mplt\u001b[0m\u001b[0;34m.\u001b[0m\u001b[0mrcParams\u001b[0m\u001b[0;34m[\u001b[0m\u001b[0;34m'figure.figsize'\u001b[0m\u001b[0;34m]\u001b[0m \u001b[0;34m=\u001b[0m \u001b[0;34m(\u001b[0m\u001b[0;36m20.0\u001b[0m\u001b[0;34m,\u001b[0m \u001b[0;36m10.0\u001b[0m\u001b[0;34m)\u001b[0m\u001b[0;34m\u001b[0m\u001b[0m\n\u001b[1;32m      3\u001b[0m \u001b[0;34m\u001b[0m\u001b[0m\n\u001b[0;32m----> 4\u001b[0;31m \u001b[0marr\u001b[0m \u001b[0;34m=\u001b[0m \u001b[0mmove_window_mean\u001b[0m\u001b[0;34m(\u001b[0m\u001b[0mdata\u001b[0m\u001b[0;34m,\u001b[0m\u001b[0msize\u001b[0m\u001b[0;34m)\u001b[0m\u001b[0;34m\u001b[0m\u001b[0m\n\u001b[0m\u001b[1;32m      5\u001b[0m \u001b[0marr_1\u001b[0m \u001b[0;34m=\u001b[0m \u001b[0mmove_window_median\u001b[0m\u001b[0;34m(\u001b[0m\u001b[0mdata\u001b[0m\u001b[0;34m,\u001b[0m\u001b[0msize\u001b[0m\u001b[0;34m)\u001b[0m\u001b[0;34m\u001b[0m\u001b[0m\n\u001b[1;32m      6\u001b[0m \u001b[0marr_2\u001b[0m \u001b[0;34m=\u001b[0m \u001b[0mround_loop\u001b[0m\u001b[0;34m(\u001b[0m\u001b[0mdata\u001b[0m\u001b[0;34m,\u001b[0m\u001b[0msize\u001b[0m\u001b[0;34m)\u001b[0m\u001b[0;34m\u001b[0m\u001b[0m\n",
      "\u001b[0;31mNameError\u001b[0m: name 'move_window_mean' is not defined"
     ]
    }
   ],
   "source": [
    "%matplotlib inline\n",
    "plt.rcParams['figure.figsize'] = (20.0, 10.0)\n",
    "\n",
    "arr = move_window_mean(data,size)\n",
    "arr_1 = move_window_median(data,size)\n",
    "arr_2 = round_loop(data,size)\n",
    "\n",
    "fig = plt.figure()\n",
    "\n",
    "ax1 = fig.add_subplot(1,3,1)\n",
    "ax2 = fig.add_subplot(1,3,2)\n",
    "ax3 = fig.add_subplot(1,3,3)\n",
    "\n",
    "ax1.plot(data)\n",
    "ax2.plot(arr,label='window_mean')\n",
    "ax3.plot(arr_2)\n",
    "\n",
    "ax1.legend(loc = 'best')\n",
    "ax2.legend(loc = 'best')\n",
    "ax3.legend(loc = 'best')\n",
    "\n",
    "\n",
    "plt.show()\n",
    "print data\n",
    "print len(arr_1)\n",
    "print(arr_2)"
   ]
  },
  {
   "cell_type": "code",
   "execution_count": 148,
   "metadata": {
    "collapsed": false
   },
   "outputs": [
    {
     "data": {
      "text/plain": [
       "array([19,  0, 19, 18,  1,  0,  0,  1,  2,  3,  4,  5,  6,  7,  8,  9, 10,\n",
       "       11, 12, 13, 14, 15, 16, 17, 18, 19,  0, 16, 17, 18, 19,  0,  1, 17,\n",
       "       18, 19])"
      ]
     },
     "execution_count": 148,
     "metadata": {},
     "output_type": "execute_result"
    }
   ],
   "source": [
    "# quick test, how it is work in def round_loop\n",
    "\n",
    "num_arr = np.array(range(20),dtype=np.int32)\n",
    "arr1 = range(20)\n",
    "for i in list(xrange(0,4)):\n",
    "    if i >= 2:\n",
    "        num_arr = num_arr[::-1]\n",
    "        num_arr = np.append(num_arr, [[arr1[:4-i]]])\n",
    "        num_arr = np.append(num_arr, [[arr1[len(arr1)-4+i:len(arr1)]]])\n",
    "        num_arr = num_arr[::-1]\n",
    "    else:\n",
    "        num_arr = np.append(num_arr, [[arr1[:1+i]]])\n",
    "        num_arr = np.append(num_arr, [[arr1[len(arr1)-4+i:len(arr1)]]])\n",
    "    \n",
    "num_arr"
   ]
  },
  {
   "cell_type": "code",
   "execution_count": null,
   "metadata": {
    "collapsed": true
   },
   "outputs": [],
   "source": []
  }
 ],
 "metadata": {
  "kernelspec": {
   "display_name": "Python 2",
   "language": "python",
   "name": "python2"
  },
  "language_info": {
   "codemirror_mode": {
    "name": "ipython",
    "version": 2
   },
   "file_extension": ".py",
   "mimetype": "text/x-python",
   "name": "python",
   "nbconvert_exporter": "python",
   "pygments_lexer": "ipython2",
   "version": "2.7.12"
  }
 },
 "nbformat": 4,
 "nbformat_minor": 1
}
