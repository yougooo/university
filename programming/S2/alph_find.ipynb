{
 "cells": [
  {
   "cell_type": "markdown",
   "metadata": {},
   "source": [
    "Алфавітні підрядки\n",
    "Припустимо s - це рядок в нижньому регістрі (малими літерами).\n",
    "Написати програму, яка виводить найдовший підрядок з s, в якому літери впорядковані в алфавітному порядку. Наприклад, якщо s = 'azcbobobegghakl', то ваша програма повинна друкувати\n",
    "Longest substring in alphabetical order is: beggh\n",
    "Одна з умов така, що необхідно надрукувати перший підрядок. Наприклад, якщо s = 'abcbcd', то ваша програма повинна друкувати\n",
    "Longest substring in alphabetical order is: abc\n"
   ]
  },
  {
   "cell_type": "code",
   "execution_count": null,
   "metadata": {
    "collapsed": true
   },
   "outputs": [],
   "source": [
    "# work version "
   ]
  },
  {
   "cell_type": "code",
   "execution_count": 2,
   "metadata": {
    "collapsed": true
   },
   "outputs": [],
   "source": [
    "import re\n",
    "import string "
   ]
  },
  {
   "cell_type": "code",
   "execution_count": 3,
   "metadata": {
    "collapsed": false
   },
   "outputs": [],
   "source": [
    "alph = string.ascii_lowercase\n",
    "data = 'azcbobobegghakl'"
   ]
  },
  {
   "cell_type": "code",
   "execution_count": 4,
   "metadata": {
    "collapsed": false
   },
   "outputs": [
    {
     "name": "stdout",
     "output_type": "stream",
     "text": [
      "['a', 'z', 'c', 'b', 'o', 'b', 'o', 'b', 'e', 'g', 'g', 'h', 'a', 'k', 'l']\n",
      "abcdefghijklmnopqrstuvwxyz\n"
     ]
    }
   ],
   "source": [
    "one = re.findall('[a-z]',data)\n",
    "print one\n",
    "print alph"
   ]
  },
  {
   "cell_type": "code",
   "execution_count": 5,
   "metadata": {
    "collapsed": false
   },
   "outputs": [
    {
     "name": "stdout",
     "output_type": "stream",
     "text": [
      "[97, 122, 99, 98, 111, 98, 111, 98, 101, 103, 103, 104, 97, 107, 108]\n"
     ]
    }
   ],
   "source": [
    "# take char value \n",
    "temp = []\n",
    "for char in one:\n",
    "    temp.append(ord(char))\n",
    "print temp"
   ]
  },
  {
   "cell_type": "code",
   "execution_count": 12,
   "metadata": {
    "collapsed": false
   },
   "outputs": [],
   "source": [
    "new_data = []\n",
    "final_data = []\n",
    "temp_str = ''\n",
    "for i in range(len(one)):\n",
    "    if i == len(one) -1:\n",
    "        if one[i-1] <= one[i]:\n",
    "            temp_str = temp_str + temp_str.join(one[i])\n",
    "        break\n",
    "    elif one[i] <= one[i+1]:\n",
    "        temp_str = temp_str + temp_str.join(one[i])\n",
    "    elif one[i] > one[i+1]:\n",
    "        temp_str = temp_str + temp_str.join(one[i])\n",
    "        temp_str = temp_str + temp_str.join(' ')\n",
    "   \n"
   ]
  },
  {
   "cell_type": "code",
   "execution_count": 13,
   "metadata": {
    "collapsed": false
   },
   "outputs": [
    {
     "name": "stdout",
     "output_type": "stream",
     "text": [
      "az c bo bo beggh akl\n"
     ]
    }
   ],
   "source": [
    "print temp_str"
   ]
  },
  {
   "cell_type": "code",
   "execution_count": 14,
   "metadata": {
    "collapsed": false
   },
   "outputs": [],
   "source": [
    "sec = temp_str.split()"
   ]
  },
  {
   "cell_type": "code",
   "execution_count": 15,
   "metadata": {
    "collapsed": false
   },
   "outputs": [
    {
     "data": {
      "text/plain": [
       "['az', 'c', 'bo', 'bo', 'beggh', 'akl']"
      ]
     },
     "execution_count": 15,
     "metadata": {},
     "output_type": "execute_result"
    }
   ],
   "source": [
    "sec"
   ]
  },
  {
   "cell_type": "code",
   "execution_count": 16,
   "metadata": {
    "collapsed": false
   },
   "outputs": [
    {
     "name": "stdout",
     "output_type": "stream",
     "text": [
      "[2, 1, 2, 2, 5, 3]\n"
     ]
    }
   ],
   "source": [
    "dat = []\n",
    "for i in sec:\n",
    "    dat.append(len(i))\n",
    "print dat"
   ]
  },
  {
   "cell_type": "code",
   "execution_count": 17,
   "metadata": {
    "collapsed": false
   },
   "outputs": [
    {
     "name": "stdout",
     "output_type": "stream",
     "text": [
      "Longest substring in alphabetical order is: beggh\n"
     ]
    }
   ],
   "source": [
    "print 'Longest substring in alphabetical order is: {0}'.format(sec[dat.index(max(dat))])"
   ]
  }
 ],
 "metadata": {
  "kernelspec": {
   "display_name": "Python 2",
   "language": "python",
   "name": "python2"
  },
  "language_info": {
   "codemirror_mode": {
    "name": "ipython",
    "version": 2
   },
   "file_extension": ".py",
   "mimetype": "text/x-python",
   "name": "python",
   "nbconvert_exporter": "python",
   "pygments_lexer": "ipython2",
   "version": "2.7.12"
  }
 },
 "nbformat": 4,
 "nbformat_minor": 1
}
