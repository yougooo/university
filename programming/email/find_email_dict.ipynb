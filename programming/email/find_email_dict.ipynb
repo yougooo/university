{
 "cells": [
  {
   "cell_type": "code",
   "execution_count": 1,
   "metadata": {
    "collapsed": true
   },
   "outputs": [],
   "source": [
    "import re"
   ]
  },
  {
   "cell_type": "code",
   "execution_count": 2,
   "metadata": {
    "collapsed": true
   },
   "outputs": [],
   "source": [
    "f = open(r'/home/alex/Download/mbox-short.txt','rU')\n",
    "data = f.read()\n",
    "f.close()"
   ]
  },
  {
   "cell_type": "code",
   "execution_count": 9,
   "metadata": {
    "collapsed": true
   },
   "outputs": [],
   "source": [
    "parse = lambda addres,st: len(re.findall(addres,st))"
   ]
  },
  {
   "cell_type": "code",
   "execution_count": 10,
   "metadata": {
    "collapsed": true
   },
   "outputs": [],
   "source": [
    "def email(st):\n",
    "    temp_dic = {}\n",
    "    data = re.findall('From ([\\w\\.]+@[\\w\\.]+)',st)\n",
    "    data_str = \" \".join(data)\n",
    "    for address in data:\n",
    "        temp_dic[address] = parse(address,data_str)\n",
    "    return temp_dic"
   ]
  },
  {
   "cell_type": "code",
   "execution_count": 11,
   "metadata": {
    "collapsed": false
   },
   "outputs": [
    {
     "data": {
      "text/plain": [
       "{'antranig@caret.cam.ac.uk': 1,\n",
       " 'cwen@iupui.edu': 5,\n",
       " 'david.horwitz@uct.ac.za': 4,\n",
       " 'gopal.ramasammycook@gmail.com': 1,\n",
       " 'gsilver@umich.edu': 3,\n",
       " 'louis@media.berkeley.edu': 3,\n",
       " 'ray@media.berkeley.edu': 1,\n",
       " 'rjlowe@iupui.edu': 2,\n",
       " 'stephen.marquard@uct.ac.za': 2,\n",
       " 'wagnermr@iupui.edu': 1,\n",
       " 'zqian@umich.edu': 4}"
      ]
     },
     "execution_count": 11,
     "metadata": {},
     "output_type": "execute_result"
    }
   ],
   "source": [
    "email(data)"
   ]
  },
  {
   "cell_type": "code",
   "execution_count": null,
   "metadata": {
    "collapsed": true
   },
   "outputs": [],
   "source": []
  }
 ],
 "metadata": {
  "kernelspec": {
   "display_name": "Python 2",
   "language": "python",
   "name": "python2"
  },
  "language_info": {
   "codemirror_mode": {
    "name": "ipython",
    "version": 2
   },
   "file_extension": ".py",
   "mimetype": "text/x-python",
   "name": "python",
   "nbconvert_exporter": "python",
   "pygments_lexer": "ipython2",
   "version": "2.7.12"
  }
 },
 "nbformat": 4,
 "nbformat_minor": 1
}
