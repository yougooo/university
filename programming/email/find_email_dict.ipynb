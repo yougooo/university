{
 "cells": [
  {
   "cell_type": "code",
   "execution_count": 1,
   "metadata": {
    "collapsed": true
   },
   "outputs": [],
   "source": [
    "import re"
   ]
  },
  {
   "cell_type": "code",
   "execution_count": 2,
   "metadata": {
    "collapsed": true
   },
   "outputs": [],
   "source": [
    "f = open(r'/home/alex/Download/mbox-short.txt','rU')\n",
    "data = f.read()\n",
    "f.close()"
   ]
  },
  {
   "cell_type": "code",
   "execution_count": 4,
   "metadata": {
    "collapsed": true
   },
   "outputs": [],
   "source": [
    "parse = lambda addres,st: (re.findall(addres,st))"
   ]
  },
  {
   "cell_type": "code",
   "execution_count": 7,
   "metadata": {
    "collapsed": true
   },
   "outputs": [],
   "source": [
    "def email(st):\n",
    "    temp_dic = {}\n",
    "    data = re.findall('From ([\\w\\.]+@[\\w\\.]+)',st)\n",
    "    data_str = \" \".join(data)\n",
    "    for address in data:\n",
    "        temp_dic[address] = parse(address,data_str)\n",
    "    return temp_dic"
   ]
  },
  {
   "cell_type": "code",
   "execution_count": 8,
   "metadata": {
    "collapsed": false
   },
   "outputs": [
    {
     "data": {
      "text/plain": [
       "{'antranig@caret.cam.ac.uk': ['antranig@caret.cam.ac.uk'],\n",
       " 'cwen@iupui.edu': ['cwen@iupui.edu',\n",
       "  'cwen@iupui.edu',\n",
       "  'cwen@iupui.edu',\n",
       "  'cwen@iupui.edu',\n",
       "  'cwen@iupui.edu'],\n",
       " 'david.horwitz@uct.ac.za': ['david.horwitz@uct.ac.za',\n",
       "  'david.horwitz@uct.ac.za',\n",
       "  'david.horwitz@uct.ac.za',\n",
       "  'david.horwitz@uct.ac.za'],\n",
       " 'gopal.ramasammycook@gmail.com': ['gopal.ramasammycook@gmail.com'],\n",
       " 'gsilver@umich.edu': ['gsilver@umich.edu',\n",
       "  'gsilver@umich.edu',\n",
       "  'gsilver@umich.edu'],\n",
       " 'louis@media.berkeley.edu': ['louis@media.berkeley.edu',\n",
       "  'louis@media.berkeley.edu',\n",
       "  'louis@media.berkeley.edu'],\n",
       " 'ray@media.berkeley.edu': ['ray@media.berkeley.edu'],\n",
       " 'rjlowe@iupui.edu': ['rjlowe@iupui.edu', 'rjlowe@iupui.edu'],\n",
       " 'stephen.marquard@uct.ac.za': ['stephen.marquard@uct.ac.za',\n",
       "  'stephen.marquard@uct.ac.za'],\n",
       " 'wagnermr@iupui.edu': ['wagnermr@iupui.edu'],\n",
       " 'zqian@umich.edu': ['zqian@umich.edu',\n",
       "  'zqian@umich.edu',\n",
       "  'zqian@umich.edu',\n",
       "  'zqian@umich.edu']}"
      ]
     },
     "execution_count": 8,
     "metadata": {},
     "output_type": "execute_result"
    }
   ],
   "source": [
    "email(data)"
   ]
  },
  {
   "cell_type": "code",
   "execution_count": null,
   "metadata": {
    "collapsed": true
   },
   "outputs": [],
   "source": []
  }
 ],
 "metadata": {
  "kernelspec": {
   "display_name": "Python 2",
   "language": "python",
   "name": "python2"
  },
  "language_info": {
   "codemirror_mode": {
    "name": "ipython",
    "version": 2
   },
   "file_extension": ".py",
   "mimetype": "text/x-python",
   "name": "python",
   "nbconvert_exporter": "python",
   "pygments_lexer": "ipython2",
   "version": "2.7.12"
  }
 },
 "nbformat": 4,
 "nbformat_minor": 1
}
