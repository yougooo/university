{
 "cells": [
  {
   "cell_type": "markdown",
   "metadata": {
    "collapsed": true
   },
   "source": [
    "## Block 1"
   ]
  },
  {
   "cell_type": "code",
   "execution_count": 1,
   "metadata": {
    "collapsed": true
   },
   "outputs": [],
   "source": [
    "def thisRaisesAZeroDivisionError():\n",
    "    x = 1/0\n",
    "\n",
    "def thisRaisesAValueError():\n",
    "    y = int('Five')\n",
    "\n",
    "def thisDoesNotRaiseAnyErrors():\n",
    "    z = 'just a string'\n",
    "\n",
    "def tryExercise():\n",
    "    print 'A',\n",
    "    try:\n",
    "        # Line Of Code Is Inserted Here #\n",
    "        print 'B',\n",
    "    except ZeroDivisionError as e:\n",
    "        print 'C',\n",
    "    else:\n",
    "        print 'D',\n",
    "    finally:\n",
    "        print 'E',\n",
    "    print 'F'"
   ]
  },
  {
   "cell_type": "code",
   "execution_count": 3,
   "metadata": {
    "collapsed": false
   },
   "outputs": [
    {
     "name": "stdout",
     "output_type": "stream",
     "text": [
      "A B D E F\n"
     ]
    }
   ],
   "source": [
    "def tryExercise():\n",
    "    print 'A',\n",
    "    try:\n",
    "        thisDoesNotRaiseAnyErrors()\n",
    "        print 'B',\n",
    "    except ZeroDivisionError as e:\n",
    "        print 'C',\n",
    "    else:\n",
    "        print 'D',\n",
    "    finally:\n",
    "        print 'E',\n",
    "    print 'F'\n",
    "tryExercise() # No"
   ]
  },
  {
   "cell_type": "code",
   "execution_count": 4,
   "metadata": {
    "collapsed": false
   },
   "outputs": [
    {
     "name": "stdout",
     "output_type": "stream",
     "text": [
      "A C E F\n"
     ]
    }
   ],
   "source": [
    "def tryExercise():\n",
    "    print 'A',\n",
    "    try:\n",
    "        thisRaisesAZeroDivisionError()\n",
    "        print 'B',\n",
    "    except ZeroDivisionError as e:\n",
    "        print 'C',\n",
    "    else:\n",
    "        print 'D',\n",
    "    finally:\n",
    "        print 'E',\n",
    "    print 'F'\n",
    "tryExercise() # Yes"
   ]
  },
  {
   "cell_type": "code",
   "execution_count": 5,
   "metadata": {
    "collapsed": false
   },
   "outputs": [
    {
     "name": "stdout",
     "output_type": "stream",
     "text": [
      "A E"
     ]
    },
    {
     "ename": "ValueError",
     "evalue": "invalid literal for int() with base 10: 'Five'",
     "output_type": "error",
     "traceback": [
      "\u001b[0;31m---------------------------------------------------------------------------\u001b[0m",
      "\u001b[0;31mValueError\u001b[0m                                Traceback (most recent call last)",
      "\u001b[0;32m<ipython-input-5-6fcc0f463988>\u001b[0m in \u001b[0;36m<module>\u001b[0;34m()\u001b[0m\n\u001b[1;32m     11\u001b[0m         \u001b[0;32mprint\u001b[0m \u001b[0;34m'E'\u001b[0m\u001b[0;34m,\u001b[0m\u001b[0;34m\u001b[0m\u001b[0m\n\u001b[1;32m     12\u001b[0m     \u001b[0;32mprint\u001b[0m \u001b[0;34m'F'\u001b[0m\u001b[0;34m\u001b[0m\u001b[0m\n\u001b[0;32m---> 13\u001b[0;31m \u001b[0mtryExercise\u001b[0m\u001b[0;34m(\u001b[0m\u001b[0;34m)\u001b[0m \u001b[0;31m# Yes\u001b[0m\u001b[0;34m\u001b[0m\u001b[0m\n\u001b[0m",
      "\u001b[0;32m<ipython-input-5-6fcc0f463988>\u001b[0m in \u001b[0;36mtryExercise\u001b[0;34m()\u001b[0m\n\u001b[1;32m      2\u001b[0m     \u001b[0;32mprint\u001b[0m \u001b[0;34m'A'\u001b[0m\u001b[0;34m,\u001b[0m\u001b[0;34m\u001b[0m\u001b[0m\n\u001b[1;32m      3\u001b[0m     \u001b[0;32mtry\u001b[0m\u001b[0;34m:\u001b[0m\u001b[0;34m\u001b[0m\u001b[0m\n\u001b[0;32m----> 4\u001b[0;31m         \u001b[0mthisRaisesAValueError\u001b[0m\u001b[0;34m(\u001b[0m\u001b[0;34m)\u001b[0m\u001b[0;34m\u001b[0m\u001b[0m\n\u001b[0m\u001b[1;32m      5\u001b[0m         \u001b[0;32mprint\u001b[0m \u001b[0;34m'B'\u001b[0m\u001b[0;34m,\u001b[0m\u001b[0;34m\u001b[0m\u001b[0m\n\u001b[1;32m      6\u001b[0m     \u001b[0;32mexcept\u001b[0m \u001b[0mZeroDivisionError\u001b[0m \u001b[0;32mas\u001b[0m \u001b[0me\u001b[0m\u001b[0;34m:\u001b[0m\u001b[0;34m\u001b[0m\u001b[0m\n",
      "\u001b[0;32m<ipython-input-1-53c619df36b7>\u001b[0m in \u001b[0;36mthisRaisesAValueError\u001b[0;34m()\u001b[0m\n\u001b[1;32m      3\u001b[0m \u001b[0;34m\u001b[0m\u001b[0m\n\u001b[1;32m      4\u001b[0m \u001b[0;32mdef\u001b[0m \u001b[0mthisRaisesAValueError\u001b[0m\u001b[0;34m(\u001b[0m\u001b[0;34m)\u001b[0m\u001b[0;34m:\u001b[0m\u001b[0;34m\u001b[0m\u001b[0m\n\u001b[0;32m----> 5\u001b[0;31m     \u001b[0my\u001b[0m \u001b[0;34m=\u001b[0m \u001b[0mint\u001b[0m\u001b[0;34m(\u001b[0m\u001b[0;34m'Five'\u001b[0m\u001b[0;34m)\u001b[0m\u001b[0;34m\u001b[0m\u001b[0m\n\u001b[0m\u001b[1;32m      6\u001b[0m \u001b[0;34m\u001b[0m\u001b[0m\n\u001b[1;32m      7\u001b[0m \u001b[0;32mdef\u001b[0m \u001b[0mthisDoesNotRaiseAnyErrors\u001b[0m\u001b[0;34m(\u001b[0m\u001b[0;34m)\u001b[0m\u001b[0;34m:\u001b[0m\u001b[0;34m\u001b[0m\u001b[0m\n",
      "\u001b[0;31mValueError\u001b[0m: invalid literal for int() with base 10: 'Five'"
     ]
    }
   ],
   "source": [
    "def tryExercise():\n",
    "    print 'A',\n",
    "    try:\n",
    "        thisRaisesAValueError()\n",
    "        print 'B',\n",
    "    except ZeroDivisionError as e:\n",
    "        print 'C',\n",
    "    else:\n",
    "        print 'D',\n",
    "    finally:\n",
    "        print 'E',\n",
    "    print 'F'\n",
    "tryExercise() # No"
   ]
  },
  {
   "cell_type": "code",
   "execution_count": 6,
   "metadata": {
    "collapsed": false
   },
   "outputs": [
    {
     "name": "stdout",
     "output_type": "stream",
     "text": [
      " A E\n"
     ]
    }
   ],
   "source": [
    "def tryExercise():\n",
    "    print 'A',\n",
    "    try:\n",
    "        return\n",
    "        print 'B',\n",
    "    except ZeroDivisionError as e:\n",
    "        print 'C',\n",
    "    else:\n",
    "        print 'D',\n",
    "    finally:\n",
    "        print 'E',\n",
    "    print 'F'\n",
    "tryExercise() # No"
   ]
  },
  {
   "cell_type": "markdown",
   "metadata": {},
   "source": [
    "## Block 2"
   ]
  },
  {
   "cell_type": "code",
   "execution_count": 7,
   "metadata": {
    "collapsed": true
   },
   "outputs": [],
   "source": [
    "# except FileNotFound"
   ]
  },
  {
   "cell_type": "code",
   "execution_count": 15,
   "metadata": {
    "collapsed": false
   },
   "outputs": [
    {
     "name": "stdout",
     "output_type": "stream",
     "text": [
      "bla,bla,bla,bla,,bla\n",
      "['bla', 'bla', 'bla', 'bla,', 'bla']\n",
      "['bla bla bla bla', ' bla']\n"
     ]
    }
   ],
   "source": [
    "line = 'bla bla bla bla, bla'\n",
    "print ','.join(line.split())\n",
    "print line.split()\n",
    "print line.split(',')"
   ]
  },
  {
   "cell_type": "markdown",
   "metadata": {},
   "source": [
    "## Block 3"
   ]
  },
  {
   "cell_type": "code",
   "execution_count": 30,
   "metadata": {
    "collapsed": false
   },
   "outputs": [
    {
     "name": "stdout",
     "output_type": "stream",
     "text": [
      "False\n",
      "True\n"
     ]
    },
    {
     "ename": "TypeError",
     "evalue": "",
     "output_type": "error",
     "traceback": [
      "\u001b[0;31m--------------------------------------------------------------------------\u001b[0m",
      "\u001b[0;31mTypeError\u001b[0m                                Traceback (most recent call last)",
      "\u001b[0;32m<ipython-input-30-c07d725a65d7>\u001b[0m in \u001b[0;36m<module>\u001b[0;34m()\u001b[0m\n\u001b[1;32m     10\u001b[0m \u001b[0;32mprint\u001b[0m \u001b[0mis_prime\u001b[0m\u001b[0;34m(\u001b[0m\u001b[0;36m20\u001b[0m\u001b[0;34m)\u001b[0m\u001b[0;34m\u001b[0m\u001b[0m\n\u001b[1;32m     11\u001b[0m \u001b[0;32mprint\u001b[0m \u001b[0mis_prime\u001b[0m\u001b[0;34m(\u001b[0m\u001b[0;36m13\u001b[0m\u001b[0;34m)\u001b[0m\u001b[0;34m\u001b[0m\u001b[0m\n\u001b[0;32m---> 12\u001b[0;31m \u001b[0;32mprint\u001b[0m \u001b[0mis_prime\u001b[0m\u001b[0;34m(\u001b[0m\u001b[0;36m1.2\u001b[0m\u001b[0;34m)\u001b[0m\u001b[0;34m\u001b[0m\u001b[0m\n\u001b[0m\u001b[1;32m     13\u001b[0m \u001b[0;32mprint\u001b[0m \u001b[0mis_prime\u001b[0m\u001b[0;34m(\u001b[0m\u001b[0;34m-\u001b[0m\u001b[0;36m1\u001b[0m\u001b[0;34m)\u001b[0m\u001b[0;34m\u001b[0m\u001b[0m\n",
      "\u001b[0;32m<ipython-input-30-c07d725a65d7>\u001b[0m in \u001b[0;36mis_prime\u001b[0;34m(n)\u001b[0m\n\u001b[1;32m      1\u001b[0m \u001b[0;32mdef\u001b[0m \u001b[0mis_prime\u001b[0m\u001b[0;34m(\u001b[0m\u001b[0mn\u001b[0m\u001b[0;34m)\u001b[0m\u001b[0;34m:\u001b[0m\u001b[0;34m\u001b[0m\u001b[0m\n\u001b[1;32m      2\u001b[0m     \u001b[0;32mif\u001b[0m \u001b[0;32mnot\u001b[0m \u001b[0mfloat\u001b[0m\u001b[0;34m(\u001b[0m\u001b[0mn\u001b[0m\u001b[0;34m)\u001b[0m\u001b[0;34m.\u001b[0m\u001b[0mis_integer\u001b[0m\u001b[0;34m(\u001b[0m\u001b[0;34m)\u001b[0m\u001b[0;34m:\u001b[0m\u001b[0;34m\u001b[0m\u001b[0m\n\u001b[0;32m----> 3\u001b[0;31m         \u001b[0;32mraise\u001b[0m \u001b[0mTypeError\u001b[0m\u001b[0;34m\u001b[0m\u001b[0m\n\u001b[0m\u001b[1;32m      4\u001b[0m     \u001b[0;32melif\u001b[0m \u001b[0mn\u001b[0m \u001b[0;34m<=\u001b[0m \u001b[0;36m0\u001b[0m\u001b[0;34m:\u001b[0m\u001b[0;34m\u001b[0m\u001b[0m\n\u001b[1;32m      5\u001b[0m         \u001b[0;32mraise\u001b[0m \u001b[0mValueError\u001b[0m\u001b[0;34m\u001b[0m\u001b[0m\n",
      "\u001b[0;31mTypeError\u001b[0m: "
     ]
    }
   ],
   "source": [
    "def is_prime(n):\n",
    "    if not float(n).is_integer():\n",
    "        raise TypeError\n",
    "    elif n <= 0:\n",
    "        raise ValueError\n",
    "    elif len(filter(lambda x: n%x == 0, range(1,n))) == 1:\n",
    "        return True\n",
    "    return False\n",
    "\n",
    "print is_prime(20)\n",
    "print is_prime(13)\n",
    "print is_prime(1.2)\n",
    "print is_prime(-1)"
   ]
  },
  {
   "cell_type": "markdown",
   "metadata": {},
   "source": [
    "## Block 4"
   ]
  },
  {
   "cell_type": "code",
   "execution_count": 31,
   "metadata": {
    "collapsed": true
   },
   "outputs": [],
   "source": [
    "# but python can't do it, and used __init__"
   ]
  },
  {
   "cell_type": "code",
   "execution_count": 32,
   "metadata": {
    "collapsed": true
   },
   "outputs": [],
   "source": [
    "# obl.doSomething()"
   ]
  },
  {
   "cell_type": "code",
   "execution_count": 33,
   "metadata": {
    "collapsed": true
   },
   "outputs": [],
   "source": [
    "# False, it is like good style,\n",
    "# "
   ]
  },
  {
   "cell_type": "code",
   "execution_count": 34,
   "metadata": {
    "collapsed": true
   },
   "outputs": [],
   "source": [
    "class Address(object):\n",
    "    def __init__(self, number, streetName):\n",
    "        self.number = number\n",
    "        self.streetName = streetName"
   ]
  },
  {
   "cell_type": "markdown",
   "metadata": {},
   "source": [
    "# Block 5"
   ]
  },
  {
   "cell_type": "code",
   "execution_count": 36,
   "metadata": {
    "collapsed": false
   },
   "outputs": [
    {
     "name": "stdout",
     "output_type": "stream",
     "text": [
      "5:30\n"
     ]
    }
   ],
   "source": [
    "class Clock(object):\n",
    "    def __init__(self, time):\n",
    "        self.time = time\n",
    "    def print_time(self):\n",
    "        time = '6:30'\n",
    "        print self.time\n",
    "\n",
    "clock = Clock('5:30')\n",
    "clock.print_time()"
   ]
  },
  {
   "cell_type": "code",
   "execution_count": 37,
   "metadata": {
    "collapsed": false
   },
   "outputs": [
    {
     "name": "stdout",
     "output_type": "stream",
     "text": [
      "10:30\n"
     ]
    }
   ],
   "source": [
    "class Clock(object):\n",
    "    def __init__(self, time):\n",
    "        self.time = time\n",
    "    def print_time(self, time):\n",
    "        print time\n",
    "\n",
    "clock = Clock('5:30')\n",
    "clock.print_time('10:30')"
   ]
  },
  {
   "cell_type": "code",
   "execution_count": 39,
   "metadata": {
    "collapsed": false
   },
   "outputs": [
    {
     "name": "stdout",
     "output_type": "stream",
     "text": [
      "10:30\n"
     ]
    }
   ],
   "source": [
    "class Clock(object):\n",
    "    def __init__(self, time):\n",
    "        self.time = time\n",
    "    def print_time(self):\n",
    "        print self.time\n",
    "\n",
    "boston_clock = Clock('5:30') # make object\n",
    "paris_clock = boston_clock # copy object\n",
    "paris_clock.time = '10:30' # set new value for object\n",
    "boston_clock.print_time() # used method for show time "
   ]
  },
  {
   "cell_type": "markdown",
   "metadata": {},
   "source": [
    "## Block 6"
   ]
  },
  {
   "cell_type": "code",
   "execution_count": 40,
   "metadata": {
    "collapsed": true
   },
   "outputs": [],
   "source": [
    "class Coordinate(object):\n",
    "    def __init__(self, x, y):\n",
    "        self.x = x\n",
    "        self.y = y\n",
    "\n",
    "    def getX(self):\n",
    "        # Getter method for a Coordinate object's x coordinate.\n",
    "        # Getter methods are better practice than just accessing an attribute directly\n",
    "        return self.x\n",
    "\n",
    "    def getY(self):\n",
    "        # Getter method for a Coordinate object's y coordinate\n",
    "        return self.y\n",
    "\n",
    "    def __str__(self):\n",
    "        return '<' + str(self.getX()) + ',' + str(self.getY()) + '>'\n",
    "    \n",
    "    def __eq__(self):\n",
    "        if \n",
    "    def __repr__(self):\n",
    "        "
   ]
  },
  {
   "cell_type": "markdown",
   "metadata": {},
   "source": [
    "## Block 7"
   ]
  },
  {
   "cell_type": "code",
   "execution_count": 22,
   "metadata": {
    "collapsed": true
   },
   "outputs": [],
   "source": [
    "class intSet(object):\n",
    "    \"\"\"An intSet is a set of integers\n",
    "    The value is represented by a list of ints, self.vals.\n",
    "    Each int in the set occurs in self.vals exactly once.\"\"\"\n",
    "\n",
    "    def __init__(self):\n",
    "        \"\"\"Create an empty set of integers\"\"\"\n",
    "        self.vals = []\n",
    "\n",
    "    def insert(self, e):\n",
    "        \"\"\"Assumes e is an integer and inserts e into self\"\"\" \n",
    "        if not e in self.vals:\n",
    "            self.vals.append(e)\n",
    "\n",
    "    def member(self, e):\n",
    "        \"\"\"Assumes e is an integer\n",
    "           Returns True if e is in self, and False otherwise\"\"\"\n",
    "        return e in self.vals\n",
    "\n",
    "    def remove(self, e):\n",
    "        \"\"\"Assumes e is an integer and removes e from self\n",
    "           Raises ValueError if e is not in self\"\"\"\n",
    "        try:\n",
    "            self.vals.remove(e)\n",
    "        except:\n",
    "            raise ValueError(str(e) + ' not found')\n",
    "        \n",
    "    def intersect(self, other):\n",
    "        temp = intSet()\n",
    "        temp.vals.extend(filter(lambda x: x in max([self.vals,other.vals]),min(self.vals,other.vals)))\n",
    "        return temp\n",
    "        \n",
    "\n",
    "    def __str__(self):\n",
    "        \"\"\"Returns a string representation of self\"\"\"\n",
    "        self.vals.sort()\n",
    "        return '{' + ','.join([str(e) for e in self.vals]) + '}'\n",
    "    def __len__(self):\n",
    "        return len(self.vals)"
   ]
  },
  {
   "cell_type": "code",
   "execution_count": 25,
   "metadata": {
    "collapsed": false
   },
   "outputs": [
    {
     "name": "stdout",
     "output_type": "stream",
     "text": [
      "4\n",
      "[1, 1, 2, 2]\n"
     ]
    }
   ],
   "source": [
    "c1 = intSet()\n",
    "c2 = intSet()\n",
    "c1.vals.extend([1,2,3,4,5,6,7,8,9])\n",
    "c2.vals.extend([1,1,2,2,0,0])\n",
    "c = c1.intersect(c2)\n",
    "print len(c)\n",
    "print c.vals"
   ]
  },
  {
   "cell_type": "markdown",
   "metadata": {},
   "source": [
    "## Block 8"
   ]
  },
  {
   "cell_type": "code",
   "execution_count": 30,
   "metadata": {
    "collapsed": false
   },
   "outputs": [],
   "source": [
    "class Queue(object):\n",
    "    def __init__(self):\n",
    "        self.queue = []\n",
    "    def insert(self,a):\n",
    "        self.queue.append(a)\n",
    "    def remove(self):\n",
    "        if len(self.queue) == 0:\n",
    "            raise ValueError\n",
    "        return self.queue.pop(0)"
   ]
  },
  {
   "cell_type": "code",
   "execution_count": 34,
   "metadata": {
    "collapsed": false
   },
   "outputs": [
    {
     "name": "stdout",
     "output_type": "stream",
     "text": [
      "5\n",
      "6\n",
      "7\n"
     ]
    },
    {
     "ename": "AttributeError",
     "evalue": "'Queue' object has no attribute 'romove'",
     "output_type": "error",
     "traceback": [
      "\u001b[0;31m--------------------------------------------------------------------------\u001b[0m",
      "\u001b[0;31mAttributeError\u001b[0m                           Traceback (most recent call last)",
      "\u001b[0;32m<ipython-input-34-ee18bd8d9beb>\u001b[0m in \u001b[0;36m<module>\u001b[0;34m()\u001b[0m\n\u001b[1;32m      6\u001b[0m \u001b[0;32mprint\u001b[0m \u001b[0mqueue\u001b[0m\u001b[0;34m.\u001b[0m\u001b[0mremove\u001b[0m\u001b[0;34m(\u001b[0m\u001b[0;34m)\u001b[0m\u001b[0;34m\u001b[0m\u001b[0m\n\u001b[1;32m      7\u001b[0m \u001b[0;32mprint\u001b[0m \u001b[0mqueue\u001b[0m\u001b[0;34m.\u001b[0m\u001b[0mremove\u001b[0m\u001b[0;34m(\u001b[0m\u001b[0;34m)\u001b[0m\u001b[0;34m\u001b[0m\u001b[0m\n\u001b[0;32m----> 8\u001b[0;31m \u001b[0mqueue\u001b[0m\u001b[0;34m.\u001b[0m\u001b[0mromove\u001b[0m\u001b[0;34m(\u001b[0m\u001b[0;34m)\u001b[0m\u001b[0;34m\u001b[0m\u001b[0m\n\u001b[0m",
      "\u001b[0;31mAttributeError\u001b[0m: 'Queue' object has no attribute 'romove'"
     ]
    }
   ],
   "source": [
    "queue = Queue()\n",
    "queue.insert(5)\n",
    "queue.insert(6)\n",
    "print queue.remove()\n",
    "queue.insert(7)\n",
    "print queue.remove()\n",
    "print queue.remove()\n",
    "queue.romove()"
   ]
  },
  {
   "cell_type": "markdown",
   "metadata": {},
   "source": [
    "## Block 9"
   ]
  },
  {
   "cell_type": "code",
   "execution_count": 40,
   "metadata": {
    "collapsed": false
   },
   "outputs": [
    {
     "name": "stdout",
     "output_type": "stream",
     "text": [
      "Summoning Charm Accio\n",
      "This charm summons an object to the caster, potentially over a significant distance.\n",
      "Accio\n",
      "Summoning Charm Accio\n",
      "This charm summons an object to the caster, potentially over a significant distance.\n",
      "Confundus Charm Confundo\n",
      "Causes the victim to become confused and befuddled.\n"
     ]
    }
   ],
   "source": [
    "class Spell(object):\n",
    "    def __init__(self, incantation, name):\n",
    "        self.name = name\n",
    "        self.incantation = incantation\n",
    "\n",
    "    def __str__(self):\n",
    "        return self.name + ' ' + self.incantation + '\\n' + self.getDescription()\n",
    "              \n",
    "    def getDescription(self):\n",
    "        return 'No description'\n",
    "    \n",
    "    def execute(self):\n",
    "        print self.incantation    \n",
    "\n",
    "\n",
    "class Accio(Spell):\n",
    "    def __init__(self):\n",
    "        Spell.__init__(self, 'Accio', 'Summoning Charm')\n",
    "    def __str__(self):\n",
    "        return 'Summoning Charm Accio\\nThis charm summons an object to the caster, potentially over a significant distance.'\n",
    "\n",
    "class Confundo(Spell):\n",
    "    def __init__(self):\n",
    "        Spell.__init__(self, 'Confundo', 'Confundus Charm')\n",
    "\n",
    "    def getDescription(self):\n",
    "        return 'Causes the victim to become confused and befuddled.'\n",
    "\n",
    "def studySpell(spell):\n",
    "    print spell\n",
    "\n",
    "spell = Accio()\n",
    "print spell\n",
    "spell.execute()\n",
    "studySpell(spell)\n",
    "studySpell(Confundo())\n",
    "\n",
    "#super class Spell\n",
    "#other class Accio, Confundo\n",
    "# getDescription метод визначений в класі Confundo\n",
    "# "
   ]
  },
  {
   "cell_type": "code",
   "execution_count": 64,
   "metadata": {
    "collapsed": true
   },
   "outputs": [],
   "source": [
    "class A(object):\n",
    "    def __init__(self):\n",
    "        print 'init A object'\n",
    "        self.a = 1\n",
    "    def x(self):\n",
    "        print \"A.x\"\n",
    "    def y(self):\n",
    "        print \"A.y\"\n",
    "    def z(self):\n",
    "        print \"A.z\"\n",
    "\n",
    "class B(A):\n",
    "    def __init__(self):\n",
    "        A.__init__(self)\n",
    "        print 'init B object'\n",
    "        self.a = 2\n",
    "        self.b = 3\n",
    "    def y(self):\n",
    "        print \"B.y\"\n",
    "    def z(self):\n",
    "        print \"B.z\"\n",
    "\n",
    "class C(object):\n",
    "    def __init__(self):\n",
    "        print 'init C object'\n",
    "        self.a = 4\n",
    "        self.c = 5\n",
    "    def y(self):\n",
    "        print \"C.y\"\n",
    "    def z(self):\n",
    "        print \"C.z\"\n",
    "\n",
    "class D(C, B):\n",
    "    def __init__(self):\n",
    "        C.__init__(self)\n",
    "        B.__init__(self)\n",
    "        self.d = 6\n",
    "        print 'init D object'\n",
    "    def z(self):\n",
    "        print \"D.z\""
   ]
  },
  {
   "cell_type": "code",
   "execution_count": 65,
   "metadata": {
    "collapsed": false
   },
   "outputs": [
    {
     "name": "stdout",
     "output_type": "stream",
     "text": [
      "init C object\n",
      "init A object\n",
      "init B object\n",
      "init D object\n"
     ]
    }
   ],
   "source": [
    "obj = D()"
   ]
  },
  {
   "cell_type": "code",
   "execution_count": 66,
   "metadata": {
    "collapsed": false
   },
   "outputs": [
    {
     "name": "stdout",
     "output_type": "stream",
     "text": [
      "2\n",
      "3\n",
      "6\n",
      "A.x\n",
      "C.y\n",
      "D.z\n"
     ]
    }
   ],
   "source": [
    "print obj.a\n",
    "print obj.b\n",
    "print obj.d\n",
    "obj.x()\n",
    "obj.y()\n",
    "obj.z()"
   ]
  },
  {
   "cell_type": "code",
   "execution_count": null,
   "metadata": {
    "collapsed": true
   },
   "outputs": [],
   "source": []
  }
 ],
 "metadata": {
  "kernelspec": {
   "display_name": "Python 2",
   "language": "python",
   "name": "python2"
  },
  "language_info": {
   "codemirror_mode": {
    "name": "ipython",
    "version": 2
   },
   "file_extension": ".py",
   "mimetype": "text/x-python",
   "name": "python",
   "nbconvert_exporter": "python",
   "pygments_lexer": "ipython2",
   "version": "2.7.12"
  }
 },
 "nbformat": 4,
 "nbformat_minor": 1
}
