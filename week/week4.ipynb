{
 "cells": [
  {
   "cell_type": "markdown",
   "metadata": {},
   "source": [
    "## Block 1"
   ]
  },
  {
   "cell_type": "code",
   "execution_count": 56,
   "metadata": {
    "collapsed": false
   },
   "outputs": [
    {
     "name": "stdout",
     "output_type": "stream",
     "text": [
      "for numbers [2,12]: 2\n",
      "for numbers [6,12]: 6\n",
      "for numbers [9,12]: 3\n",
      "for numbers [17,12]: 1\n"
     ]
    }
   ],
   "source": [
    "def gcd_iter(a,b):\n",
    "    return max(filter(lambda x: all([a%x==0,b%x==0]),range(1,min([a,b])+1)))\n",
    "\n",
    "print 'for numbers [2,12]: {0}'.format(gcd_iter(2,12))\n",
    "print 'for numbers [6,12]: {0}'.format(gcd_iter(6,12))\n",
    "print 'for numbers [9,12]: {0}'.format(gcd_iter(9,12))\n",
    "print 'for numbers [17,12]: {0}'.format(gcd_iter(17,12))"
   ]
  },
  {
   "cell_type": "code",
   "execution_count": 57,
   "metadata": {
    "collapsed": false
   },
   "outputs": [],
   "source": [
    "def gcd_recur(a,b):\n",
    "    if b == 0:\n",
    "        return a\n",
    "    return gcd_recur(b,a%b)"
   ]
  },
  {
   "cell_type": "code",
   "execution_count": 58,
   "metadata": {
    "collapsed": false
   },
   "outputs": [
    {
     "name": "stdout",
     "output_type": "stream",
     "text": [
      "for numbers [2,12]: 2\n",
      "for numbers [6,12]: 6\n",
      "for numbers [9,12]: 3\n",
      "for numbers [17,12]: 1\n"
     ]
    }
   ],
   "source": [
    "print 'for numbers [2,12]: {0}'.format(gcd_recur(2,12))\n",
    "print 'for numbers [6,12]: {0}'.format(gcd_recur(6,12))\n",
    "print 'for numbers [9,12]: {0}'.format(gcd_recur(9,12))\n",
    "print 'for numbers [17,12]: {0}'.format(gcd_recur(17,12))"
   ]
  },
  {
   "cell_type": "markdown",
   "metadata": {},
   "source": [
    "## Magic ipython "
   ]
  },
  {
   "cell_type": "code",
   "execution_count": 59,
   "metadata": {
    "collapsed": false
   },
   "outputs": [
    {
     "name": "stdout",
     "output_type": "stream",
     "text": [
      "CPU times: user 0 ns, sys: 0 ns, total: 0 ns\n",
      "Wall time: 18.1 µs\n"
     ]
    },
    {
     "data": {
      "text/plain": [
       "400000"
      ]
     },
     "execution_count": 59,
     "metadata": {},
     "output_type": "execute_result"
    }
   ],
   "source": [
    "%time gcd_recur(20000000,1200000)"
   ]
  },
  {
   "cell_type": "code",
   "execution_count": 60,
   "metadata": {
    "collapsed": false
   },
   "outputs": [
    {
     "name": "stdout",
     "output_type": "stream",
     "text": [
      "CPU times: user 764 ms, sys: 28 ms, total: 792 ms\n",
      "Wall time: 816 ms\n"
     ]
    },
    {
     "data": {
      "text/plain": [
       "400000"
      ]
     },
     "execution_count": 60,
     "metadata": {},
     "output_type": "execute_result"
    }
   ],
   "source": [
    "%time gcd_iter(20000000,1200000)"
   ]
  },
  {
   "cell_type": "markdown",
   "metadata": {},
   "source": [
    "## Block 2"
   ]
  },
  {
   "cell_type": "code",
   "execution_count": 63,
   "metadata": {
    "collapsed": false
   },
   "outputs": [
    {
     "name": "stdout",
     "output_type": "stream",
     "text": [
      "9\n",
      "9\n"
     ]
    }
   ],
   "source": [
    "def len_iter(input_str):\n",
    "    return sum(map(lambda x: 1, input_str))\n",
    "\n",
    "print len_iter('super man')\n",
    "print len('super man')"
   ]
  },
  {
   "cell_type": "markdown",
   "metadata": {},
   "source": [
    "## Block 3"
   ]
  },
  {
   "cell_type": "code",
   "execution_count": 59,
   "metadata": {
    "collapsed": false
   },
   "outputs": [],
   "source": [
    "count = []\n",
    "def len_recur(input_str):\n",
    "    if input_str == '':\n",
    "        return sum(count)\n",
    "    count.append(1)\n",
    "    return len_recur(input_str.replace(input_str[:1], ''))\n",
    "    "
   ]
  },
  {
   "cell_type": "code",
   "execution_count": 60,
   "metadata": {
    "collapsed": false,
    "scrolled": true
   },
   "outputs": [
    {
     "name": "stdout",
     "output_type": "stream",
     "text": [
      "9\n"
     ]
    }
   ],
   "source": [
    "print len_recur('super man')"
   ]
  },
  {
   "cell_type": "markdown",
   "metadata": {},
   "source": [
    "## Block 4"
   ]
  },
  {
   "cell_type": "code",
   "execution_count": 67,
   "metadata": {
    "collapsed": false
   },
   "outputs": [],
   "source": [
    "# no recur ) \n",
    "def is_in(char, astr):\n",
    "    return char in sorted(astr)\n",
    "\n",
    "def is_in_1(char, astr):\n",
    "    return bool(astr.count(char))"
   ]
  },
  {
   "cell_type": "code",
   "execution_count": 41,
   "metadata": {
    "collapsed": false
   },
   "outputs": [],
   "source": [
    "import random\n",
    "def is_in_recur(char, astr):\n",
    "    astr = sorted(astr)\n",
    "    if astr == '':\n",
    "        return False\n",
    "    if len(astr) == 1:\n",
    "        return astr == char\n",
    "    if char == astr[len(astr)/2]:\n",
    "        return True\n",
    "    elif char < astr[len(astr)/2]:\n",
    "        print astr\n",
    "        return is_in_recur(char,astr[:len(astr)/2])\n",
    "    elif char > astr[len(astr)/2]:\n",
    "        print astr\n",
    "        return is_in_recur(char,astr[len(astr)/2:])"
   ]
  },
  {
   "cell_type": "code",
   "execution_count": 45,
   "metadata": {
    "collapsed": false
   },
   "outputs": [
    {
     "name": "stdout",
     "output_type": "stream",
     "text": [
      "['a', 'a', 'a', 'c', 'd', 'd', 'd', 'f', 'f', 'f', 'k', 'l', 'p', 'q', 's', 's', 's', 'w', 'x', 'z']\n",
      "['a', 'a', 'a', 'c', 'd', 'd', 'd', 'f', 'f', 'f']\n",
      "['a', 'a', 'a', 'c', 'd']\n"
     ]
    },
    {
     "data": {
      "text/plain": [
       "True"
      ]
     },
     "execution_count": 45,
     "metadata": {},
     "output_type": "execute_result"
    }
   ],
   "source": [
    "is_in_recur('c','qcwasdfasdfzxklasdfp')"
   ]
  },
  {
   "cell_type": "code",
   "execution_count": 56,
   "metadata": {
    "collapsed": false
   },
   "outputs": [],
   "source": [
    "# s2\n",
    "# 5a+8b+24c = n ?\n",
    "def num_pen(n):\n",
    "    n = abs(n)\n",
    "    if n < 0:\n",
    "        return False\n",
    "    if n == 0:\n",
    "        return True \n",
    "    for i in (24,8,5):\n",
    "        if num_pen(n-i):\n",
    "            return True\n",
    "    return False "
   ]
  },
  {
   "cell_type": "code",
   "execution_count": null,
   "metadata": {
    "collapsed": true
   },
   "outputs": [],
   "source": []
  }
 ],
 "metadata": {
  "kernelspec": {
   "display_name": "Python 2",
   "language": "python",
   "name": "python2"
  },
  "language_info": {
   "codemirror_mode": {
    "name": "ipython",
    "version": 2
   },
   "file_extension": ".py",
   "mimetype": "text/x-python",
   "name": "python",
   "nbconvert_exporter": "python",
   "pygments_lexer": "ipython2",
   "version": "2.7.12"
  }
 },
 "nbformat": 4,
 "nbformat_minor": 1
}
