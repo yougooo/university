{
 "cells": [
  {
   "cell_type": "markdown",
   "metadata": {},
   "source": [
    "# Simulation Modeling"
   ]
  },
  {
   "cell_type": "markdown",
   "metadata": {},
   "source": [
    "## Download Data\n",
    "#### Download S&P 500 index data from Yahoo Finance"
   ]
  },
  {
   "cell_type": "code",
   "execution_count": 31,
   "metadata": {
    "collapsed": false,
    "scrolled": true
   },
   "outputs": [],
   "source": [
    "import pandas as pd\n",
    "import pandas.io.data as web\n",
    "import matplotlib.pyplot as plt\n",
    "import datetime as datetime\n",
    "from numpy import *\n",
    "%matplotlib inline"
   ]
  },
  {
   "cell_type": "markdown",
   "metadata": {},
   "source": [
    "Set start date, end date and data source ('Yahoo Finance', 'Google Finance', etc.). Download S&P 500 index data from Yahoo Finance."
   ]
  },
  {
   "cell_type": "code",
   "execution_count": 8,
   "metadata": {
    "collapsed": false,
    "scrolled": true
   },
   "outputs": [
    {
     "data": {
      "text/html": [
       "<div style=\"max-height:1000px;max-width:1500px;overflow:auto;\">\n",
       "<table border=\"1\" class=\"dataframe\">\n",
       "  <thead>\n",
       "    <tr style=\"text-align: right;\">\n",
       "      <th></th>\n",
       "      <th>Open</th>\n",
       "      <th>High</th>\n",
       "      <th>Low</th>\n",
       "      <th>Close</th>\n",
       "      <th>Volume</th>\n",
       "      <th>Adj Close</th>\n",
       "    </tr>\n",
       "    <tr>\n",
       "      <th>Date</th>\n",
       "      <th></th>\n",
       "      <th></th>\n",
       "      <th></th>\n",
       "      <th></th>\n",
       "      <th></th>\n",
       "      <th></th>\n",
       "    </tr>\n",
       "  </thead>\n",
       "  <tbody>\n",
       "    <tr>\n",
       "      <th>1976-01-02</th>\n",
       "      <td> 90.190002</td>\n",
       "      <td> 91.180000</td>\n",
       "      <td> 89.809998</td>\n",
       "      <td> 90.900002</td>\n",
       "      <td> 10300000</td>\n",
       "      <td> 90.900002</td>\n",
       "    </tr>\n",
       "    <tr>\n",
       "      <th>1976-01-05</th>\n",
       "      <td> 90.900002</td>\n",
       "      <td> 92.839996</td>\n",
       "      <td> 90.849998</td>\n",
       "      <td> 92.580002</td>\n",
       "      <td> 21960000</td>\n",
       "      <td> 92.580002</td>\n",
       "    </tr>\n",
       "    <tr>\n",
       "      <th>1976-01-06</th>\n",
       "      <td> 92.580002</td>\n",
       "      <td> 94.180000</td>\n",
       "      <td> 92.370003</td>\n",
       "      <td> 93.529999</td>\n",
       "      <td> 31270000</td>\n",
       "      <td> 93.529999</td>\n",
       "    </tr>\n",
       "    <tr>\n",
       "      <th>1976-01-07</th>\n",
       "      <td> 93.529999</td>\n",
       "      <td> 95.150002</td>\n",
       "      <td> 92.910004</td>\n",
       "      <td> 93.949997</td>\n",
       "      <td> 33170000</td>\n",
       "      <td> 93.949997</td>\n",
       "    </tr>\n",
       "    <tr>\n",
       "      <th>1976-01-08</th>\n",
       "      <td> 93.949997</td>\n",
       "      <td> 95.470001</td>\n",
       "      <td> 93.410004</td>\n",
       "      <td> 94.580002</td>\n",
       "      <td> 29030000</td>\n",
       "      <td> 94.580002</td>\n",
       "    </tr>\n",
       "  </tbody>\n",
       "</table>\n",
       "</div>"
      ],
      "text/plain": [
       "                 Open       High        Low      Close    Volume  Adj Close\n",
       "Date                                                                       \n",
       "1976-01-02  90.190002  91.180000  89.809998  90.900002  10300000  90.900002\n",
       "1976-01-05  90.900002  92.839996  90.849998  92.580002  21960000  92.580002\n",
       "1976-01-06  92.580002  94.180000  92.370003  93.529999  31270000  93.529999\n",
       "1976-01-07  93.529999  95.150002  92.910004  93.949997  33170000  93.949997\n",
       "1976-01-08  93.949997  95.470001  93.410004  94.580002  29030000  94.580002"
      ]
     },
     "execution_count": 8,
     "metadata": {},
     "output_type": "execute_result"
    }
   ],
   "source": [
    "start_date = datetime.date(1976,1,1)\n",
    "end_date = datetime.date(2015,1,1)\n",
    "# Download S&P 500 index data\n",
    "SnP500_Ddata = web.DataReader('^GSPC','yahoo',start_date,end_date)\n",
    "SnP500_Ddata.head()"
   ]
  },
  {
   "cell_type": "markdown",
   "metadata": {},
   "source": [
    "#### Transform daily data into annual data:"
   ]
  },
  {
   "cell_type": "code",
   "execution_count": 9,
   "metadata": {
    "collapsed": false,
    "scrolled": true
   },
   "outputs": [
    {
     "data": {
      "text/html": [
       "<div style=\"max-height:1000px;max-width:1500px;overflow:auto;\">\n",
       "<table border=\"1\" class=\"dataframe\">\n",
       "  <thead>\n",
       "    <tr style=\"text-align: right;\">\n",
       "      <th></th>\n",
       "      <th>Volume</th>\n",
       "      <th>Adj Close</th>\n",
       "    </tr>\n",
       "    <tr>\n",
       "      <th>Date</th>\n",
       "      <th></th>\n",
       "      <th></th>\n",
       "    </tr>\n",
       "  </thead>\n",
       "  <tbody>\n",
       "    <tr>\n",
       "      <th>2010-12-31</th>\n",
       "      <td> 1799770000</td>\n",
       "      <td> 1257.640015</td>\n",
       "    </tr>\n",
       "    <tr>\n",
       "      <th>2011-12-31</th>\n",
       "      <td> 2271850000</td>\n",
       "      <td> 1257.599976</td>\n",
       "    </tr>\n",
       "    <tr>\n",
       "      <th>2012-12-31</th>\n",
       "      <td> 3204330000</td>\n",
       "      <td> 1426.189941</td>\n",
       "    </tr>\n",
       "    <tr>\n",
       "      <th>2013-12-31</th>\n",
       "      <td> 2312840000</td>\n",
       "      <td> 1848.359985</td>\n",
       "    </tr>\n",
       "    <tr>\n",
       "      <th>2014-12-31</th>\n",
       "      <td> 2606070000</td>\n",
       "      <td> 2058.899902</td>\n",
       "    </tr>\n",
       "  </tbody>\n",
       "</table>\n",
       "</div>"
      ],
      "text/plain": [
       "                Volume    Adj Close\n",
       "Date                               \n",
       "2010-12-31  1799770000  1257.640015\n",
       "2011-12-31  2271850000  1257.599976\n",
       "2012-12-31  3204330000  1426.189941\n",
       "2013-12-31  2312840000  1848.359985\n",
       "2014-12-31  2606070000  2058.899902"
      ]
     },
     "execution_count": 9,
     "metadata": {},
     "output_type": "execute_result"
    }
   ],
   "source": [
    "# Create a time-series of annual data points from daily data\n",
    "SnP500_Adata = SnP500_Ddata.resample('A',how='last')\n",
    "SnP500_Adata[['Volume','Adj Close']].tail()"
   ]
  },
  {
   "cell_type": "markdown",
   "metadata": {},
   "source": [
    "#### Compute annual return of S&P 500 index:"
   ]
  },
  {
   "cell_type": "code",
   "execution_count": 10,
   "metadata": {
    "collapsed": false,
    "scrolled": true
   },
   "outputs": [
    {
     "name": "stdout",
     "output_type": "stream",
     "text": [
      "Date\n",
      "1977-12-31   -0.115020\n",
      "1978-12-31    0.010620\n",
      "1979-12-31    0.123088\n",
      "1980-12-31    0.257736\n",
      "1981-12-31   -0.097304\n",
      "1982-12-31    0.147613\n",
      "1983-12-31    0.172710\n",
      "1984-12-31    0.014006\n",
      "1985-12-31    0.263334\n",
      "1986-12-31    0.146204\n",
      "1987-12-31    0.020275\n",
      "1988-12-31    0.124008\n",
      "1989-12-31    0.272505\n",
      "1990-12-31   -0.065591\n",
      "1991-12-31    0.263067\n",
      "1992-12-31    0.044643\n",
      "1993-12-31    0.070552\n",
      "1994-12-31   -0.015393\n",
      "1995-12-31    0.341107\n",
      "1996-12-31    0.202637\n",
      "1997-12-31    0.310082\n",
      "1998-12-31    0.266686\n",
      "1999-12-31    0.195260\n",
      "2000-12-31   -0.101392\n",
      "2001-12-31   -0.130427\n",
      "2002-12-31   -0.233660\n",
      "2003-12-31    0.263804\n",
      "2004-12-31    0.089935\n",
      "2005-12-31    0.030010\n",
      "2006-12-31    0.136194\n",
      "2007-12-31    0.035296\n",
      "2008-12-31   -0.384858\n",
      "2009-12-31    0.234542\n",
      "2010-12-31    0.127827\n",
      "2011-12-31   -0.000032\n",
      "2012-12-31    0.134057\n",
      "2013-12-31    0.296012\n",
      "2014-12-31    0.113906\n",
      "Freq: A-DEC, Name: returns, dtype: float64\n"
     ]
    }
   ],
   "source": [
    "SnP500_Adata['returns'] = SnP500_Adata['Adj Close'] / SnP500_Adata['Adj Close'].shift(1) -1\n",
    "SnP500_Adata = SnP500_Adata.dropna()\n",
    "print SnP500_Adata['returns']"
   ]
  },
  {
   "cell_type": "markdown",
   "metadata": {},
   "source": [
    "#### Compute average annual return and standard deviation of return for S&P 500 index:"
   ]
  },
  {
   "cell_type": "code",
   "execution_count": 11,
   "metadata": {
    "collapsed": false
   },
   "outputs": [
    {
     "name": "stdout",
     "output_type": "stream",
     "text": [
      "S&P 500 average return = 9.37905%, st. dev  = 16.1457%\n"
     ]
    }
   ],
   "source": [
    "SnP500_mean_ret = float(SnP500_Adata[['returns']].mean())\n",
    "SnP500_std_ret = float(SnP500_Adata[['returns']].std())\n",
    "print (\"S&P 500 average return = %g%%, st. dev  = %g%%\") % (100*SnP500_mean_ret, 100*SnP500_std_ret)"
   ]
  },
  {
   "cell_type": "markdown",
   "metadata": {},
   "source": [
    "## Simulation Example 1"
   ]
  },
  {
   "cell_type": "markdown",
   "metadata": {},
   "source": [
    "We want to invest \\$1000 in the US stock market for 1 year: $v_0 = 1000$"
   ]
  },
  {
   "cell_type": "code",
   "execution_count": 12,
   "metadata": {
    "collapsed": true
   },
   "outputs": [],
   "source": [
    "v0 = 1000 # Initial capital"
   ]
  },
  {
   "cell_type": "markdown",
   "metadata": {},
   "source": [
    "In our example we assume that the return of the market over the next year follow Normal distribution.\n",
    "\n",
    "Between 1977 and 2014, S&P 500 returned 9.38% per year on average with a standard deviation of 16.15%.\n",
    "\n",
    "Generate 100 scenarios for the market return over the next year (draw 100 random numbers from a Normal distribution with mean 9.38% and standard deviation of 16.15%):"
   ]
  },
  {
   "cell_type": "code",
   "execution_count": 13,
   "metadata": {
    "collapsed": false
   },
   "outputs": [
    {
     "data": {
      "text/plain": [
       "array([ 0.35598495, -0.08728545, -0.06538798, -0.17728624,  0.05076426,\n",
       "        0.11670968, -0.1044097 , -0.06619878,  0.12534834,  0.15082653,\n",
       "       -0.05478455,  0.24574875, -0.12997045,  0.11929253,  0.24360746,\n",
       "       -0.02103356, -0.08901738,  0.08696183,  0.10398831, -0.02884073,\n",
       "        0.02906176, -0.00831827,  0.27880729,  0.11035727,  0.27899114,\n",
       "        0.13512768,  0.21280517,  0.20580367, -0.16334227, -0.08223712,\n",
       "        0.08780305,  0.10560988,  0.13082189,  0.15861429,  0.18243336,\n",
       "       -0.01976181,  0.0518272 , -0.17655103,  0.08517636,  0.30401511,\n",
       "        0.41719346, -0.296872  , -0.04658693, -0.16611723,  0.1007858 ,\n",
       "       -0.03156323, -0.12440063,  0.12795465,  0.11044304, -0.29392062,\n",
       "       -0.04493717,  0.1479331 , -0.18323641,  0.3026894 , -0.09791451,\n",
       "       -0.03349481,  0.2689458 ,  0.21983049, -0.00351406,  0.00651652,\n",
       "        0.08591126,  0.03700078,  0.20884204,  0.00964793,  0.1398938 ,\n",
       "       -0.03257619, -0.0999095 ,  0.0846976 ,  0.11919848, -0.17481003,\n",
       "        0.05991051,  0.2590463 ,  0.49547239, -0.13895662, -0.13621976,\n",
       "        0.26720998,  0.13613335,  0.03340173,  0.43724483,  0.39425722,\n",
       "        0.03231761, -0.21750196,  0.31414753, -0.37461184,  0.14768924,\n",
       "        0.23760397, -0.34357105, -0.00088365, -0.03988694,  0.1158688 ,\n",
       "        0.15324678,  0.04479182,  0.10808653,  0.33337862,  0.17744101,\n",
       "        0.05853764,  0.13846299, -0.01745931,  0.01175883,  0.25733701])"
      ]
     },
     "execution_count": 13,
     "metadata": {},
     "output_type": "execute_result"
    }
   ],
   "source": [
    "Ns = 100 # Number of scenarios\n",
    "r01 = random.normal(SnP500_mean_ret, SnP500_std_ret, Ns)\n",
    "r01"
   ]
  },
  {
   "cell_type": "markdown",
   "metadata": {},
   "source": [
    "Value of investment at the end of year 1:\n",
    "$v_1 = v_0 + r_{0,1}\\cdot v_0 = (1 + r_{0,1})\\cdot v_0$"
   ]
  },
  {
   "cell_type": "code",
   "execution_count": 14,
   "metadata": {
    "collapsed": false
   },
   "outputs": [
    {
     "data": {
      "text/plain": [
       "array([ 1355.98494515,   912.71454681,   934.61201802,   822.71376441,\n",
       "        1050.76426131,  1116.70967606,   895.59029908,   933.80121887,\n",
       "        1125.34834366,  1150.82652937,   945.2154453 ,  1245.74874567,\n",
       "         870.02955286,  1119.29252951,  1243.60746227,   978.96644403,\n",
       "         910.98262199,  1086.96182816,  1103.9883135 ,   971.15927412,\n",
       "        1029.06175997,   991.68173176,  1278.80729189,  1110.35727088,\n",
       "        1278.99114262,  1135.12767931,  1212.80517498,  1205.80367197,\n",
       "         836.65772926,   917.7628755 ,  1087.80304748,  1105.60987669,\n",
       "        1130.82188903,  1158.61429225,  1182.43336005,   980.23819437,\n",
       "        1051.8272048 ,   823.44896549,  1085.17635901,  1304.01511094,\n",
       "        1417.19346131,   703.12799872,   953.41307211,   833.88276626,\n",
       "        1100.78579937,   968.43677468,   875.5993744 ,  1127.95464683,\n",
       "        1110.44303719,   706.07937764,   955.06282825,  1147.93309983,\n",
       "         816.76358978,  1302.68939801,   902.08549088,   966.50519478,\n",
       "        1268.94580277,  1219.83049458,   996.48594142,  1006.51651835,\n",
       "        1085.91126194,  1037.00077502,  1208.84204448,  1009.64792858,\n",
       "        1139.89380464,   967.42381287,   900.09050346,  1084.69760002,\n",
       "        1119.19848439,   825.18997323,  1059.91051423,  1259.04630404,\n",
       "        1495.47239104,   861.0433789 ,   863.78024019,  1267.20998064,\n",
       "        1136.13335084,  1033.40172796,  1437.24482682,  1394.25722188,\n",
       "        1032.31761298,   782.49804254,  1314.14752917,   625.38816159,\n",
       "        1147.68923969,  1237.60396506,   656.4289498 ,   999.11635092,\n",
       "         960.11305973,  1115.86879791,  1153.24678272,  1044.7918211 ,\n",
       "        1108.08652956,  1333.37861516,  1177.44101071,  1058.53764119,\n",
       "        1138.46299071,   982.54069002,  1011.7588257 ,  1257.33701136])"
      ]
     },
     "execution_count": 14,
     "metadata": {},
     "output_type": "execute_result"
    }
   ],
   "source": [
    "# Distribution of value at the end of year 1\n",
    "v1 = (r01 + 1) * v0\n",
    "v1"
   ]
  },
  {
   "cell_type": "markdown",
   "metadata": {},
   "source": [
    "Mean:"
   ]
  },
  {
   "cell_type": "code",
   "execution_count": 15,
   "metadata": {
    "collapsed": false
   },
   "outputs": [
    {
     "data": {
      "text/plain": [
       "1063.8394686832085"
      ]
     },
     "execution_count": 15,
     "metadata": {},
     "output_type": "execute_result"
    }
   ],
   "source": [
    "mean(v1)"
   ]
  },
  {
   "cell_type": "markdown",
   "metadata": {},
   "source": [
    "Standard deviation: "
   ]
  },
  {
   "cell_type": "code",
   "execution_count": 16,
   "metadata": {
    "collapsed": false
   },
   "outputs": [
    {
     "data": {
      "text/plain": [
       "172.0113294597862"
      ]
     },
     "execution_count": 16,
     "metadata": {},
     "output_type": "execute_result"
    }
   ],
   "source": [
    "std(v1)"
   ]
  },
  {
   "cell_type": "markdown",
   "metadata": {},
   "source": [
    "Minimum, maximum: "
   ]
  },
  {
   "cell_type": "code",
   "execution_count": 17,
   "metadata": {
    "collapsed": false
   },
   "outputs": [
    {
     "data": {
      "text/plain": [
       "(625.38816158919394, 1495.4723910382922)"
      ]
     },
     "execution_count": 17,
     "metadata": {},
     "output_type": "execute_result"
    }
   ],
   "source": [
    "min(v1), max(v1)"
   ]
  },
  {
   "cell_type": "markdown",
   "metadata": {},
   "source": [
    "Persentiles\n",
    "\n",
    "5th percentile, median, 95th percentile:"
   ]
  },
  {
   "cell_type": "code",
   "execution_count": 18,
   "metadata": {
    "collapsed": false
   },
   "outputs": [
    {
     "data": {
      "text/plain": [
       "[815.05031242056657, 1084.9369795130842, 1334.5089316573017]"
      ]
     },
     "execution_count": 18,
     "metadata": {},
     "output_type": "execute_result"
    }
   ],
   "source": [
    "percentile(v1, [5, 50,95])"
   ]
  },
  {
   "cell_type": "markdown",
   "metadata": {},
   "source": [
    "Alternative way to compute percentiles\n",
    "\n",
    "5th percentile, median, 95th percentile:"
   ]
  },
  {
   "cell_type": "code",
   "execution_count": 19,
   "metadata": {
    "collapsed": false
   },
   "outputs": [
    {
     "data": {
      "text/plain": [
       "(782.49804254196101, 1084.6976000172924, 1333.3786151574377)"
      ]
     },
     "execution_count": 19,
     "metadata": {},
     "output_type": "execute_result"
    }
   ],
   "source": [
    "sortedScen = sorted(v1)   # Sort scenarios\n",
    "sortedScen[5-1], sortedScen[50-1], sortedScen[95-1]"
   ]
  },
  {
   "cell_type": "markdown",
   "metadata": {},
   "source": [
    "Plot a histogram of the distribution of outcomes for v1:"
   ]
  },
  {
   "cell_type": "code",
   "execution_count": 20,
   "metadata": {
    "collapsed": false
   },
   "outputs": [
    {
     "data": {
      "image/png": "[encoded data removed]",
      "text/plain": [
       "<matplotlib.figure.Figure at 0x7f41d2f3ba50>"
      ]
     },
     "metadata": {},
     "output_type": "display_data"
    }
   ],
   "source": [
    "hist, bins = histogram(v1)\n",
    "positions = (bins[:-1] + bins[1:]) / 2\n",
    "plt.bar(positions, hist, width=60)\n",
    "plt.xlabel('portfolio value after 1 year')\n",
    "plt.ylabel('frequency')\n",
    "plt.show()"
   ]
  },
  {
   "cell_type": "markdown",
   "metadata": {},
   "source": [
    "Simulated paths over time:"
   ]
  },
  {
   "cell_type": "code",
   "execution_count": 21,
   "metadata": {
    "collapsed": false
   },
   "outputs": [
    {
     "data": {
      "image/png": "[encoded data removed]",
      "text/plain": [
       "<matplotlib.figure.Figure at 0x7f41d2f3bb50>"
      ]
     },
     "metadata": {},
     "output_type": "display_data"
    }
   ],
   "source": [
    "# Plot simulated paths over time\n",
    "for res in v1:\n",
    "    plt.plot((0,1), (v0, res))\n",
    "plt.xlabel('time step')\n",
    "plt.ylabel('portfolio value')\n",
    "plt.show()"
   ]
  },
  {
   "cell_type": "markdown",
   "metadata": {
    "collapsed": true
   },
   "source": [
    "# Simulation Example 2"
   ]
  },
  {
   "cell_type": "markdown",
   "metadata": {
    "collapsed": true
   },
   "source": [
    "You are planning for retirement and decide to invest in the market for the next 30 years (instead of only the next year as in example 1).\n",
    "\n",
    "Assume that every year your investment returns from investing into the        S&P 500 will follow a Normal distribution with the mean and standard deviation as in example 1.\n",
    "\n",
    "Your initial capital is still \\$1000"
   ]
  },
  {
   "cell_type": "code",
   "execution_count": 22,
   "metadata": {
    "collapsed": true
   },
   "outputs": [],
   "source": [
    "v0 = 1000 # Initial capital"
   ]
  },
  {
   "cell_type": "markdown",
   "metadata": {},
   "source": [
    "Between 1977 and 2014, S&P 500 returned 9.38% per year on average with a standard deviation of 16.15%\n",
    "Simulate 30 columns of 100 observations each of single period returns:"
   ]
  },
  {
   "cell_type": "code",
   "execution_count": 23,
   "metadata": {
    "collapsed": false
   },
   "outputs": [
    {
     "data": {
      "text/plain": [
       "array([[ 0.12458463, -0.11973044, -0.10419453, ..., -0.02004197,\n",
       "        -0.18119653, -0.10000672],\n",
       "       [ 0.27542255,  0.41381529,  0.11440469, ...,  0.10576092,\n",
       "         0.08373419,  0.28782163],\n",
       "       [-0.18364643,  0.12008929,  0.00262867, ...,  0.17422204,\n",
       "        -0.06188044, -0.06121048],\n",
       "       ..., \n",
       "       [ 0.11461639,  0.16763661, -0.04389933, ..., -0.06280775,\n",
       "        -0.26701734, -0.12784274],\n",
       "       [ 0.02296038,  0.20862156, -0.14625853, ...,  0.17329309,\n",
       "         0.12573274,  0.16166163],\n",
       "       [ 0.2330519 , -0.41830809,  0.16016452, ..., -0.07074846,\n",
       "        -0.02299616,  0.16515037]])"
      ]
     },
     "execution_count": 23,
     "metadata": {},
     "output_type": "execute_result"
    }
   ],
   "source": [
    "r_speriod30  = random.normal(SnP500_mean_ret, SnP500_std_ret, (Ns, 30))\n",
    "r_speriod30"
   ]
  },
  {
   "cell_type": "markdown",
   "metadata": {},
   "source": [
    "Compute and plot $v_{30}$\n"
   ]
  },
  {
   "cell_type": "code",
   "execution_count": 24,
   "metadata": {
    "collapsed": false
   },
   "outputs": [
    {
     "data": {
      "image/png": "[encoded data removed]",
      "text/plain": [
       "<matplotlib.figure.Figure at 0x7f41d316bfd0>"
      ]
     },
     "metadata": {},
     "output_type": "display_data"
    }
   ],
   "source": [
    "v30 = prod(1 + r_speriod30 , 1) * v0\n",
    "\n",
    "hist, bins = histogram(v30)\n",
    "positions = (bins[:-1] + bins[1:]) / 2\n",
    "width = (bins[1] - bins[0]) * 0.8\n",
    "plt.bar(positions, hist, width=width)\n",
    "plt.xlabel('portfolio value after 30 years')\n",
    "plt.ylabel('frequency')\n",
    "plt.show()"
   ]
  },
  {
   "cell_type": "markdown",
   "metadata": {},
   "source": [
    "Simulated paths over time:"
   ]
  },
  {
   "cell_type": "code",
   "execution_count": 32,
   "metadata": {
    "collapsed": false
   },
   "outputs": [
    {
     "data": {
      "image/png": "[encoded data removed]",
      "text/plain": [
       "<matplotlib.figure.Figure at 0x7f41cde91250>"
      ]
     },
     "metadata": {},
     "output_type": "display_data"
    }
   ],
   "source": [
    "for scenario in r_speriod30:\n",
    "    y = [prod(1 + scenario[0:i]) * v0 for i in range(0,31)]\n",
    "    plt.plot(range(0,31), y)\n",
    "plt.xlabel('time step')\n",
    "plt.ylabel('portfolio value')\n",
    "plt.show()"
   ]
  },
  {
   "cell_type": "markdown",
   "metadata": {},
   "source": [
    "## Simulation Example 3\n",
    "#### Download US Treasury bill data from Federal Reserve:"
   ]
  },
  {
   "cell_type": "code",
   "execution_count": 26,
   "metadata": {
    "collapsed": false,
    "scrolled": true
   },
   "outputs": [
    {
     "data": {
      "text/html": [
       "<div style=\"max-height:1000px;max-width:1500px;overflow:auto;\">\n",
       "<table border=\"1\" class=\"dataframe\">\n",
       "  <thead>\n",
       "    <tr style=\"text-align: right;\">\n",
       "      <th></th>\n",
       "      <th>DGS10</th>\n",
       "    </tr>\n",
       "    <tr>\n",
       "      <th>DATE</th>\n",
       "      <th></th>\n",
       "    </tr>\n",
       "  </thead>\n",
       "  <tbody>\n",
       "    <tr>\n",
       "      <th>1977-01-03</th>\n",
       "      <td> 6.84</td>\n",
       "    </tr>\n",
       "    <tr>\n",
       "      <th>1977-01-04</th>\n",
       "      <td> 6.90</td>\n",
       "    </tr>\n",
       "    <tr>\n",
       "      <th>1977-01-05</th>\n",
       "      <td> 6.88</td>\n",
       "    </tr>\n",
       "    <tr>\n",
       "      <th>1977-01-06</th>\n",
       "      <td> 6.93</td>\n",
       "    </tr>\n",
       "    <tr>\n",
       "      <th>1977-01-07</th>\n",
       "      <td> 7.07</td>\n",
       "    </tr>\n",
       "  </tbody>\n",
       "</table>\n",
       "</div>"
      ],
      "text/plain": [
       "            DGS10\n",
       "DATE             \n",
       "1977-01-03   6.84\n",
       "1977-01-04   6.90\n",
       "1977-01-05   6.88\n",
       "1977-01-06   6.93\n",
       "1977-01-07   7.07"
      ]
     },
     "execution_count": 26,
     "metadata": {},
     "output_type": "execute_result"
    }
   ],
   "source": [
    "# Download 10-year T-bill rates from Federal Reserve\n",
    "start_date_b = datetime.date(1977,1,1)\n",
    "end_date_b = datetime.date(2015,1,1)\n",
    "TBill_Ddata = web.DataReader('DGS10','fred',start_date_b,end_date_b)\n",
    "TBill_Ddata.head()"
   ]
  },
  {
   "cell_type": "markdown",
   "metadata": {},
   "source": [
    "#### Transform daily data into annual data:"
   ]
  },
  {
   "cell_type": "code",
   "execution_count": 22,
   "metadata": {
    "collapsed": false,
    "scrolled": true
   },
   "outputs": [
    {
     "data": {
      "text/html": [
       "<div>\n",
       "<table border=\"1\" class=\"dataframe\">\n",
       "  <thead>\n",
       "    <tr style=\"text-align: right;\">\n",
       "      <th></th>\n",
       "      <th>DGS10</th>\n",
       "    </tr>\n",
       "    <tr>\n",
       "      <th>DATE</th>\n",
       "      <th></th>\n",
       "    </tr>\n",
       "  </thead>\n",
       "  <tbody>\n",
       "    <tr>\n",
       "      <th>2011-12-31</th>\n",
       "      <td>1.89</td>\n",
       "    </tr>\n",
       "    <tr>\n",
       "      <th>2012-12-31</th>\n",
       "      <td>1.78</td>\n",
       "    </tr>\n",
       "    <tr>\n",
       "      <th>2013-12-31</th>\n",
       "      <td>3.04</td>\n",
       "    </tr>\n",
       "    <tr>\n",
       "      <th>2014-12-31</th>\n",
       "      <td>2.17</td>\n",
       "    </tr>\n",
       "    <tr>\n",
       "      <th>2015-12-31</th>\n",
       "      <td>NaN</td>\n",
       "    </tr>\n",
       "  </tbody>\n",
       "</table>\n",
       "</div>"
      ],
      "text/plain": [
       "            DGS10\n",
       "DATE             \n",
       "2011-12-31   1.89\n",
       "2012-12-31   1.78\n",
       "2013-12-31   3.04\n",
       "2014-12-31   2.17\n",
       "2015-12-31    NaN"
      ]
     },
     "execution_count": 22,
     "metadata": {},
     "output_type": "execute_result"
    }
   ],
   "source": [
    "# Create a time-series of annual data points from daily data\n",
    "TBill_Adata = TBill_Ddata.resample('A',how='last')\n",
    "TBill_Adata[['DGS10']].tail()"
   ]
  },
  {
   "cell_type": "markdown",
   "metadata": {},
   "source": [
    "#### Compute annual return for bonds:"
   ]
  },
  {
   "cell_type": "code",
   "execution_count": 23,
   "metadata": {
    "collapsed": false,
    "scrolled": true
   },
   "outputs": [
    {
     "name": "stdout",
     "output_type": "stream",
     "text": [
      "DATE\n",
      "1977-12-31    0.0778\n",
      "1978-12-31    0.0915\n",
      "1979-12-31    0.1033\n",
      "1980-12-31    0.1243\n",
      "1981-12-31    0.1398\n",
      "1982-12-31    0.1036\n",
      "1983-12-31    0.1182\n",
      "1984-12-31    0.1155\n",
      "1985-12-31    0.0900\n",
      "1986-12-31    0.0723\n",
      "1987-12-31    0.0883\n",
      "1988-12-31    0.0914\n",
      "1989-12-31    0.0793\n",
      "1990-12-31    0.0808\n",
      "1991-12-31    0.0671\n",
      "1992-12-31    0.0670\n",
      "1993-12-31    0.0583\n",
      "1994-12-31    0.0784\n",
      "1995-12-31    0.0558\n",
      "1996-12-31    0.0643\n",
      "1997-12-31    0.0575\n",
      "1998-12-31    0.0465\n",
      "1999-12-31    0.0645\n",
      "2000-12-31    0.0512\n",
      "2001-12-31    0.0507\n",
      "2002-12-31    0.0383\n",
      "2003-12-31    0.0427\n",
      "2004-12-31    0.0424\n",
      "2005-12-31    0.0439\n",
      "2006-12-31    0.0471\n",
      "2007-12-31    0.0404\n",
      "2008-12-31    0.0225\n",
      "2009-12-31    0.0385\n",
      "2010-12-31    0.0330\n",
      "2011-12-31    0.0189\n",
      "2012-12-31    0.0178\n",
      "2013-12-31    0.0304\n",
      "2014-12-31    0.0217\n",
      "Freq: A-DEC, Name: returns, dtype: float64\n"
     ]
    }
   ],
   "source": [
    "TBill_Adata['returns'] = TBill_Adata['DGS10'] / 100\n",
    "TBill_Adata = TBill_Adata.dropna()\n",
    "print TBill_Adata['returns']"
   ]
  },
  {
   "cell_type": "markdown",
   "metadata": {},
   "source": [
    "#### Compute average annual return and standard deviation of return for bonds:"
   ]
  },
  {
   "cell_type": "code",
   "execution_count": 24,
   "metadata": {
    "collapsed": false
   },
   "outputs": [
    {
     "name": "stdout",
     "output_type": "stream",
     "text": [
      "T-bill average return = 6.51316%, st. dev  = 3.11264%\n"
     ]
    }
   ],
   "source": [
    "TBill_mean_ret = float(TBill_Adata[['returns']].mean())\n",
    "TBill_std_ret = float(TBill_Adata[['returns']].std())\n",
    "print (\"T-bill average return = %g%%, st. dev  = %g%%\") % (100*TBill_mean_ret, 100*TBill_std_ret)"
   ]
  },
  {
   "cell_type": "markdown",
   "metadata": {},
   "source": [
    "#### Compute covariance matrix:"
   ]
  },
  {
   "cell_type": "code",
   "execution_count": 25,
   "metadata": {
    "collapsed": false
   },
   "outputs": [
    {
     "data": {
      "text/plain": [
       "array([[ 0.02606826,  0.00033609],\n",
       "       [ 0.00033609,  0.00096885]])"
      ]
     },
     "execution_count": 25,
     "metadata": {},
     "output_type": "execute_result"
    }
   ],
   "source": [
    "covMat = cov(array(SnP500_Adata[['returns']]),array(TBill_Adata[['returns']]),rowvar=0)\n",
    "covMat"
   ]
  },
  {
   "cell_type": "markdown",
   "metadata": {},
   "source": [
    "#### Simulate portfolio:"
   ]
  },
  {
   "cell_type": "code",
   "execution_count": 26,
   "metadata": {
    "collapsed": false,
    "scrolled": true
   },
   "outputs": [],
   "source": [
    "v0 = 1000 # Initial capital\n",
    "Ns = 5000 # Number of scenarios"
   ]
  },
  {
   "cell_type": "code",
   "execution_count": 27,
   "metadata": {
    "collapsed": false
   },
   "outputs": [
    {
     "data": {
      "text/plain": [
       "[0.09379053515133574, 0.06513157894736842]"
      ]
     },
     "execution_count": 27,
     "metadata": {},
     "output_type": "execute_result"
    }
   ],
   "source": [
    "mu = [SnP500_mean_ret, TBill_mean_ret] # Expected return\n",
    "mu"
   ]
  },
  {
   "cell_type": "code",
   "execution_count": 28,
   "metadata": {
    "collapsed": false
   },
   "outputs": [],
   "source": [
    "stockRet = ones(Ns)\n",
    "bondsRet = ones(Ns)"
   ]
  },
  {
   "cell_type": "code",
   "execution_count": 29,
   "metadata": {
    "collapsed": true
   },
   "outputs": [],
   "source": [
    "scenarios = random.multivariate_normal(mu, covMat, Ns)\n",
    "for year in range(1, 31):\n",
    "    scenarios = reshape(random.multivariate_normal(mu, covMat, Ns), (2, Ns))\n",
    "    stockRet *= (1 + scenarios[0])\n",
    "    bondsRet *= (1 + scenarios[1])"
   ]
  },
  {
   "cell_type": "code",
   "execution_count": 30,
   "metadata": {
    "collapsed": true
   },
   "outputs": [],
   "source": [
    "v30 = 0.5 * v0 * stockRet + 0.5 * v0 * bondsRet"
   ]
  },
  {
   "cell_type": "code",
   "execution_count": 31,
   "metadata": {
    "collapsed": false
   },
   "outputs": [
    {
     "data": {
      "image/png": "[encoded data removed]",
      "text/plain": [
       "<matplotlib.figure.Figure at 0xc397c18>"
      ]
     },
     "metadata": {},
     "output_type": "display_data"
    }
   ],
   "source": [
    "hist, bins = histogram(v30, bins = 100)\n",
    "positions = (bins[:-1] + bins[1:]) / 2\n",
    "width = (bins[1] - bins[0]) * 0.8\n",
    "plt.bar(positions, hist, width=width)\n",
    "plt.xlabel('portfolio value after 30 years')\n",
    "plt.ylabel('frequency')\n",
    "plt.show()"
   ]
  },
  {
   "cell_type": "markdown",
   "metadata": {
    "collapsed": true
   },
   "source": [
    "# Simulation Example 4\n",
    "\n",
    "Compare two portfolios"
   ]
  },
  {
   "cell_type": "code",
   "execution_count": 32,
   "metadata": {
    "collapsed": false
   },
   "outputs": [],
   "source": [
    "# Compute portfolios by iterating through different combinations of weights\n",
    "v30comp = []\n",
    "for w in arange(0.2, 1.01, 0.2):\n",
    "    v30comp += [w * v0 * stockRet + (1 - w) * v0 * bondsRet]"
   ]
  },
  {
   "cell_type": "code",
   "execution_count": 33,
   "metadata": {
    "collapsed": false
   },
   "outputs": [],
   "source": [
    "# Plot a histogram of the distribution of\n",
    "# differences in outcomes for v30\n",
    "# (Stratery 4 - Strategy 2)\n",
    "v30d = v30comp[3] - v30comp[1]"
   ]
  },
  {
   "cell_type": "code",
   "execution_count": 34,
   "metadata": {
    "collapsed": false
   },
   "outputs": [
    {
     "data": {
      "image/png": "[encoded data removed]",
      "text/plain": [
       "<matplotlib.figure.Figure at 0xeb1ee10>"
      ]
     },
     "metadata": {},
     "output_type": "display_data"
    }
   ],
   "source": [
    "hist, bins = histogram(v30d, bins = 50)\n",
    "positions = (bins[:-1] + bins[1:]) / 2\n",
    "width = (bins[1] - bins[0]) * 0.8\n",
    "plt.bar(positions, hist, width=width)\n",
    "plt.show()"
   ]
  },
  {
   "cell_type": "code",
   "execution_count": 35,
   "metadata": {
    "collapsed": false
   },
   "outputs": [
    {
     "name": "stdout",
     "output_type": "stream",
     "text": [
      "Strategy 1 was better in 2498 cases; \n",
      "Strategy 2 was better in 2502 cases. \n",
      "Difference = -4\n"
     ]
    }
   ],
   "source": [
    "# Compute number of elements in v30d that are > 0 and < 0 and compare\n",
    "pos_count = (v30d > 0).sum()\n",
    "neg_count = (v30d <= 0).sum()\n",
    "\n",
    "print u\"\"\"Strategy 1 was better in %d cases; \n",
    "Strategy 2 was better in %d cases. \n",
    "Difference = %d\"\"\" % (pos_count, neg_count, pos_count - neg_count)"
   ]
  }
 ],
 "metadata": {
  "kernelspec": {
   "display_name": "Python 2",
   "language": "python",
   "name": "python2"
  },
  "language_info": {
   "codemirror_mode": {
    "name": "ipython",
    "version": 2
   },
   "file_extension": ".py",
   "mimetype": "text/x-python",
   "name": "python",
   "nbconvert_exporter": "python",
   "pygments_lexer": "ipython2",
   "version": "2.7.12"
  }
 },
 "nbformat": 4,
 "nbformat_minor": 0
}
