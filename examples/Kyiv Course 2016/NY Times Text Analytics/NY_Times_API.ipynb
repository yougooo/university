{
 "cells": [
  {
   "cell_type": "markdown",
   "metadata": {
    "slideshow": {
     "slide_type": "slide"
    }
   },
   "source": [
    "## Using NY Times APIs"
   ]
  },
  {
   "cell_type": "markdown",
   "metadata": {
    "slideshow": {
     "slide_type": "fragment"
    }
   },
   "source": [
    "What are APIs?\n",
    "\n",
    "Structured ways people can give you their data."
   ]
  },
  {
   "cell_type": "markdown",
   "metadata": {
    "slideshow": {
     "slide_type": "slide"
    }
   },
   "source": [
    "Why?\n",
    "\n",
    "Usually because they want to help web/mobile developers attract more users to their service."
   ]
  },
  {
   "cell_type": "markdown",
   "metadata": {},
   "source": [
    "Twitter doesn't have an API to help you out.\n",
    "\n",
    "They want developers to build apps to drive more eyeballs to their service."
   ]
  },
  {
   "cell_type": "markdown",
   "metadata": {
    "slideshow": {
     "slide_type": "slide"
    }
   },
   "source": [
    "![](https://raw.github.com/nealcaren/workshop_2014/master/notebooks/images/times_inequality.png)"
   ]
  },
  {
   "cell_type": "markdown",
   "metadata": {
    "slideshow": {
     "slide_type": "slide"
    }
   },
   "source": [
    "No love with the scrape!!!\n",
    "\n",
    "![](https://raw.github.com/nealcaren/workshop_2014/master/notebooks/images/no_luck.png)"
   ]
  },
  {
   "cell_type": "code",
   "execution_count": 1,
   "metadata": {
    "collapsed": false,
    "slideshow": {
     "slide_type": "slide"
    }
   },
   "outputs": [],
   "source": [
    "import requests"
   ]
  },
  {
   "cell_type": "markdown",
   "metadata": {
    "slideshow": {
     "slide_type": "slide"
    }
   },
   "source": [
    "Do me a favor and sign up to be a [developer](http://developer.nytimes.com) with the New York Times and get your own API key."
   ]
  },
  {
   "cell_type": "code",
   "execution_count": 2,
   "metadata": {
    "collapsed": false
   },
   "outputs": [],
   "source": [
    "my_times_api_key = 'YOUR-API-GOES-HERE'"
   ]
  },
  {
   "cell_type": "markdown",
   "metadata": {
    "slideshow": {
     "slide_type": "slide"
    }
   },
   "source": [
    "APIs can be accessed like a normal URL, but they are often very long, complicated, and involve variables you want to change. For example, you can get the information about the first 10 articles published in the New York Times that used the word Ukraine with:\n",
    "\n",
    "[http://api.nytimes.com/svc/search/v2/articlesearch.json?sort=newest&begin_date=20130101&end_date=20131231&api-key=d20bc9ac37156ecc4cb3d78eb956201d%3A0%3A54059647&q=Ukraine&page=0](http://api.nytimes.com/svc/search/v2/articlesearch.json?sort=newest&begin_date=20130101&end_date=20131231&api-key=d20bc9ac37156ecc4cb3d78eb956201d%3A0%3A54059647&q=Ukraine&page=0)\n",
    "\n",
    "Requests allows you to do this in a more civilized way."
   ]
  },
  {
   "cell_type": "code",
   "execution_count": 3,
   "metadata": {
    "collapsed": false,
    "slideshow": {
     "slide_type": "slide"
    }
   },
   "outputs": [],
   "source": [
    "payload = {'q'         : 'Ukraine', \n",
    "           'begin_date': '20150101' ,\n",
    "           'end_date'  : '20151231',\n",
    "           'api-key'   :  my_times_api_key,\n",
    "           'sort'      : 'oldest' ,\n",
    "           'offset'    :  20}\n",
    "\n",
    "base_url = 'http://api.nytimes.com/svc/search/v2/articlesearch.json?'"
   ]
  },
  {
   "cell_type": "code",
   "execution_count": 4,
   "metadata": {
    "collapsed": false
   },
   "outputs": [
    {
     "data": {
      "text/plain": [
       "u'http://api.nytimes.com/svc/search/v2/articlesearch.json?sort=oldest&begin_date=20150101&end_date=20151231&api-key=d387ec2e77bc9e8504fcdfc363be6cac%3A11%3A72519191&q=Ukraine&offset=20'"
      ]
     },
     "execution_count": 4,
     "metadata": {},
     "output_type": "execute_result"
    }
   ],
   "source": [
    "r = requests.get(base_url, params = payload)\n",
    "\n",
    "r.url"
   ]
  },
  {
   "cell_type": "code",
   "execution_count": 5,
   "metadata": {
    "collapsed": false,
    "slideshow": {
     "slide_type": "slide"
    }
   },
   "outputs": [
    {
     "data": {
      "text/plain": [
       "u'{\"response\":{\"meta\":{\"hits\":4164,\"time\":307,\"offset\":0},\"docs\":[{\"web_url\":\"http:\\\\/\\\\/www.nytimes.com\\\\/2015\\\\/01\\\\/01\\\\/business\\\\/international\\\\/airasia-tony-fernandes-responds-to-crisis-with-quick-compassion.html\",\"snippet\":\"The actions of Tony Fernandes, the chief executive of the Malaysian company, have been compared favorably to the response of Malaysia Airlines earlier in 2014.\",\"lead_paragraph\":\"The actions of Tony Fernandes, the chief executive of the Malaysian company, have been compared favorably to the response of Malaysia Airlines earlier in 2014.\",\"abstract\":\"Handling of latest fatal AirAsia crash by chief executive Tony Fernandes has received far better public response than that by Malaysia Airlines for management of its disaster earlier in 2014; Fernandes addressed situation with the same compassionate, hands-on approach that has won him praise for his turnaround of AirAsia as a whole, which was deeply in debt and under state control 13 years earlier.\",\"print_page\":\"1\",\"blog\":[],\"source\":\"The New York Times\",\"multimedia\":[{\"width\":190,\"url\":\"images\\\\/2014\\\\/12\\\\/31\\\\/business\\\\/01airaisa1\\\\/01airaisa1-thumbWide.jpg\",\"height\":126,\"subtype\":\"wide\",\"legacy\":{\"wide\":\"images\\\\/2014\\\\/12\\\\/31\\\\/business\\\\/01airaisa1\\\\/01airaisa1-thumbWide.jpg\",\"wideheight\":\"126\",\"widewidth\":\"190\"},\"type\":\"image\"},{\"width\":600,\"url\":\"images\\\\/2014\\\\/12\\\\/31\\\\/business\\\\/01airaisa1\\\\/01airaisa1-articleLarge.jpg\",\"height\":438,\"subtype\":\"xlarge\",\"legacy\":{\"xlargewidth\":\"600\",\"xlarge\":\"images\\\\/2014\\\\/12\\\\/31\\\\/business\\\\/01airaisa1\\\\/01airaisa1-articleLarge.jpg\",\"xlargeheight\":\"438\"},\"type\":\"image\"},{\"width\":75,\"url\":\"images\\\\/2014\\\\/12\\\\/31\\\\/business\\\\/01airaisa1\\\\/01airaisa1-thumbStandard.jpg\",\"height\":75,\"subtype\":\"thumbnail\",\"legacy\":{\"thumbnailheight\":\"75\",\"thumbnail\":\"images\\\\/2014\\\\/12\\\\/31\\\\/business\\\\/01airaisa1\\\\/01airaisa1-thumbStandard.jpg\",\"thumbnailwidth\":\"75\"},\"type\":\"image\"}],\"headline\":{\"main\":\"AirAsia\\\\u2019s Chief Responds to Crisis With Quick Compassion\",\"print_headline\":\"AirAsia\\\\u2019s Chief Responds Quickly and With Compassion\"},\"keywords\":[{\"rank\":\"1\",\"is_major\":\"Y\",\"name\":\"subject\",\"value\":\"AirAsia Flight 8501\"},{\"rank\":\"2\",\"is_major\":\"Y\",\"name\":\"subject\",\"value\":\"Aviation Accidents, Safety and Disasters\"},{\"rank\":\"3\",\"is_major\":\"Y\",\"name\":\"persons\",\"value\":\"Fernandes, Tony (1964- )\"},{\"rank\":\"4\",\"is_major\":\"Y\",\"name\":\"organizations\",\"value\":\"AirAsia\"},{\"rank\":\"5\",\"is_major\":\"N\",\"name\":\"glocations\",\"value\":\"Indonesia\"}],\"pub_date\":\"2015-01-01T00:00:00Z\",\"document_type\":\"article\",\"news_desk\":\"Business\",\"section_name\":\"Business Day\",\"subsection_name\":\"International Business\",\"byline\":{\"contributor\":\"Austin Ramzy contributed reporting from Hong Kong and Michael Forsythe from Putrajaya, Malaysia.\",\"person\":[{\"organization\":\"\",\"role\":\"reported\",\"firstname\":\"Alexandra\",\"rank\":1,\"lastname\":\"STEVENSON\"},{\"organization\":\"\",\"role\":\"reported\",\"firstname\":\"Neil\",\"rank\":2,\"lastname\":\"GOUGH\"}],\"original\":\"By ALEXANDRA STEVENSON and NEIL GOUGH\"},\"type_of_material\":\"News\",\"_id\":\"54a45a2a38f0d83a07dc3d4d\",\"word_count\":\"1272\"},{\"web_url\":\"http:\\\\/\\\\/www.nytimes.com\\\\/2015\\\\/01\\\\/01\\\\/world\\\\/euro-and-immigration-promise-challenges-for-merkel-in-2015.html\",\"snippet\":\"Though she is still popular at home and respected abroad, might this be the year Chancellor Angela Merkel loses her touch?\",\"lead_paragraph\":\"Though she is still popular at home and respected abroad, might this be the year Chancellor Angela Merkel loses her touch?\",\"abstract\":\"Memo from Berlin; German Chancellor Angela Merkel faces significant challenges in her 10th year in office as anti-foreigner sentiment grows and Greek economic crisis continues.\",\"print_page\":\"8\",\"blog\":[],\"source\":\"The New York Times\",\"multimedia\":[{\"width\":190,\"url\":\"images\\\\/2015\\\\/01\\\\/01\\\\/world\\\\/MERKEL\\\\/MERKEL-thumbWide.jpg\",\"height\":126,\"subtype\":\"wide\",\"legacy\":{\"wide\":\"images\\\\/2015\\\\/01\\\\/01\\\\/world\\\\/MERKEL\\\\/MERKEL-thumbWide.jpg\",\"wideheight\":\"126\",\"widewidth\":\"190\"},\"type\":\"image\"},{\"width\":600,\"url\":\"images\\\\/2015\\\\/01\\\\/01\\\\/world\\\\/MERKEL\\\\/MERKEL-articleLarge.jpg\",\"height\":388,\"subtype\":\"xlarge\",\"legacy\":{\"xlargewidth\":\"600\",\"xlarge\":\"images\\\\/2015\\\\/01\\\\/01\\\\/world\\\\/MERKEL\\\\/MERKEL-articleLarge.jpg\",\"xlargeheight\":\"388\"},\"type\":\"image\"},{\"width\":75,\"url\":\"images\\\\/2015\\\\/01\\\\/01\\\\/world\\\\/MERKEL\\\\/MERKEL-thumbStandard.jpg\",\"height\":75,\"subtype\":\"thumbnail\",\"legacy\":{\"thumbnailheight\":\"75\",\"thumbnail\":\"images\\\\/2015\\\\/01\\\\/01\\\\/world\\\\/MERKEL\\\\/MERKEL-thumbStandard.jpg\",\"thumbnailwidth\":\"75\"},\"type\":\"image\"}],\"headline\":{\"main\":\"Euro and Immigration Promise Challenges for Merkel in 2015 \",\"content_kicker\":\"Memo From Berlin\",\"kicker\":\"Memo From Berlin\",\"print_headline\":\"Euro and Immigration Promise Challenges for Merkel in 2015\"},\"keywords\":[{\"rank\":\"1\",\"is_major\":\"Y\",\"name\":\"glocations\",\"value\":\"Germany\"},{\"rank\":\"2\",\"is_major\":\"Y\",\"name\":\"persons\",\"value\":\"Merkel, Angela\"},{\"rank\":\"3\",\"is_major\":\"N\",\"name\":\"glocations\",\"value\":\"Europe\"},{\"rank\":\"4\",\"is_major\":\"N\",\"name\":\"subject\",\"value\":\"Immigration and Emigration\"},{\"rank\":\"5\",\"is_major\":\"N\",\"name\":\"glocations\",\"value\":\"Greece\"},{\"rank\":\"6\",\"is_major\":\"N\",\"name\":\"subject\",\"value\":\"Speeches and Statements\"}],\"pub_date\":\"2015-01-01T00:00:00Z\",\"document_type\":\"article\",\"news_desk\":\"Foreign\",\"section_name\":\"World\",\"subsection_name\":\"Europe\",\"byline\":{\"contributor\":\"\",\"person\":[{\"organization\":\"\",\"role\":\"reported\",\"firstname\":\"Alison\",\"rank\":1,\"lastname\":\"SMALE\"}],\"original\":\"By ALISON SMALE\"},\"type_of_material\":\"News\",\"_id\":\"54a4a94e38f0d83a07dc4f6a\",\"word_count\":\"1059\"},{\"web_url\":\"http:\\\\/\\\\/www.nytimes.com\\\\/2015\\\\/01\\\\/01\\\\/world\\\\/europe\\\\/anti-putin-protest-fizzles-as-police-sweep-square.html\",\"snippet\":\"A crackdown showed that Russia\\\\u2019s \\\\u201cwhite ribbon\\\\u201d movement has withered three years after it roared to life hoping to oust Vladimir V. Putin from power.\",\"lead_paragraph\":\"A crackdown showed that Russia\\\\u2019s \\\\u201cwhite ribbon\\\\u201d movement has withered three years after it roared to life hoping to oust Vladimir V. Putin from power.\",\"abstract\":\"Few remaining Russian demonstrators protesting conviction of anticorruption activist Alexsei A Navalny are removed by riot police from Moscow\\'s Manezh Square; Russia\\'s \\'white ribbon\\' opposition movement, which has been working to oust Pres Vladimir Putin since 2011, continues to dwindle as members are prosecuted, flee country or give up hope.\",\"print_page\":\"4\",\"blog\":[],\"source\":\"The New York Times\",\"multimedia\":[{\"width\":190,\"url\":\"images\\\\/2015\\\\/01\\\\/01\\\\/world\\\\/RIBBON-1\\\\/RIBBON-1-thumbWide.jpg\",\"height\":126,\"subtype\":\"wide\",\"legacy\":{\"wide\":\"images\\\\/2015\\\\/01\\\\/01\\\\/world\\\\/RIBBON-1\\\\/RIBBON-1-thumbWide.jpg\",\"wideheight\":\"126\",\"widewidth\":\"190\"},\"type\":\"image\"},{\"width\":600,\"url\":\"images\\\\/2015\\\\/01\\\\/01\\\\/world\\\\/RIBBON-1\\\\/RIBBON-1-articleLarge.jpg\",\"height\":415,\"subtype\":\"xlarge\",\"legacy\":{\"xlargewidth\":\"600\",\"xlarge\":\"images\\\\/2015\\\\/01\\\\/01\\\\/world\\\\/RIBBON-1\\\\/RIBBON-1-articleLarge.jpg\",\"xlargeheight\":\"415\"},\"type\":\"image\"},{\"width\":75,\"url\":\"images\\\\/2015\\\\/01\\\\/01\\\\/world\\\\/RIBBON-1\\\\/RIBBON-1-thumbStandard.jpg\",\"height\":75,\"subtype\":\"thumbnail\",\"legacy\":{\"thumbnailheight\":\"75\",\"thumbnail\":\"images\\\\/2015\\\\/01\\\\/01\\\\/world\\\\/RIBBON-1\\\\/RIBBON-1-thumbStandard.jpg\",\"thumbnailwidth\":\"75\"},\"type\":\"image\"}],\"headline\":{\"main\":\"Anti-Putin Protest Fizzles as Police Sweep Square\",\"print_headline\":\"Anti-Putin Protest Fizzles as Police Sweep Square\"},\"keywords\":[{\"rank\":\"1\",\"is_major\":\"Y\",\"name\":\"glocations\",\"value\":\"Russia\"},{\"rank\":\"2\",\"is_major\":\"Y\",\"name\":\"subject\",\"value\":\"Demonstrations, Protests and Riots\"},{\"rank\":\"3\",\"is_major\":\"Y\",\"name\":\"persons\",\"value\":\"Navalny, Aleksei A\"},{\"rank\":\"4\",\"is_major\":\"Y\",\"name\":\"persons\",\"value\":\"Putin, Vladimir V\"},{\"rank\":\"5\",\"is_major\":\"N\",\"name\":\"persons\",\"value\":\"Sobchak, Kseniya\"},{\"rank\":\"6\",\"is_major\":\"N\",\"name\":\"persons\",\"value\":\"Yashin, Ilya\"},{\"rank\":\"7\",\"is_major\":\"N\",\"name\":\"persons\",\"value\":\"Udaltsov, Sergei\"},{\"rank\":\"8\",\"is_major\":\"N\",\"name\":\"persons\",\"value\":\"Gudkov, Gennadi V\"},{\"rank\":\"9\",\"is_major\":\"N\",\"name\":\"persons\",\"value\":\"Ponomarev, Ilya V\"}],\"pub_date\":\"2015-01-01T00:00:00Z\",\"document_type\":\"article\",\"news_desk\":\"Foreign\",\"section_name\":\"World\",\"subsection_name\":\"Europe\",\"byline\":{\"contributor\":\"Andrew Roth and Nikolay Khalip contributed reporting.\",\"person\":[{\"organization\":\"\",\"role\":\"reported\",\"firstname\":\"David\",\"rank\":1}],\"original\":\"By DAVID M. HERSZENHORN\"},\"type_of_material\":\"News\",\"_id\":\"54a4b05f38f0d83a07dc510b\",\"word_count\":\"1369\"},{\"web_url\":\"http:\\\\/\\\\/www.nytimes.com\\\\/reuters\\\\/2015\\\\/01\\\\/01\\\\/world\\\\/asia\\\\/01reuters-indonesia-airplane.html\",\"snippet\":\"International experts equipped with sophisticated acoustic detection devices joined search teams scouring the sea off Borneo on Friday in the hunt for the black box flight recorders from a crashed Indonesia AirAsia passenger jet.\",\"lead_paragraph\":\"International experts equipped with sophisticated acoustic detection devices joined search teams scouring the sea off Borneo on Friday in the hunt for the black box flight recorders from a crashed Indonesia AirAsia passenger jet.\",\"abstract\":null,\"print_page\":null,\"blog\":[],\"source\":\"Reuters\",\"multimedia\":[],\"headline\":{\"main\":\"Investigators Step Up Hunt for Crashed AirAsia Jet\\'s Black Boxes\",\"print_headline\":\"Investigators Step Up Hunt for Crashed AirAsia Jet\\'s Black Boxes\"},\"keywords\":[],\"pub_date\":\"2015-01-01T00:00:13Z\",\"document_type\":\"article\",\"news_desk\":\"None\",\"section_name\":\"World\",\"subsection_name\":\"Asia Pacific\",\"byline\":{\"person\":[],\"original\":\"By REUTERS\",\"organization\":\"REUTERS\"},\"type_of_material\":\"News\",\"_id\":\"54a4d49438f0d83a07dc5953\",\"word_count\":\"859\"},{\"web_url\":\"http:\\\\/\\\\/www.nytimes.com\\\\/aponline\\\\/2015\\\\/01\\\\/01\\\\/world\\\\/europe\\\\/ap-eu-russia-new-year-mood.html\",\"snippet\":\"At the vast skating rink in Moscow\\'s Gorky Park, Russians say they\\'re looking forward to a 2015 that will be as smooth as the ice, despite the country\\'s economic and political difficulties. The ruble has sunk, tensions with the West are up, but the...\",\"lead_paragraph\":\"At the vast skating rink in Moscow\\'s Gorky Park, Russians say they\\'re looking forward to a 2015 that will be as smooth as the ice, despite the country\\'s economic and political difficulties. The ruble has sunk, tensions with the West are up, but the troubles seem to have produced a surge in national pride.\",\"abstract\":null,\"print_page\":null,\"blog\":[],\"source\":\"AP\",\"multimedia\":[],\"headline\":{\"main\":\"Russians Optimistic for 2015 Despite It All\",\"print_headline\":\"Russians Optimistic for 2015 Despite It All\"},\"keywords\":[],\"pub_date\":\"2015-01-01T03:57:16Z\",\"document_type\":\"article\",\"news_desk\":\"None\",\"section_name\":\"World\",\"subsection_name\":\"Europe\",\"byline\":{\"person\":[],\"original\":\"By THE ASSOCIATED PRESS\",\"organization\":\"THE ASSOCIATED PRESS\"},\"type_of_material\":\"News\",\"_id\":\"54a50cd738f0d83a07dc661c\",\"word_count\":\"796\"},{\"web_url\":\"http:\\\\/\\\\/www.nytimes.com\\\\/reuters\\\\/2015\\\\/01\\\\/01\\\\/world\\\\/europe\\\\/01reuters-ukraine-crisis-conflict.html\",\"snippet\":\"Ukrainian separatists carried out sporadic attacks on government forces as the New Year began, wounding three soldiers, the Kiev military said, as President Petro Poroshenko told the nation to  brace for a year that would \\\\\"not be easy\\\\\".\",\"lead_paragraph\":\"Ukrainian separatists carried out sporadic attacks on government forces as the New Year began, wounding three soldiers, the Kiev military said, as President Petro Poroshenko told the nation to  brace for a year that would \\\\\"not be easy\\\\\".\",\"abstract\":null,\"print_page\":null,\"blog\":[],\"source\":\"Reuters\",\"multimedia\":[],\"headline\":{\"main\":\"Ukraine Says Rebels Keep Up Attacks Into New Year\",\"print_headline\":\"Ukraine Says Rebels Keep Up Attacks Into New Year\"},\"keywords\":[],\"pub_date\":\"2015-01-01T07:25:20Z\",\"document_type\":\"article\",\"news_desk\":\"None\",\"section_name\":\"World\",\"subsection_name\":\"Europe\",\"byline\":{\"person\":[],\"original\":\"By REUTERS\",\"organization\":\"REUTERS\"},\"type_of_material\":\"News\",\"_id\":\"54a53d4938f0d83a07dc70fb\",\"word_count\":\"401\"},{\"web_url\":\"http:\\\\/\\\\/www.nytimes.com\\\\/aponline\\\\/2015\\\\/01\\\\/01\\\\/world\\\\/europe\\\\/ap-eu-europes-new-year-.html\",\"snippet\":\"Beset by critics and buffeted by economic woes, European Union chiefs might have been forgiven for thinking that at least Pope Francis would apply some balm for the New Year in his address to the EU parliament.\",\"lead_paragraph\":\"Beset by critics and buffeted by economic woes, European Union chiefs might have been forgiven for thinking that at least Pope Francis would apply some balm for the New Year in his address to the EU parliament.\",\"abstract\":null,\"print_page\":null,\"blog\":[],\"source\":\"AP\",\"multimedia\":[],\"headline\":{\"main\":\"Troubled EU Hoping the Only Way Is Up in 2015\",\"print_headline\":\"Troubled EU Hoping the Only Way Is Up in 2015\"},\"keywords\":[],\"pub_date\":\"2015-01-01T07:44:52Z\",\"document_type\":\"article\",\"news_desk\":\"None\",\"section_name\":\"World\",\"subsection_name\":\"Europe\",\"byline\":{\"person\":[],\"original\":\"By THE ASSOCIATED PRESS\",\"organization\":\"THE ASSOCIATED PRESS\"},\"type_of_material\":\"News\",\"_id\":\"54a5424138f0d83a07dc7223\",\"word_count\":\"694\"},{\"web_url\":\"http:\\\\/\\\\/www.nytimes.com\\\\/reuters\\\\/2015\\\\/01\\\\/01\\\\/world\\\\/europe\\\\/01reuters-eu-latvia.html\",\"snippet\":\"Latvia took over the six-month rotating presidency of the European Union on Thursday, pledging to launch a 315 billion euro ($381 billion) investment plan for the bloc and hoping to start a review of Europe\\'s border defense.\",\"lead_paragraph\":\"Latvia took over the six-month rotating presidency of the European Union on Thursday, pledging to launch a 315 billion euro ($381 billion) investment plan for the bloc and hoping to start a review of Europe\\'s border defense.\",\"abstract\":null,\"print_page\":null,\"blog\":[],\"source\":\"Reuters\",\"multimedia\":[],\"headline\":{\"main\":\"Latvia Takes EU Reins Focused on Growth Plan, Border Defense\",\"print_headline\":\"Latvia Takes EU Reins Focused on Growth Plan, Border Defense\"},\"keywords\":[],\"pub_date\":\"2015-01-01T09:21:27Z\",\"document_type\":\"article\",\"news_desk\":\"None\",\"section_name\":\"World\",\"subsection_name\":\"Europe\",\"byline\":{\"person\":[],\"original\":\"By REUTERS\",\"organization\":\"REUTERS\"},\"type_of_material\":\"News\",\"_id\":\"54a558b838f0d83a07dc771d\",\"word_count\":\"286\"},{\"web_url\":\"http:\\\\/\\\\/www.nytimes.com\\\\/aponline\\\\/2015\\\\/01\\\\/01\\\\/business\\\\/ap-eu-europes-new-year.html\",\"snippet\":\"Beset by critics and buffeted by economic woes, European Union chiefs might have been forgiven for thinking that at least Pope Francis would apply some balm for the New Year in his address to the EU parliament.\",\"lead_paragraph\":\"Beset by critics and buffeted by economic woes, European Union chiefs might have been forgiven for thinking that at least Pope Francis would apply some balm for the New Year in his address to the EU parliament.\",\"abstract\":null,\"print_page\":null,\"blog\":[],\"source\":\"AP\",\"multimedia\":[],\"headline\":{\"main\":\"Troubled EU Hoping the Only Way Is Up in 2015\",\"print_headline\":\"Troubled EU Hoping the Only Way Is Up in 2015\"},\"keywords\":[],\"pub_date\":\"2015-01-01T11:26:15Z\",\"document_type\":\"article\",\"news_desk\":\"None\",\"section_name\":\"Business Day\",\"subsection_name\":null,\"byline\":{\"person\":[],\"original\":\"By THE ASSOCIATED PRESS\",\"organization\":\"THE ASSOCIATED PRESS\"},\"type_of_material\":\"News\",\"_id\":\"54a5758f38f0d83a07dc7d93\",\"word_count\":\"694\"},{\"web_url\":\"http:\\\\/\\\\/www.nytimes.com\\\\/video\\\\/movies\\\\/100000003386534\\\\/the-english-surgeon-one-doctors-personal-mission-to-save-lives-i.html\",\"snippet\":\"\",\"lead_paragraph\":\"\",\"abstract\":null,\"print_page\":null,\"blog\":[],\"source\":\"Internet Video Archive\",\"multimedia\":[{\"width\":190,\"url\":\"images\\\\/2014\\\\/02\\\\/03\\\\/movies\\\\/video-the-english-surgeon-one-doctors-personal-mission-to-save-lives-i\\\\/video-the-english-surgeon-one-doctors-personal-mission-to-save-lives-i-thumbWide.jpg\",\"height\":126,\"subtype\":\"wide\",\"legacy\":{\"wide\":\"images\\\\/2014\\\\/02\\\\/03\\\\/movies\\\\/video-the-english-surgeon-one-doctors-personal-mission-to-save-lives-i\\\\/video-the-english-surgeon-one-doctors-personal-mission-to-save-lives-i-thumbWide.jpg\",\"wideheight\":\"126\",\"widewidth\":\"190\"},\"type\":\"image\"},{\"width\":600,\"url\":\"images\\\\/2014\\\\/02\\\\/03\\\\/movies\\\\/video-the-english-surgeon-one-doctors-personal-mission-to-save-lives-i\\\\/video-the-english-surgeon-one-doctors-personal-mission-to-save-lives-i-articleLarge.jpg\",\"height\":338,\"subtype\":\"xlarge\",\"legacy\":{\"xlargewidth\":\"600\",\"xlarge\":\"images\\\\/2014\\\\/02\\\\/03\\\\/movies\\\\/video-the-english-surgeon-one-doctors-personal-mission-to-save-lives-i\\\\/video-the-english-surgeon-one-doctors-personal-mission-to-save-lives-i-articleLarge.jpg\",\"xlargeheight\":\"338\"},\"type\":\"image\"},{\"width\":75,\"url\":\"images\\\\/2014\\\\/02\\\\/03\\\\/movies\\\\/video-the-english-surgeon-one-doctors-personal-mission-to-save-lives-i\\\\/video-the-english-surgeon-one-doctors-personal-mission-to-save-lives-i-thumbStandard.jpg\",\"height\":75,\"subtype\":\"thumbnail\",\"legacy\":{\"thumbnailheight\":\"75\",\"thumbnail\":\"images\\\\/2014\\\\/02\\\\/03\\\\/movies\\\\/video-the-english-surgeon-one-doctors-personal-mission-to-save-lives-i\\\\/video-the-english-surgeon-one-doctors-personal-mission-to-save-lives-i-thumbStandard.jpg\",\"thumbnailwidth\":\"75\"},\"type\":\"image\"}],\"headline\":{\"main\":\"The English Surgeon: One Doctor\\'s Personal Mission To Save Lives In The Ukraine\"},\"keywords\":[],\"pub_date\":\"2015-01-01T11:53:55Z\",\"document_type\":\"multimedia\",\"news_desk\":\"Movies\",\"section_name\":\"Movies\",\"subsection_name\":null,\"byline\":{\"person\":[{\"firstname\":\"Pbs\",\"middlename\":\"Home\",\"lastname\":\"Video\",\"rank\":1,\"role\":\"reported\",\"organization\":\"\"}],\"original\":\"PBS Home Video\"},\"type_of_material\":\"Video\",\"_id\":\"54a57bad38f0d83a07dc7ef1\",\"word_count\":\"0\"}]},\"status\":\"OK\",\"copyright\":\"Copyright (c) 2013 The New York Times Company.  All Rights Reserved.\"}'"
      ]
     },
     "execution_count": 5,
     "metadata": {},
     "output_type": "execute_result"
    }
   ],
   "source": [
    "r.text"
   ]
  },
  {
   "cell_type": "code",
   "execution_count": 6,
   "metadata": {
    "collapsed": false,
    "slideshow": {
     "slide_type": "slide"
    }
   },
   "outputs": [
    {
     "data": {
      "text/plain": [
       "{u'copyright': u'Copyright (c) 2013 The New York Times Company.  All Rights Reserved.',\n",
       " u'response': {u'docs': [{u'_id': u'54a45a2a38f0d83a07dc3d4d',\n",
       "    u'abstract': u'Handling of latest fatal AirAsia crash by chief executive Tony Fernandes has received far better public response than that by Malaysia Airlines for management of its disaster earlier in 2014; Fernandes addressed situation with the same compassionate, hands-on approach that has won him praise for his turnaround of AirAsia as a whole, which was deeply in debt and under state control 13 years earlier.',\n",
       "    u'blog': [],\n",
       "    u'byline': {u'contributor': u'Austin Ramzy contributed reporting from Hong Kong and Michael Forsythe from Putrajaya, Malaysia.',\n",
       "     u'original': u'By ALEXANDRA STEVENSON and NEIL GOUGH',\n",
       "     u'person': [{u'firstname': u'Alexandra',\n",
       "       u'lastname': u'STEVENSON',\n",
       "       u'organization': u'',\n",
       "       u'rank': 1,\n",
       "       u'role': u'reported'},\n",
       "      {u'firstname': u'Neil',\n",
       "       u'lastname': u'GOUGH',\n",
       "       u'organization': u'',\n",
       "       u'rank': 2,\n",
       "       u'role': u'reported'}]},\n",
       "    u'document_type': u'article',\n",
       "    u'headline': {u'main': u'AirAsia\\u2019s Chief Responds to Crisis With Quick Compassion',\n",
       "     u'print_headline': u'AirAsia\\u2019s Chief Responds Quickly and With Compassion'},\n",
       "    u'keywords': [{u'is_major': u'Y',\n",
       "      u'name': u'subject',\n",
       "      u'rank': u'1',\n",
       "      u'value': u'AirAsia Flight 8501'},\n",
       "     {u'is_major': u'Y',\n",
       "      u'name': u'subject',\n",
       "      u'rank': u'2',\n",
       "      u'value': u'Aviation Accidents, Safety and Disasters'},\n",
       "     {u'is_major': u'Y',\n",
       "      u'name': u'persons',\n",
       "      u'rank': u'3',\n",
       "      u'value': u'Fernandes, Tony (1964- )'},\n",
       "     {u'is_major': u'Y',\n",
       "      u'name': u'organizations',\n",
       "      u'rank': u'4',\n",
       "      u'value': u'AirAsia'},\n",
       "     {u'is_major': u'N',\n",
       "      u'name': u'glocations',\n",
       "      u'rank': u'5',\n",
       "      u'value': u'Indonesia'}],\n",
       "    u'lead_paragraph': u'The actions of Tony Fernandes, the chief executive of the Malaysian company, have been compared favorably to the response of Malaysia Airlines earlier in 2014.',\n",
       "    u'multimedia': [{u'height': 126,\n",
       "      u'legacy': {u'wide': u'images/2014/12/31/business/01airaisa1/01airaisa1-thumbWide.jpg',\n",
       "       u'wideheight': u'126',\n",
       "       u'widewidth': u'190'},\n",
       "      u'subtype': u'wide',\n",
       "      u'type': u'image',\n",
       "      u'url': u'images/2014/12/31/business/01airaisa1/01airaisa1-thumbWide.jpg',\n",
       "      u'width': 190},\n",
       "     {u'height': 438,\n",
       "      u'legacy': {u'xlarge': u'images/2014/12/31/business/01airaisa1/01airaisa1-articleLarge.jpg',\n",
       "       u'xlargeheight': u'438',\n",
       "       u'xlargewidth': u'600'},\n",
       "      u'subtype': u'xlarge',\n",
       "      u'type': u'image',\n",
       "      u'url': u'images/2014/12/31/business/01airaisa1/01airaisa1-articleLarge.jpg',\n",
       "      u'width': 600},\n",
       "     {u'height': 75,\n",
       "      u'legacy': {u'thumbnail': u'images/2014/12/31/business/01airaisa1/01airaisa1-thumbStandard.jpg',\n",
       "       u'thumbnailheight': u'75',\n",
       "       u'thumbnailwidth': u'75'},\n",
       "      u'subtype': u'thumbnail',\n",
       "      u'type': u'image',\n",
       "      u'url': u'images/2014/12/31/business/01airaisa1/01airaisa1-thumbStandard.jpg',\n",
       "      u'width': 75}],\n",
       "    u'news_desk': u'Business',\n",
       "    u'print_page': u'1',\n",
       "    u'pub_date': u'2015-01-01T00:00:00Z',\n",
       "    u'section_name': u'Business Day',\n",
       "    u'snippet': u'The actions of Tony Fernandes, the chief executive of the Malaysian company, have been compared favorably to the response of Malaysia Airlines earlier in 2014.',\n",
       "    u'source': u'The New York Times',\n",
       "    u'subsection_name': u'International Business',\n",
       "    u'type_of_material': u'News',\n",
       "    u'web_url': u'http://www.nytimes.com/2015/01/01/business/international/airasia-tony-fernandes-responds-to-crisis-with-quick-compassion.html',\n",
       "    u'word_count': u'1272'},\n",
       "   {u'_id': u'54a4a94e38f0d83a07dc4f6a',\n",
       "    u'abstract': u'Memo from Berlin; German Chancellor Angela Merkel faces significant challenges in her 10th year in office as anti-foreigner sentiment grows and Greek economic crisis continues.',\n",
       "    u'blog': [],\n",
       "    u'byline': {u'contributor': u'',\n",
       "     u'original': u'By ALISON SMALE',\n",
       "     u'person': [{u'firstname': u'Alison',\n",
       "       u'lastname': u'SMALE',\n",
       "       u'organization': u'',\n",
       "       u'rank': 1,\n",
       "       u'role': u'reported'}]},\n",
       "    u'document_type': u'article',\n",
       "    u'headline': {u'content_kicker': u'Memo From Berlin',\n",
       "     u'kicker': u'Memo From Berlin',\n",
       "     u'main': u'Euro and Immigration Promise Challenges for Merkel in 2015 ',\n",
       "     u'print_headline': u'Euro and Immigration Promise Challenges for Merkel in 2015'},\n",
       "    u'keywords': [{u'is_major': u'Y',\n",
       "      u'name': u'glocations',\n",
       "      u'rank': u'1',\n",
       "      u'value': u'Germany'},\n",
       "     {u'is_major': u'Y',\n",
       "      u'name': u'persons',\n",
       "      u'rank': u'2',\n",
       "      u'value': u'Merkel, Angela'},\n",
       "     {u'is_major': u'N',\n",
       "      u'name': u'glocations',\n",
       "      u'rank': u'3',\n",
       "      u'value': u'Europe'},\n",
       "     {u'is_major': u'N',\n",
       "      u'name': u'subject',\n",
       "      u'rank': u'4',\n",
       "      u'value': u'Immigration and Emigration'},\n",
       "     {u'is_major': u'N',\n",
       "      u'name': u'glocations',\n",
       "      u'rank': u'5',\n",
       "      u'value': u'Greece'},\n",
       "     {u'is_major': u'N',\n",
       "      u'name': u'subject',\n",
       "      u'rank': u'6',\n",
       "      u'value': u'Speeches and Statements'}],\n",
       "    u'lead_paragraph': u'Though she is still popular at home and respected abroad, might this be the year Chancellor Angela Merkel loses her touch?',\n",
       "    u'multimedia': [{u'height': 126,\n",
       "      u'legacy': {u'wide': u'images/2015/01/01/world/MERKEL/MERKEL-thumbWide.jpg',\n",
       "       u'wideheight': u'126',\n",
       "       u'widewidth': u'190'},\n",
       "      u'subtype': u'wide',\n",
       "      u'type': u'image',\n",
       "      u'url': u'images/2015/01/01/world/MERKEL/MERKEL-thumbWide.jpg',\n",
       "      u'width': 190},\n",
       "     {u'height': 388,\n",
       "      u'legacy': {u'xlarge': u'images/2015/01/01/world/MERKEL/MERKEL-articleLarge.jpg',\n",
       "       u'xlargeheight': u'388',\n",
       "       u'xlargewidth': u'600'},\n",
       "      u'subtype': u'xlarge',\n",
       "      u'type': u'image',\n",
       "      u'url': u'images/2015/01/01/world/MERKEL/MERKEL-articleLarge.jpg',\n",
       "      u'width': 600},\n",
       "     {u'height': 75,\n",
       "      u'legacy': {u'thumbnail': u'images/2015/01/01/world/MERKEL/MERKEL-thumbStandard.jpg',\n",
       "       u'thumbnailheight': u'75',\n",
       "       u'thumbnailwidth': u'75'},\n",
       "      u'subtype': u'thumbnail',\n",
       "      u'type': u'image',\n",
       "      u'url': u'images/2015/01/01/world/MERKEL/MERKEL-thumbStandard.jpg',\n",
       "      u'width': 75}],\n",
       "    u'news_desk': u'Foreign',\n",
       "    u'print_page': u'8',\n",
       "    u'pub_date': u'2015-01-01T00:00:00Z',\n",
       "    u'section_name': u'World',\n",
       "    u'snippet': u'Though she is still popular at home and respected abroad, might this be the year Chancellor Angela Merkel loses her touch?',\n",
       "    u'source': u'The New York Times',\n",
       "    u'subsection_name': u'Europe',\n",
       "    u'type_of_material': u'News',\n",
       "    u'web_url': u'http://www.nytimes.com/2015/01/01/world/euro-and-immigration-promise-challenges-for-merkel-in-2015.html',\n",
       "    u'word_count': u'1059'},\n",
       "   {u'_id': u'54a4b05f38f0d83a07dc510b',\n",
       "    u'abstract': u\"Few remaining Russian demonstrators protesting conviction of anticorruption activist Alexsei A Navalny are removed by riot police from Moscow's Manezh Square; Russia's 'white ribbon' opposition movement, which has been working to oust Pres Vladimir Putin since 2011, continues to dwindle as members are prosecuted, flee country or give up hope.\",\n",
       "    u'blog': [],\n",
       "    u'byline': {u'contributor': u'Andrew Roth and Nikolay Khalip contributed reporting.',\n",
       "     u'original': u'By DAVID M. HERSZENHORN',\n",
       "     u'person': [{u'firstname': u'David',\n",
       "       u'organization': u'',\n",
       "       u'rank': 1,\n",
       "       u'role': u'reported'}]},\n",
       "    u'document_type': u'article',\n",
       "    u'headline': {u'main': u'Anti-Putin Protest Fizzles as Police Sweep Square',\n",
       "     u'print_headline': u'Anti-Putin Protest Fizzles as Police Sweep Square'},\n",
       "    u'keywords': [{u'is_major': u'Y',\n",
       "      u'name': u'glocations',\n",
       "      u'rank': u'1',\n",
       "      u'value': u'Russia'},\n",
       "     {u'is_major': u'Y',\n",
       "      u'name': u'subject',\n",
       "      u'rank': u'2',\n",
       "      u'value': u'Demonstrations, Protests and Riots'},\n",
       "     {u'is_major': u'Y',\n",
       "      u'name': u'persons',\n",
       "      u'rank': u'3',\n",
       "      u'value': u'Navalny, Aleksei A'},\n",
       "     {u'is_major': u'Y',\n",
       "      u'name': u'persons',\n",
       "      u'rank': u'4',\n",
       "      u'value': u'Putin, Vladimir V'},\n",
       "     {u'is_major': u'N',\n",
       "      u'name': u'persons',\n",
       "      u'rank': u'5',\n",
       "      u'value': u'Sobchak, Kseniya'},\n",
       "     {u'is_major': u'N',\n",
       "      u'name': u'persons',\n",
       "      u'rank': u'6',\n",
       "      u'value': u'Yashin, Ilya'},\n",
       "     {u'is_major': u'N',\n",
       "      u'name': u'persons',\n",
       "      u'rank': u'7',\n",
       "      u'value': u'Udaltsov, Sergei'},\n",
       "     {u'is_major': u'N',\n",
       "      u'name': u'persons',\n",
       "      u'rank': u'8',\n",
       "      u'value': u'Gudkov, Gennadi V'},\n",
       "     {u'is_major': u'N',\n",
       "      u'name': u'persons',\n",
       "      u'rank': u'9',\n",
       "      u'value': u'Ponomarev, Ilya V'}],\n",
       "    u'lead_paragraph': u'A crackdown showed that Russia\\u2019s \\u201cwhite ribbon\\u201d movement has withered three years after it roared to life hoping to oust Vladimir V. Putin from power.',\n",
       "    u'multimedia': [{u'height': 126,\n",
       "      u'legacy': {u'wide': u'images/2015/01/01/world/RIBBON-1/RIBBON-1-thumbWide.jpg',\n",
       "       u'wideheight': u'126',\n",
       "       u'widewidth': u'190'},\n",
       "      u'subtype': u'wide',\n",
       "      u'type': u'image',\n",
       "      u'url': u'images/2015/01/01/world/RIBBON-1/RIBBON-1-thumbWide.jpg',\n",
       "      u'width': 190},\n",
       "     {u'height': 415,\n",
       "      u'legacy': {u'xlarge': u'images/2015/01/01/world/RIBBON-1/RIBBON-1-articleLarge.jpg',\n",
       "       u'xlargeheight': u'415',\n",
       "       u'xlargewidth': u'600'},\n",
       "      u'subtype': u'xlarge',\n",
       "      u'type': u'image',\n",
       "      u'url': u'images/2015/01/01/world/RIBBON-1/RIBBON-1-articleLarge.jpg',\n",
       "      u'width': 600},\n",
       "     {u'height': 75,\n",
       "      u'legacy': {u'thumbnail': u'images/2015/01/01/world/RIBBON-1/RIBBON-1-thumbStandard.jpg',\n",
       "       u'thumbnailheight': u'75',\n",
       "       u'thumbnailwidth': u'75'},\n",
       "      u'subtype': u'thumbnail',\n",
       "      u'type': u'image',\n",
       "      u'url': u'images/2015/01/01/world/RIBBON-1/RIBBON-1-thumbStandard.jpg',\n",
       "      u'width': 75}],\n",
       "    u'news_desk': u'Foreign',\n",
       "    u'print_page': u'4',\n",
       "    u'pub_date': u'2015-01-01T00:00:00Z',\n",
       "    u'section_name': u'World',\n",
       "    u'snippet': u'A crackdown showed that Russia\\u2019s \\u201cwhite ribbon\\u201d movement has withered three years after it roared to life hoping to oust Vladimir V. Putin from power.',\n",
       "    u'source': u'The New York Times',\n",
       "    u'subsection_name': u'Europe',\n",
       "    u'type_of_material': u'News',\n",
       "    u'web_url': u'http://www.nytimes.com/2015/01/01/world/europe/anti-putin-protest-fizzles-as-police-sweep-square.html',\n",
       "    u'word_count': u'1369'},\n",
       "   {u'_id': u'54a4d49438f0d83a07dc5953',\n",
       "    u'abstract': None,\n",
       "    u'blog': [],\n",
       "    u'byline': {u'organization': u'REUTERS',\n",
       "     u'original': u'By REUTERS',\n",
       "     u'person': []},\n",
       "    u'document_type': u'article',\n",
       "    u'headline': {u'main': u\"Investigators Step Up Hunt for Crashed AirAsia Jet's Black Boxes\",\n",
       "     u'print_headline': u\"Investigators Step Up Hunt for Crashed AirAsia Jet's Black Boxes\"},\n",
       "    u'keywords': [],\n",
       "    u'lead_paragraph': u'International experts equipped with sophisticated acoustic detection devices joined search teams scouring the sea off Borneo on Friday in the hunt for the black box flight recorders from a crashed Indonesia AirAsia passenger jet.',\n",
       "    u'multimedia': [],\n",
       "    u'news_desk': u'None',\n",
       "    u'print_page': None,\n",
       "    u'pub_date': u'2015-01-01T00:00:13Z',\n",
       "    u'section_name': u'World',\n",
       "    u'snippet': u'International experts equipped with sophisticated acoustic detection devices joined search teams scouring the sea off Borneo on Friday in the hunt for the black box flight recorders from a crashed Indonesia AirAsia passenger jet.',\n",
       "    u'source': u'Reuters',\n",
       "    u'subsection_name': u'Asia Pacific',\n",
       "    u'type_of_material': u'News',\n",
       "    u'web_url': u'http://www.nytimes.com/reuters/2015/01/01/world/asia/01reuters-indonesia-airplane.html',\n",
       "    u'word_count': u'859'},\n",
       "   {u'_id': u'54a50cd738f0d83a07dc661c',\n",
       "    u'abstract': None,\n",
       "    u'blog': [],\n",
       "    u'byline': {u'organization': u'THE ASSOCIATED PRESS',\n",
       "     u'original': u'By THE ASSOCIATED PRESS',\n",
       "     u'person': []},\n",
       "    u'document_type': u'article',\n",
       "    u'headline': {u'main': u'Russians Optimistic for 2015 Despite It All',\n",
       "     u'print_headline': u'Russians Optimistic for 2015 Despite It All'},\n",
       "    u'keywords': [],\n",
       "    u'lead_paragraph': u\"At the vast skating rink in Moscow's Gorky Park, Russians say they're looking forward to a 2015 that will be as smooth as the ice, despite the country's economic and political difficulties. The ruble has sunk, tensions with the West are up, but the troubles seem to have produced a surge in national pride.\",\n",
       "    u'multimedia': [],\n",
       "    u'news_desk': u'None',\n",
       "    u'print_page': None,\n",
       "    u'pub_date': u'2015-01-01T03:57:16Z',\n",
       "    u'section_name': u'World',\n",
       "    u'snippet': u\"At the vast skating rink in Moscow's Gorky Park, Russians say they're looking forward to a 2015 that will be as smooth as the ice, despite the country's economic and political difficulties. The ruble has sunk, tensions with the West are up, but the...\",\n",
       "    u'source': u'AP',\n",
       "    u'subsection_name': u'Europe',\n",
       "    u'type_of_material': u'News',\n",
       "    u'web_url': u'http://www.nytimes.com/aponline/2015/01/01/world/europe/ap-eu-russia-new-year-mood.html',\n",
       "    u'word_count': u'796'},\n",
       "   {u'_id': u'54a53d4938f0d83a07dc70fb',\n",
       "    u'abstract': None,\n",
       "    u'blog': [],\n",
       "    u'byline': {u'organization': u'REUTERS',\n",
       "     u'original': u'By REUTERS',\n",
       "     u'person': []},\n",
       "    u'document_type': u'article',\n",
       "    u'headline': {u'main': u'Ukraine Says Rebels Keep Up Attacks Into New Year',\n",
       "     u'print_headline': u'Ukraine Says Rebels Keep Up Attacks Into New Year'},\n",
       "    u'keywords': [],\n",
       "    u'lead_paragraph': u'Ukrainian separatists carried out sporadic attacks on government forces as the New Year began, wounding three soldiers, the Kiev military said, as President Petro Poroshenko told the nation to  brace for a year that would \"not be easy\".',\n",
       "    u'multimedia': [],\n",
       "    u'news_desk': u'None',\n",
       "    u'print_page': None,\n",
       "    u'pub_date': u'2015-01-01T07:25:20Z',\n",
       "    u'section_name': u'World',\n",
       "    u'snippet': u'Ukrainian separatists carried out sporadic attacks on government forces as the New Year began, wounding three soldiers, the Kiev military said, as President Petro Poroshenko told the nation to  brace for a year that would \"not be easy\".',\n",
       "    u'source': u'Reuters',\n",
       "    u'subsection_name': u'Europe',\n",
       "    u'type_of_material': u'News',\n",
       "    u'web_url': u'http://www.nytimes.com/reuters/2015/01/01/world/europe/01reuters-ukraine-crisis-conflict.html',\n",
       "    u'word_count': u'401'},\n",
       "   {u'_id': u'54a5424138f0d83a07dc7223',\n",
       "    u'abstract': None,\n",
       "    u'blog': [],\n",
       "    u'byline': {u'organization': u'THE ASSOCIATED PRESS',\n",
       "     u'original': u'By THE ASSOCIATED PRESS',\n",
       "     u'person': []},\n",
       "    u'document_type': u'article',\n",
       "    u'headline': {u'main': u'Troubled EU Hoping the Only Way Is Up in 2015',\n",
       "     u'print_headline': u'Troubled EU Hoping the Only Way Is Up in 2015'},\n",
       "    u'keywords': [],\n",
       "    u'lead_paragraph': u'Beset by critics and buffeted by economic woes, European Union chiefs might have been forgiven for thinking that at least Pope Francis would apply some balm for the New Year in his address to the EU parliament.',\n",
       "    u'multimedia': [],\n",
       "    u'news_desk': u'None',\n",
       "    u'print_page': None,\n",
       "    u'pub_date': u'2015-01-01T07:44:52Z',\n",
       "    u'section_name': u'World',\n",
       "    u'snippet': u'Beset by critics and buffeted by economic woes, European Union chiefs might have been forgiven for thinking that at least Pope Francis would apply some balm for the New Year in his address to the EU parliament.',\n",
       "    u'source': u'AP',\n",
       "    u'subsection_name': u'Europe',\n",
       "    u'type_of_material': u'News',\n",
       "    u'web_url': u'http://www.nytimes.com/aponline/2015/01/01/world/europe/ap-eu-europes-new-year-.html',\n",
       "    u'word_count': u'694'},\n",
       "   {u'_id': u'54a558b838f0d83a07dc771d',\n",
       "    u'abstract': None,\n",
       "    u'blog': [],\n",
       "    u'byline': {u'organization': u'REUTERS',\n",
       "     u'original': u'By REUTERS',\n",
       "     u'person': []},\n",
       "    u'document_type': u'article',\n",
       "    u'headline': {u'main': u'Latvia Takes EU Reins Focused on Growth Plan, Border Defense',\n",
       "     u'print_headline': u'Latvia Takes EU Reins Focused on Growth Plan, Border Defense'},\n",
       "    u'keywords': [],\n",
       "    u'lead_paragraph': u\"Latvia took over the six-month rotating presidency of the European Union on Thursday, pledging to launch a 315 billion euro ($381 billion) investment plan for the bloc and hoping to start a review of Europe's border defense.\",\n",
       "    u'multimedia': [],\n",
       "    u'news_desk': u'None',\n",
       "    u'print_page': None,\n",
       "    u'pub_date': u'2015-01-01T09:21:27Z',\n",
       "    u'section_name': u'World',\n",
       "    u'snippet': u\"Latvia took over the six-month rotating presidency of the European Union on Thursday, pledging to launch a 315 billion euro ($381 billion) investment plan for the bloc and hoping to start a review of Europe's border defense.\",\n",
       "    u'source': u'Reuters',\n",
       "    u'subsection_name': u'Europe',\n",
       "    u'type_of_material': u'News',\n",
       "    u'web_url': u'http://www.nytimes.com/reuters/2015/01/01/world/europe/01reuters-eu-latvia.html',\n",
       "    u'word_count': u'286'},\n",
       "   {u'_id': u'54a5758f38f0d83a07dc7d93',\n",
       "    u'abstract': None,\n",
       "    u'blog': [],\n",
       "    u'byline': {u'organization': u'THE ASSOCIATED PRESS',\n",
       "     u'original': u'By THE ASSOCIATED PRESS',\n",
       "     u'person': []},\n",
       "    u'document_type': u'article',\n",
       "    u'headline': {u'main': u'Troubled EU Hoping the Only Way Is Up in 2015',\n",
       "     u'print_headline': u'Troubled EU Hoping the Only Way Is Up in 2015'},\n",
       "    u'keywords': [],\n",
       "    u'lead_paragraph': u'Beset by critics and buffeted by economic woes, European Union chiefs might have been forgiven for thinking that at least Pope Francis would apply some balm for the New Year in his address to the EU parliament.',\n",
       "    u'multimedia': [],\n",
       "    u'news_desk': u'None',\n",
       "    u'print_page': None,\n",
       "    u'pub_date': u'2015-01-01T11:26:15Z',\n",
       "    u'section_name': u'Business Day',\n",
       "    u'snippet': u'Beset by critics and buffeted by economic woes, European Union chiefs might have been forgiven for thinking that at least Pope Francis would apply some balm for the New Year in his address to the EU parliament.',\n",
       "    u'source': u'AP',\n",
       "    u'subsection_name': None,\n",
       "    u'type_of_material': u'News',\n",
       "    u'web_url': u'http://www.nytimes.com/aponline/2015/01/01/business/ap-eu-europes-new-year.html',\n",
       "    u'word_count': u'694'},\n",
       "   {u'_id': u'54a57bad38f0d83a07dc7ef1',\n",
       "    u'abstract': None,\n",
       "    u'blog': [],\n",
       "    u'byline': {u'original': u'PBS Home Video',\n",
       "     u'person': [{u'firstname': u'Pbs',\n",
       "       u'lastname': u'Video',\n",
       "       u'middlename': u'Home',\n",
       "       u'organization': u'',\n",
       "       u'rank': 1,\n",
       "       u'role': u'reported'}]},\n",
       "    u'document_type': u'multimedia',\n",
       "    u'headline': {u'main': u\"The English Surgeon: One Doctor's Personal Mission To Save Lives In The Ukraine\"},\n",
       "    u'keywords': [],\n",
       "    u'lead_paragraph': u'',\n",
       "    u'multimedia': [{u'height': 126,\n",
       "      u'legacy': {u'wide': u'images/2014/02/03/movies/video-the-english-surgeon-one-doctors-personal-mission-to-save-lives-i/video-the-english-surgeon-one-doctors-personal-mission-to-save-lives-i-thumbWide.jpg',\n",
       "       u'wideheight': u'126',\n",
       "       u'widewidth': u'190'},\n",
       "      u'subtype': u'wide',\n",
       "      u'type': u'image',\n",
       "      u'url': u'images/2014/02/03/movies/video-the-english-surgeon-one-doctors-personal-mission-to-save-lives-i/video-the-english-surgeon-one-doctors-personal-mission-to-save-lives-i-thumbWide.jpg',\n",
       "      u'width': 190},\n",
       "     {u'height': 338,\n",
       "      u'legacy': {u'xlarge': u'images/2014/02/03/movies/video-the-english-surgeon-one-doctors-personal-mission-to-save-lives-i/video-the-english-surgeon-one-doctors-personal-mission-to-save-lives-i-articleLarge.jpg',\n",
       "       u'xlargeheight': u'338',\n",
       "       u'xlargewidth': u'600'},\n",
       "      u'subtype': u'xlarge',\n",
       "      u'type': u'image',\n",
       "      u'url': u'images/2014/02/03/movies/video-the-english-surgeon-one-doctors-personal-mission-to-save-lives-i/video-the-english-surgeon-one-doctors-personal-mission-to-save-lives-i-articleLarge.jpg',\n",
       "      u'width': 600},\n",
       "     {u'height': 75,\n",
       "      u'legacy': {u'thumbnail': u'images/2014/02/03/movies/video-the-english-surgeon-one-doctors-personal-mission-to-save-lives-i/video-the-english-surgeon-one-doctors-personal-mission-to-save-lives-i-thumbStandard.jpg',\n",
       "       u'thumbnailheight': u'75',\n",
       "       u'thumbnailwidth': u'75'},\n",
       "      u'subtype': u'thumbnail',\n",
       "      u'type': u'image',\n",
       "      u'url': u'images/2014/02/03/movies/video-the-english-surgeon-one-doctors-personal-mission-to-save-lives-i/video-the-english-surgeon-one-doctors-personal-mission-to-save-lives-i-thumbStandard.jpg',\n",
       "      u'width': 75}],\n",
       "    u'news_desk': u'Movies',\n",
       "    u'print_page': None,\n",
       "    u'pub_date': u'2015-01-01T11:53:55Z',\n",
       "    u'section_name': u'Movies',\n",
       "    u'snippet': u'',\n",
       "    u'source': u'Internet Video Archive',\n",
       "    u'subsection_name': None,\n",
       "    u'type_of_material': u'Video',\n",
       "    u'web_url': u'http://www.nytimes.com/video/movies/100000003386534/the-english-surgeon-one-doctors-personal-mission-to-save-lives-i.html',\n",
       "    u'word_count': u'0'}],\n",
       "  u'meta': {u'hits': 4164, u'offset': 0, u'time': 307}},\n",
       " u'status': u'OK'}"
      ]
     },
     "execution_count": 6,
     "metadata": {},
     "output_type": "execute_result"
    }
   ],
   "source": [
    "r.json()"
   ]
  },
  {
   "cell_type": "code",
   "execution_count": 7,
   "metadata": {
    "collapsed": false
   },
   "outputs": [],
   "source": [
    "json = r.json()\n"
   ]
  },
  {
   "cell_type": "code",
   "execution_count": 8,
   "metadata": {
    "collapsed": false
   },
   "outputs": [
    {
     "data": {
      "text/plain": [
       "[u'status', u'response', u'copyright']"
      ]
     },
     "execution_count": 8,
     "metadata": {},
     "output_type": "execute_result"
    }
   ],
   "source": [
    "json.keys()"
   ]
  },
  {
   "cell_type": "code",
   "execution_count": 9,
   "metadata": {
    "collapsed": false,
    "slideshow": {
     "slide_type": "slide"
    }
   },
   "outputs": [
    {
     "data": {
      "text/plain": [
       "[u'status', u'response', u'copyright']"
      ]
     },
     "execution_count": 9,
     "metadata": {},
     "output_type": "execute_result"
    }
   ],
   "source": [
    "\n",
    "json.keys()"
   ]
  },
  {
   "cell_type": "code",
   "execution_count": 10,
   "metadata": {
    "collapsed": false,
    "slideshow": {
     "slide_type": "fragment"
    }
   },
   "outputs": [
    {
     "data": {
      "text/plain": [
       "u'OK'"
      ]
     },
     "execution_count": 10,
     "metadata": {},
     "output_type": "execute_result"
    }
   ],
   "source": [
    "json['status']"
   ]
  },
  {
   "cell_type": "markdown",
   "metadata": {
    "slideshow": {
     "slide_type": "fragment"
    }
   },
   "source": [
    "Output from `json['response']` ommitted because it was really long."
   ]
  },
  {
   "cell_type": "code",
   "execution_count": 11,
   "metadata": {
    "collapsed": false,
    "slideshow": {
     "slide_type": "fragment"
    }
   },
   "outputs": [
    {
     "data": {
      "text/plain": [
       "[{u'_id': u'54a45a2a38f0d83a07dc3d4d',\n",
       "  u'abstract': u'Handling of latest fatal AirAsia crash by chief executive Tony Fernandes has received far better public response than that by Malaysia Airlines for management of its disaster earlier in 2014; Fernandes addressed situation with the same compassionate, hands-on approach that has won him praise for his turnaround of AirAsia as a whole, which was deeply in debt and under state control 13 years earlier.',\n",
       "  u'blog': [],\n",
       "  u'byline': {u'contributor': u'Austin Ramzy contributed reporting from Hong Kong and Michael Forsythe from Putrajaya, Malaysia.',\n",
       "   u'original': u'By ALEXANDRA STEVENSON and NEIL GOUGH',\n",
       "   u'person': [{u'firstname': u'Alexandra',\n",
       "     u'lastname': u'STEVENSON',\n",
       "     u'organization': u'',\n",
       "     u'rank': 1,\n",
       "     u'role': u'reported'},\n",
       "    {u'firstname': u'Neil',\n",
       "     u'lastname': u'GOUGH',\n",
       "     u'organization': u'',\n",
       "     u'rank': 2,\n",
       "     u'role': u'reported'}]},\n",
       "  u'document_type': u'article',\n",
       "  u'headline': {u'main': u'AirAsia\\u2019s Chief Responds to Crisis With Quick Compassion',\n",
       "   u'print_headline': u'AirAsia\\u2019s Chief Responds Quickly and With Compassion'},\n",
       "  u'keywords': [{u'is_major': u'Y',\n",
       "    u'name': u'subject',\n",
       "    u'rank': u'1',\n",
       "    u'value': u'AirAsia Flight 8501'},\n",
       "   {u'is_major': u'Y',\n",
       "    u'name': u'subject',\n",
       "    u'rank': u'2',\n",
       "    u'value': u'Aviation Accidents, Safety and Disasters'},\n",
       "   {u'is_major': u'Y',\n",
       "    u'name': u'persons',\n",
       "    u'rank': u'3',\n",
       "    u'value': u'Fernandes, Tony (1964- )'},\n",
       "   {u'is_major': u'Y',\n",
       "    u'name': u'organizations',\n",
       "    u'rank': u'4',\n",
       "    u'value': u'AirAsia'},\n",
       "   {u'is_major': u'N',\n",
       "    u'name': u'glocations',\n",
       "    u'rank': u'5',\n",
       "    u'value': u'Indonesia'}],\n",
       "  u'lead_paragraph': u'The actions of Tony Fernandes, the chief executive of the Malaysian company, have been compared favorably to the response of Malaysia Airlines earlier in 2014.',\n",
       "  u'multimedia': [{u'height': 126,\n",
       "    u'legacy': {u'wide': u'images/2014/12/31/business/01airaisa1/01airaisa1-thumbWide.jpg',\n",
       "     u'wideheight': u'126',\n",
       "     u'widewidth': u'190'},\n",
       "    u'subtype': u'wide',\n",
       "    u'type': u'image',\n",
       "    u'url': u'images/2014/12/31/business/01airaisa1/01airaisa1-thumbWide.jpg',\n",
       "    u'width': 190},\n",
       "   {u'height': 438,\n",
       "    u'legacy': {u'xlarge': u'images/2014/12/31/business/01airaisa1/01airaisa1-articleLarge.jpg',\n",
       "     u'xlargeheight': u'438',\n",
       "     u'xlargewidth': u'600'},\n",
       "    u'subtype': u'xlarge',\n",
       "    u'type': u'image',\n",
       "    u'url': u'images/2014/12/31/business/01airaisa1/01airaisa1-articleLarge.jpg',\n",
       "    u'width': 600},\n",
       "   {u'height': 75,\n",
       "    u'legacy': {u'thumbnail': u'images/2014/12/31/business/01airaisa1/01airaisa1-thumbStandard.jpg',\n",
       "     u'thumbnailheight': u'75',\n",
       "     u'thumbnailwidth': u'75'},\n",
       "    u'subtype': u'thumbnail',\n",
       "    u'type': u'image',\n",
       "    u'url': u'images/2014/12/31/business/01airaisa1/01airaisa1-thumbStandard.jpg',\n",
       "    u'width': 75}],\n",
       "  u'news_desk': u'Business',\n",
       "  u'print_page': u'1',\n",
       "  u'pub_date': u'2015-01-01T00:00:00Z',\n",
       "  u'section_name': u'Business Day',\n",
       "  u'snippet': u'The actions of Tony Fernandes, the chief executive of the Malaysian company, have been compared favorably to the response of Malaysia Airlines earlier in 2014.',\n",
       "  u'source': u'The New York Times',\n",
       "  u'subsection_name': u'International Business',\n",
       "  u'type_of_material': u'News',\n",
       "  u'web_url': u'http://www.nytimes.com/2015/01/01/business/international/airasia-tony-fernandes-responds-to-crisis-with-quick-compassion.html',\n",
       "  u'word_count': u'1272'},\n",
       " {u'_id': u'54a4a94e38f0d83a07dc4f6a',\n",
       "  u'abstract': u'Memo from Berlin; German Chancellor Angela Merkel faces significant challenges in her 10th year in office as anti-foreigner sentiment grows and Greek economic crisis continues.',\n",
       "  u'blog': [],\n",
       "  u'byline': {u'contributor': u'',\n",
       "   u'original': u'By ALISON SMALE',\n",
       "   u'person': [{u'firstname': u'Alison',\n",
       "     u'lastname': u'SMALE',\n",
       "     u'organization': u'',\n",
       "     u'rank': 1,\n",
       "     u'role': u'reported'}]},\n",
       "  u'document_type': u'article',\n",
       "  u'headline': {u'content_kicker': u'Memo From Berlin',\n",
       "   u'kicker': u'Memo From Berlin',\n",
       "   u'main': u'Euro and Immigration Promise Challenges for Merkel in 2015 ',\n",
       "   u'print_headline': u'Euro and Immigration Promise Challenges for Merkel in 2015'},\n",
       "  u'keywords': [{u'is_major': u'Y',\n",
       "    u'name': u'glocations',\n",
       "    u'rank': u'1',\n",
       "    u'value': u'Germany'},\n",
       "   {u'is_major': u'Y',\n",
       "    u'name': u'persons',\n",
       "    u'rank': u'2',\n",
       "    u'value': u'Merkel, Angela'},\n",
       "   {u'is_major': u'N',\n",
       "    u'name': u'glocations',\n",
       "    u'rank': u'3',\n",
       "    u'value': u'Europe'},\n",
       "   {u'is_major': u'N',\n",
       "    u'name': u'subject',\n",
       "    u'rank': u'4',\n",
       "    u'value': u'Immigration and Emigration'},\n",
       "   {u'is_major': u'N',\n",
       "    u'name': u'glocations',\n",
       "    u'rank': u'5',\n",
       "    u'value': u'Greece'},\n",
       "   {u'is_major': u'N',\n",
       "    u'name': u'subject',\n",
       "    u'rank': u'6',\n",
       "    u'value': u'Speeches and Statements'}],\n",
       "  u'lead_paragraph': u'Though she is still popular at home and respected abroad, might this be the year Chancellor Angela Merkel loses her touch?',\n",
       "  u'multimedia': [{u'height': 126,\n",
       "    u'legacy': {u'wide': u'images/2015/01/01/world/MERKEL/MERKEL-thumbWide.jpg',\n",
       "     u'wideheight': u'126',\n",
       "     u'widewidth': u'190'},\n",
       "    u'subtype': u'wide',\n",
       "    u'type': u'image',\n",
       "    u'url': u'images/2015/01/01/world/MERKEL/MERKEL-thumbWide.jpg',\n",
       "    u'width': 190},\n",
       "   {u'height': 388,\n",
       "    u'legacy': {u'xlarge': u'images/2015/01/01/world/MERKEL/MERKEL-articleLarge.jpg',\n",
       "     u'xlargeheight': u'388',\n",
       "     u'xlargewidth': u'600'},\n",
       "    u'subtype': u'xlarge',\n",
       "    u'type': u'image',\n",
       "    u'url': u'images/2015/01/01/world/MERKEL/MERKEL-articleLarge.jpg',\n",
       "    u'width': 600},\n",
       "   {u'height': 75,\n",
       "    u'legacy': {u'thumbnail': u'images/2015/01/01/world/MERKEL/MERKEL-thumbStandard.jpg',\n",
       "     u'thumbnailheight': u'75',\n",
       "     u'thumbnailwidth': u'75'},\n",
       "    u'subtype': u'thumbnail',\n",
       "    u'type': u'image',\n",
       "    u'url': u'images/2015/01/01/world/MERKEL/MERKEL-thumbStandard.jpg',\n",
       "    u'width': 75}],\n",
       "  u'news_desk': u'Foreign',\n",
       "  u'print_page': u'8',\n",
       "  u'pub_date': u'2015-01-01T00:00:00Z',\n",
       "  u'section_name': u'World',\n",
       "  u'snippet': u'Though she is still popular at home and respected abroad, might this be the year Chancellor Angela Merkel loses her touch?',\n",
       "  u'source': u'The New York Times',\n",
       "  u'subsection_name': u'Europe',\n",
       "  u'type_of_material': u'News',\n",
       "  u'web_url': u'http://www.nytimes.com/2015/01/01/world/euro-and-immigration-promise-challenges-for-merkel-in-2015.html',\n",
       "  u'word_count': u'1059'},\n",
       " {u'_id': u'54a4b05f38f0d83a07dc510b',\n",
       "  u'abstract': u\"Few remaining Russian demonstrators protesting conviction of anticorruption activist Alexsei A Navalny are removed by riot police from Moscow's Manezh Square; Russia's 'white ribbon' opposition movement, which has been working to oust Pres Vladimir Putin since 2011, continues to dwindle as members are prosecuted, flee country or give up hope.\",\n",
       "  u'blog': [],\n",
       "  u'byline': {u'contributor': u'Andrew Roth and Nikolay Khalip contributed reporting.',\n",
       "   u'original': u'By DAVID M. HERSZENHORN',\n",
       "   u'person': [{u'firstname': u'David',\n",
       "     u'organization': u'',\n",
       "     u'rank': 1,\n",
       "     u'role': u'reported'}]},\n",
       "  u'document_type': u'article',\n",
       "  u'headline': {u'main': u'Anti-Putin Protest Fizzles as Police Sweep Square',\n",
       "   u'print_headline': u'Anti-Putin Protest Fizzles as Police Sweep Square'},\n",
       "  u'keywords': [{u'is_major': u'Y',\n",
       "    u'name': u'glocations',\n",
       "    u'rank': u'1',\n",
       "    u'value': u'Russia'},\n",
       "   {u'is_major': u'Y',\n",
       "    u'name': u'subject',\n",
       "    u'rank': u'2',\n",
       "    u'value': u'Demonstrations, Protests and Riots'},\n",
       "   {u'is_major': u'Y',\n",
       "    u'name': u'persons',\n",
       "    u'rank': u'3',\n",
       "    u'value': u'Navalny, Aleksei A'},\n",
       "   {u'is_major': u'Y',\n",
       "    u'name': u'persons',\n",
       "    u'rank': u'4',\n",
       "    u'value': u'Putin, Vladimir V'},\n",
       "   {u'is_major': u'N',\n",
       "    u'name': u'persons',\n",
       "    u'rank': u'5',\n",
       "    u'value': u'Sobchak, Kseniya'},\n",
       "   {u'is_major': u'N',\n",
       "    u'name': u'persons',\n",
       "    u'rank': u'6',\n",
       "    u'value': u'Yashin, Ilya'},\n",
       "   {u'is_major': u'N',\n",
       "    u'name': u'persons',\n",
       "    u'rank': u'7',\n",
       "    u'value': u'Udaltsov, Sergei'},\n",
       "   {u'is_major': u'N',\n",
       "    u'name': u'persons',\n",
       "    u'rank': u'8',\n",
       "    u'value': u'Gudkov, Gennadi V'},\n",
       "   {u'is_major': u'N',\n",
       "    u'name': u'persons',\n",
       "    u'rank': u'9',\n",
       "    u'value': u'Ponomarev, Ilya V'}],\n",
       "  u'lead_paragraph': u'A crackdown showed that Russia\\u2019s \\u201cwhite ribbon\\u201d movement has withered three years after it roared to life hoping to oust Vladimir V. Putin from power.',\n",
       "  u'multimedia': [{u'height': 126,\n",
       "    u'legacy': {u'wide': u'images/2015/01/01/world/RIBBON-1/RIBBON-1-thumbWide.jpg',\n",
       "     u'wideheight': u'126',\n",
       "     u'widewidth': u'190'},\n",
       "    u'subtype': u'wide',\n",
       "    u'type': u'image',\n",
       "    u'url': u'images/2015/01/01/world/RIBBON-1/RIBBON-1-thumbWide.jpg',\n",
       "    u'width': 190},\n",
       "   {u'height': 415,\n",
       "    u'legacy': {u'xlarge': u'images/2015/01/01/world/RIBBON-1/RIBBON-1-articleLarge.jpg',\n",
       "     u'xlargeheight': u'415',\n",
       "     u'xlargewidth': u'600'},\n",
       "    u'subtype': u'xlarge',\n",
       "    u'type': u'image',\n",
       "    u'url': u'images/2015/01/01/world/RIBBON-1/RIBBON-1-articleLarge.jpg',\n",
       "    u'width': 600},\n",
       "   {u'height': 75,\n",
       "    u'legacy': {u'thumbnail': u'images/2015/01/01/world/RIBBON-1/RIBBON-1-thumbStandard.jpg',\n",
       "     u'thumbnailheight': u'75',\n",
       "     u'thumbnailwidth': u'75'},\n",
       "    u'subtype': u'thumbnail',\n",
       "    u'type': u'image',\n",
       "    u'url': u'images/2015/01/01/world/RIBBON-1/RIBBON-1-thumbStandard.jpg',\n",
       "    u'width': 75}],\n",
       "  u'news_desk': u'Foreign',\n",
       "  u'print_page': u'4',\n",
       "  u'pub_date': u'2015-01-01T00:00:00Z',\n",
       "  u'section_name': u'World',\n",
       "  u'snippet': u'A crackdown showed that Russia\\u2019s \\u201cwhite ribbon\\u201d movement has withered three years after it roared to life hoping to oust Vladimir V. Putin from power.',\n",
       "  u'source': u'The New York Times',\n",
       "  u'subsection_name': u'Europe',\n",
       "  u'type_of_material': u'News',\n",
       "  u'web_url': u'http://www.nytimes.com/2015/01/01/world/europe/anti-putin-protest-fizzles-as-police-sweep-square.html',\n",
       "  u'word_count': u'1369'},\n",
       " {u'_id': u'54a4d49438f0d83a07dc5953',\n",
       "  u'abstract': None,\n",
       "  u'blog': [],\n",
       "  u'byline': {u'organization': u'REUTERS',\n",
       "   u'original': u'By REUTERS',\n",
       "   u'person': []},\n",
       "  u'document_type': u'article',\n",
       "  u'headline': {u'main': u\"Investigators Step Up Hunt for Crashed AirAsia Jet's Black Boxes\",\n",
       "   u'print_headline': u\"Investigators Step Up Hunt for Crashed AirAsia Jet's Black Boxes\"},\n",
       "  u'keywords': [],\n",
       "  u'lead_paragraph': u'International experts equipped with sophisticated acoustic detection devices joined search teams scouring the sea off Borneo on Friday in the hunt for the black box flight recorders from a crashed Indonesia AirAsia passenger jet.',\n",
       "  u'multimedia': [],\n",
       "  u'news_desk': u'None',\n",
       "  u'print_page': None,\n",
       "  u'pub_date': u'2015-01-01T00:00:13Z',\n",
       "  u'section_name': u'World',\n",
       "  u'snippet': u'International experts equipped with sophisticated acoustic detection devices joined search teams scouring the sea off Borneo on Friday in the hunt for the black box flight recorders from a crashed Indonesia AirAsia passenger jet.',\n",
       "  u'source': u'Reuters',\n",
       "  u'subsection_name': u'Asia Pacific',\n",
       "  u'type_of_material': u'News',\n",
       "  u'web_url': u'http://www.nytimes.com/reuters/2015/01/01/world/asia/01reuters-indonesia-airplane.html',\n",
       "  u'word_count': u'859'},\n",
       " {u'_id': u'54a50cd738f0d83a07dc661c',\n",
       "  u'abstract': None,\n",
       "  u'blog': [],\n",
       "  u'byline': {u'organization': u'THE ASSOCIATED PRESS',\n",
       "   u'original': u'By THE ASSOCIATED PRESS',\n",
       "   u'person': []},\n",
       "  u'document_type': u'article',\n",
       "  u'headline': {u'main': u'Russians Optimistic for 2015 Despite It All',\n",
       "   u'print_headline': u'Russians Optimistic for 2015 Despite It All'},\n",
       "  u'keywords': [],\n",
       "  u'lead_paragraph': u\"At the vast skating rink in Moscow's Gorky Park, Russians say they're looking forward to a 2015 that will be as smooth as the ice, despite the country's economic and political difficulties. The ruble has sunk, tensions with the West are up, but the troubles seem to have produced a surge in national pride.\",\n",
       "  u'multimedia': [],\n",
       "  u'news_desk': u'None',\n",
       "  u'print_page': None,\n",
       "  u'pub_date': u'2015-01-01T03:57:16Z',\n",
       "  u'section_name': u'World',\n",
       "  u'snippet': u\"At the vast skating rink in Moscow's Gorky Park, Russians say they're looking forward to a 2015 that will be as smooth as the ice, despite the country's economic and political difficulties. The ruble has sunk, tensions with the West are up, but the...\",\n",
       "  u'source': u'AP',\n",
       "  u'subsection_name': u'Europe',\n",
       "  u'type_of_material': u'News',\n",
       "  u'web_url': u'http://www.nytimes.com/aponline/2015/01/01/world/europe/ap-eu-russia-new-year-mood.html',\n",
       "  u'word_count': u'796'},\n",
       " {u'_id': u'54a53d4938f0d83a07dc70fb',\n",
       "  u'abstract': None,\n",
       "  u'blog': [],\n",
       "  u'byline': {u'organization': u'REUTERS',\n",
       "   u'original': u'By REUTERS',\n",
       "   u'person': []},\n",
       "  u'document_type': u'article',\n",
       "  u'headline': {u'main': u'Ukraine Says Rebels Keep Up Attacks Into New Year',\n",
       "   u'print_headline': u'Ukraine Says Rebels Keep Up Attacks Into New Year'},\n",
       "  u'keywords': [],\n",
       "  u'lead_paragraph': u'Ukrainian separatists carried out sporadic attacks on government forces as the New Year began, wounding three soldiers, the Kiev military said, as President Petro Poroshenko told the nation to  brace for a year that would \"not be easy\".',\n",
       "  u'multimedia': [],\n",
       "  u'news_desk': u'None',\n",
       "  u'print_page': None,\n",
       "  u'pub_date': u'2015-01-01T07:25:20Z',\n",
       "  u'section_name': u'World',\n",
       "  u'snippet': u'Ukrainian separatists carried out sporadic attacks on government forces as the New Year began, wounding three soldiers, the Kiev military said, as President Petro Poroshenko told the nation to  brace for a year that would \"not be easy\".',\n",
       "  u'source': u'Reuters',\n",
       "  u'subsection_name': u'Europe',\n",
       "  u'type_of_material': u'News',\n",
       "  u'web_url': u'http://www.nytimes.com/reuters/2015/01/01/world/europe/01reuters-ukraine-crisis-conflict.html',\n",
       "  u'word_count': u'401'},\n",
       " {u'_id': u'54a5424138f0d83a07dc7223',\n",
       "  u'abstract': None,\n",
       "  u'blog': [],\n",
       "  u'byline': {u'organization': u'THE ASSOCIATED PRESS',\n",
       "   u'original': u'By THE ASSOCIATED PRESS',\n",
       "   u'person': []},\n",
       "  u'document_type': u'article',\n",
       "  u'headline': {u'main': u'Troubled EU Hoping the Only Way Is Up in 2015',\n",
       "   u'print_headline': u'Troubled EU Hoping the Only Way Is Up in 2015'},\n",
       "  u'keywords': [],\n",
       "  u'lead_paragraph': u'Beset by critics and buffeted by economic woes, European Union chiefs might have been forgiven for thinking that at least Pope Francis would apply some balm for the New Year in his address to the EU parliament.',\n",
       "  u'multimedia': [],\n",
       "  u'news_desk': u'None',\n",
       "  u'print_page': None,\n",
       "  u'pub_date': u'2015-01-01T07:44:52Z',\n",
       "  u'section_name': u'World',\n",
       "  u'snippet': u'Beset by critics and buffeted by economic woes, European Union chiefs might have been forgiven for thinking that at least Pope Francis would apply some balm for the New Year in his address to the EU parliament.',\n",
       "  u'source': u'AP',\n",
       "  u'subsection_name': u'Europe',\n",
       "  u'type_of_material': u'News',\n",
       "  u'web_url': u'http://www.nytimes.com/aponline/2015/01/01/world/europe/ap-eu-europes-new-year-.html',\n",
       "  u'word_count': u'694'},\n",
       " {u'_id': u'54a558b838f0d83a07dc771d',\n",
       "  u'abstract': None,\n",
       "  u'blog': [],\n",
       "  u'byline': {u'organization': u'REUTERS',\n",
       "   u'original': u'By REUTERS',\n",
       "   u'person': []},\n",
       "  u'document_type': u'article',\n",
       "  u'headline': {u'main': u'Latvia Takes EU Reins Focused on Growth Plan, Border Defense',\n",
       "   u'print_headline': u'Latvia Takes EU Reins Focused on Growth Plan, Border Defense'},\n",
       "  u'keywords': [],\n",
       "  u'lead_paragraph': u\"Latvia took over the six-month rotating presidency of the European Union on Thursday, pledging to launch a 315 billion euro ($381 billion) investment plan for the bloc and hoping to start a review of Europe's border defense.\",\n",
       "  u'multimedia': [],\n",
       "  u'news_desk': u'None',\n",
       "  u'print_page': None,\n",
       "  u'pub_date': u'2015-01-01T09:21:27Z',\n",
       "  u'section_name': u'World',\n",
       "  u'snippet': u\"Latvia took over the six-month rotating presidency of the European Union on Thursday, pledging to launch a 315 billion euro ($381 billion) investment plan for the bloc and hoping to start a review of Europe's border defense.\",\n",
       "  u'source': u'Reuters',\n",
       "  u'subsection_name': u'Europe',\n",
       "  u'type_of_material': u'News',\n",
       "  u'web_url': u'http://www.nytimes.com/reuters/2015/01/01/world/europe/01reuters-eu-latvia.html',\n",
       "  u'word_count': u'286'},\n",
       " {u'_id': u'54a5758f38f0d83a07dc7d93',\n",
       "  u'abstract': None,\n",
       "  u'blog': [],\n",
       "  u'byline': {u'organization': u'THE ASSOCIATED PRESS',\n",
       "   u'original': u'By THE ASSOCIATED PRESS',\n",
       "   u'person': []},\n",
       "  u'document_type': u'article',\n",
       "  u'headline': {u'main': u'Troubled EU Hoping the Only Way Is Up in 2015',\n",
       "   u'print_headline': u'Troubled EU Hoping the Only Way Is Up in 2015'},\n",
       "  u'keywords': [],\n",
       "  u'lead_paragraph': u'Beset by critics and buffeted by economic woes, European Union chiefs might have been forgiven for thinking that at least Pope Francis would apply some balm for the New Year in his address to the EU parliament.',\n",
       "  u'multimedia': [],\n",
       "  u'news_desk': u'None',\n",
       "  u'print_page': None,\n",
       "  u'pub_date': u'2015-01-01T11:26:15Z',\n",
       "  u'section_name': u'Business Day',\n",
       "  u'snippet': u'Beset by critics and buffeted by economic woes, European Union chiefs might have been forgiven for thinking that at least Pope Francis would apply some balm for the New Year in his address to the EU parliament.',\n",
       "  u'source': u'AP',\n",
       "  u'subsection_name': None,\n",
       "  u'type_of_material': u'News',\n",
       "  u'web_url': u'http://www.nytimes.com/aponline/2015/01/01/business/ap-eu-europes-new-year.html',\n",
       "  u'word_count': u'694'},\n",
       " {u'_id': u'54a57bad38f0d83a07dc7ef1',\n",
       "  u'abstract': None,\n",
       "  u'blog': [],\n",
       "  u'byline': {u'original': u'PBS Home Video',\n",
       "   u'person': [{u'firstname': u'Pbs',\n",
       "     u'lastname': u'Video',\n",
       "     u'middlename': u'Home',\n",
       "     u'organization': u'',\n",
       "     u'rank': 1,\n",
       "     u'role': u'reported'}]},\n",
       "  u'document_type': u'multimedia',\n",
       "  u'headline': {u'main': u\"The English Surgeon: One Doctor's Personal Mission To Save Lives In The Ukraine\"},\n",
       "  u'keywords': [],\n",
       "  u'lead_paragraph': u'',\n",
       "  u'multimedia': [{u'height': 126,\n",
       "    u'legacy': {u'wide': u'images/2014/02/03/movies/video-the-english-surgeon-one-doctors-personal-mission-to-save-lives-i/video-the-english-surgeon-one-doctors-personal-mission-to-save-lives-i-thumbWide.jpg',\n",
       "     u'wideheight': u'126',\n",
       "     u'widewidth': u'190'},\n",
       "    u'subtype': u'wide',\n",
       "    u'type': u'image',\n",
       "    u'url': u'images/2014/02/03/movies/video-the-english-surgeon-one-doctors-personal-mission-to-save-lives-i/video-the-english-surgeon-one-doctors-personal-mission-to-save-lives-i-thumbWide.jpg',\n",
       "    u'width': 190},\n",
       "   {u'height': 338,\n",
       "    u'legacy': {u'xlarge': u'images/2014/02/03/movies/video-the-english-surgeon-one-doctors-personal-mission-to-save-lives-i/video-the-english-surgeon-one-doctors-personal-mission-to-save-lives-i-articleLarge.jpg',\n",
       "     u'xlargeheight': u'338',\n",
       "     u'xlargewidth': u'600'},\n",
       "    u'subtype': u'xlarge',\n",
       "    u'type': u'image',\n",
       "    u'url': u'images/2014/02/03/movies/video-the-english-surgeon-one-doctors-personal-mission-to-save-lives-i/video-the-english-surgeon-one-doctors-personal-mission-to-save-lives-i-articleLarge.jpg',\n",
       "    u'width': 600},\n",
       "   {u'height': 75,\n",
       "    u'legacy': {u'thumbnail': u'images/2014/02/03/movies/video-the-english-surgeon-one-doctors-personal-mission-to-save-lives-i/video-the-english-surgeon-one-doctors-personal-mission-to-save-lives-i-thumbStandard.jpg',\n",
       "     u'thumbnailheight': u'75',\n",
       "     u'thumbnailwidth': u'75'},\n",
       "    u'subtype': u'thumbnail',\n",
       "    u'type': u'image',\n",
       "    u'url': u'images/2014/02/03/movies/video-the-english-surgeon-one-doctors-personal-mission-to-save-lives-i/video-the-english-surgeon-one-doctors-personal-mission-to-save-lives-i-thumbStandard.jpg',\n",
       "    u'width': 75}],\n",
       "  u'news_desk': u'Movies',\n",
       "  u'print_page': None,\n",
       "  u'pub_date': u'2015-01-01T11:53:55Z',\n",
       "  u'section_name': u'Movies',\n",
       "  u'snippet': u'',\n",
       "  u'source': u'Internet Video Archive',\n",
       "  u'subsection_name': None,\n",
       "  u'type_of_material': u'Video',\n",
       "  u'web_url': u'http://www.nytimes.com/video/movies/100000003386534/the-english-surgeon-one-doctors-personal-mission-to-save-lives-i.html',\n",
       "  u'word_count': u'0'}]"
      ]
     },
     "execution_count": 11,
     "metadata": {},
     "output_type": "execute_result"
    }
   ],
   "source": [
    "json['response']['docs']"
   ]
  },
  {
   "cell_type": "code",
   "execution_count": 12,
   "metadata": {
    "collapsed": false,
    "slideshow": {
     "slide_type": "fragment"
    }
   },
   "outputs": [
    {
     "data": {
      "text/plain": [
       "4164"
      ]
     },
     "execution_count": 12,
     "metadata": {},
     "output_type": "execute_result"
    }
   ],
   "source": [
    "json['response']['meta']['hits']"
   ]
  },
  {
   "cell_type": "code",
   "execution_count": 14,
   "metadata": {
    "collapsed": false,
    "slideshow": {
     "slide_type": "slide"
    }
   },
   "outputs": [
    {
     "name": "stdout",
     "output_type": "stream",
     "text": [
      "2003 225\n",
      "2004 368\n",
      "2005 410\n",
      "2006 595\n",
      "2007 374\n",
      "2008 556\n",
      "2009 602\n",
      "2010 464\n",
      "2011 546\n",
      "2012 520\n",
      "2013 591\n",
      "2014 13578\n",
      "2015 4164\n"
     ]
    }
   ],
   "source": [
    "from time import sleep\n",
    "\n",
    "base_url = 'http://api.nytimes.com/svc/search/v2/articlesearch.json?'\n",
    "\n",
    "years = [2003, 2004, 2005, 2006, 2007, 2008, 2009, 2010, 2011, 2012, 2013, 2014, 2015]\n",
    "\n",
    "for year in years:\n",
    "    year_string = str(year)\n",
    "    payload = { 'q'         : 'Ukraine', \n",
    "                'begin_date':  year_string + '0101',\n",
    "                'end_date'  :  year_string + '1231',\n",
    "                'api-key'   :  my_times_api_key,\n",
    "                'sort'      : 'newest' ,\n",
    "                'page'      :  0}\n",
    "    \n",
    "    r = requests.get(base_url, params = payload)\n",
    "    json = r.json()\n",
    "    count  = json['response']['meta']['hits']\n",
    "    print year, count\n",
    "    sleep(.1)"
   ]
  },
  {
   "cell_type": "code",
   "execution_count": 19,
   "metadata": {
    "collapsed": false,
    "slideshow": {
     "slide_type": "skip"
    }
   },
   "outputs": [],
   "source": [
    "from time import sleep\n",
    "\n",
    "base_url = 'http://api.nytimes.com/svc/search/v2/articlesearch.json?'\n",
    "\n",
    "payload = { 'q'         : 'Ukraine', \n",
    "            'api-key'   :  my_times_api_key,\n",
    "            'sort'      : 'newest' ,\n",
    "            'page'      :  0}\n",
    "    \n",
    "years = [2003, 2004, 2005, 2006, 2007, 2008, 2009, 2010, 2011, 2012, 2013, 2014, 2015]\n",
    "counts = []\n",
    "for year in years:\n",
    " \n",
    "    \n",
    "    year_string = str(year)\n",
    "    payload['begin_date'] = year_string + '0101'\n",
    "    payload['end_date']   = year_string + '1231'\n",
    "    r = requests.get(base_url, params = payload)\n",
    "    json = r.json()\n",
    "    count  = json['response']['meta']['hits']\n",
    "    counts.append(count)\n",
    "    sleep(.1)   "
   ]
  },
  {
   "cell_type": "markdown",
   "metadata": {
    "slideshow": {
     "slide_type": "slide"
    }
   },
   "source": [
    "This can be plotted in Python."
   ]
  },
  {
   "cell_type": "code",
   "execution_count": 20,
   "metadata": {
    "collapsed": false,
    "slideshow": {
     "slide_type": "fragment"
    }
   },
   "outputs": [
    {
     "name": "stdout",
     "output_type": "stream",
     "text": [
      "Populating the interactive namespace from numpy and matplotlib\n"
     ]
    },
    {
     "data": {
      "image/png": "[encoded data removed]",
      "text/plain": [
       "<matplotlib.figure.Figure at 0xb066eb8>"
      ]
     },
     "metadata": {},
     "output_type": "display_data"
    }
   ],
   "source": [
    "%pylab inline\n",
    "import matplotlib.pyplot as plt\n",
    "\n",
    "plt.scatter(years,counts)\n",
    "plt.ticklabel_format(useOffset=False)"
   ]
  }
 ],
 "metadata": {
  "kernelspec": {
   "display_name": "Python 2",
   "language": "python",
   "name": "python2"
  },
  "language_info": {
   "codemirror_mode": {
    "name": "ipython",
    "version": 2
   },
   "file_extension": ".py",
   "mimetype": "text/x-python",
   "name": "python",
   "nbconvert_exporter": "python",
   "pygments_lexer": "ipython2",
   "version": "2.7.12"
  }
 },
 "nbformat": 4,
 "nbformat_minor": 0
}
